{
  "cells": [
    {
      "cell_type": "code",
      "execution_count": null,
      "metadata": {
        "id": "iRdGfyVKx3Uq"
      },
      "outputs": [],
      "source": [
        "\n",
        "import os\n",
        "import subprocess\n",
        "import pandas as pd\n",
        "import numpy as np\n",
        "import matplotlib.pyplot as plt\n",
        "%matplotlib inline\n",
        "import warnings\n",
        "warnings.filterwarnings('ignore')\n",
        "import seaborn as sns\n",
        "from sklearn.model_selection import train_test_split\n",
        "from sklearn.preprocessing import StandardScaler\n",
        "from imblearn.over_sampling import SMOTE\n",
        "from imblearn.under_sampling import NeighbourhoodCleaningRule\n",
        "from imblearn.under_sampling import NearMiss\n",
        "from sklearn.feature_selection import RFE\n",
        "from sklearn.ensemble import RandomForestClassifier\n",
        "from sklearn.model_selection import RandomizedSearchCV\n",
        "from sklearn.discriminant_analysis import LinearDiscriminantAnalysis as LDA\n",
        "from sklearn.decomposition import PCA, KernelPCA\n",
        "from sklearn.tree import DecisionTreeClassifier\n",
        "from sklearn import tree\n",
        "from sklearn.svm import SVC\n",
        "from sklearn.neighbors import KNeighborsClassifier\n",
        "from sklearn.pipeline import Pipeline\n",
        "from sklearn.metrics import confusion_matrix, ConfusionMatrixDisplay, classification_report\n",
        "from sklearn.metrics import accuracy_score\n",
        "from sklearn.metrics import precision_score\n",
        "from sklearn.metrics import recall_score\n",
        "from sklearn.metrics import f1_score\n",
        "from sklearn.metrics import roc_auc_score\n",
        "from sklearn.metrics import cohen_kappa_score\n",
        "from sklearn import metrics\n",
        "from sklearn.model_selection import GridSearchCV\n",
        "from sklearn.naive_bayes import GaussianNB\n",
        "from sklearn.metrics import roc_curve, auc\n",
        "from sklearn.metrics import roc_auc_score\n",
        "import pickle"
      ]
    },
    {
      "cell_type": "code",
      "execution_count": null,
      "metadata": {
        "id": "cd-PaRjtPziT"
      },
      "outputs": [],
      "source": []
    },
    {
      "cell_type": "code",
      "execution_count": null,
      "metadata": {
        "colab": {
          "base_uri": "https://localhost:8080/"
        },
        "id": "2KaeKt0QzJLe",
        "outputId": "d8a6bc76-f03f-4b52-c840-a121dd2b5d56"
      },
      "outputs": [
        {
          "output_type": "stream",
          "name": "stdout",
          "text": [
            "Mounted at /content/gdrive\n"
          ]
        }
      ],
      "source": [
        "from google.colab import drive\n",
        "drive.mount('/content/gdrive')"
      ]
    },
    {
      "cell_type": "code",
      "execution_count": null,
      "metadata": {
        "colab": {
          "base_uri": "https://localhost:8080/"
        },
        "id": "taYmzeb9o2O0",
        "outputId": "9a8f6773-5dbf-4e9f-bb49-4a0ff378d2f3"
      },
      "outputs": [
        {
          "output_type": "stream",
          "name": "stdout",
          "text": [
            "Mounted at /content/gdrive\n"
          ]
        }
      ],
      "source": [
        "drive.mount(\"/content/gdrive\", force_remount=True)"
      ]
    },
    {
      "cell_type": "code",
      "source": [],
      "metadata": {
        "id": "m1OOzyPmjbQ0"
      },
      "execution_count": null,
      "outputs": []
    },
    {
      "cell_type": "code",
      "execution_count": null,
      "metadata": {
        "colab": {
          "base_uri": "https://localhost:8080/"
        },
        "id": "We4kay2rzyd_",
        "outputId": "4eb63b06-763e-4a7b-d655-7e9cb9182470"
      },
      "outputs": [
        {
          "output_type": "stream",
          "name": "stdout",
          "text": [
            "Archive:  gdrive/MyDrive/train.zip\n",
            "  inflating: train_timeseries.csv    \n"
          ]
        }
      ],
      "source": [
        "\n",
        "!unzip gdrive/My\\Drive/train"
      ]
    },
    {
      "cell_type": "code",
      "execution_count": null,
      "metadata": {
        "id": "b4DcyNkjzqJO"
      },
      "outputs": [],
      "source": [
        "df=pd.read_csv('train_timeseries.csv')"
      ]
    },
    {
      "cell_type": "code",
      "execution_count": null,
      "metadata": {
        "id": "ziwpKPhVLwyo",
        "colab": {
          "base_uri": "https://localhost:8080/",
          "height": 386
        },
        "outputId": "8d4d18cc-0860-4a95-93c8-d2fbfa1c8966"
      },
      "outputs": [
        {
          "output_type": "execute_result",
          "data": {
            "text/plain": [
              "   fips        date  PRECTOT      PS   QV2M    T2M  T2MDEW  T2MWET  T2M_MAX  \\\n",
              "0  1001  2000-01-01     0.22  100.51   9.65  14.74   13.51   13.51    20.96   \n",
              "1  1001  2000-01-02     0.20  100.55  10.42  16.69   14.71   14.71    22.80   \n",
              "2  1001  2000-01-03     3.65  100.15  11.76  18.49   16.52   16.52    22.73   \n",
              "3  1001  2000-01-04    15.95  100.29   6.42  11.40    6.09    6.10    18.09   \n",
              "4  1001  2000-01-05     0.00  101.15   2.95   3.86   -3.29   -3.20    10.82   \n",
              "\n",
              "   T2M_MIN  ...     TS  WS10M  WS10M_MAX  WS10M_MIN  WS10M_RANGE  WS50M  \\\n",
              "0    11.46  ...  14.65   2.20       2.94       1.49         1.46   4.85   \n",
              "1    12.61  ...  16.60   2.52       3.43       1.83         1.60   5.33   \n",
              "2    15.32  ...  18.41   4.03       5.33       2.66         2.67   7.53   \n",
              "3     2.16  ...  11.31   3.84       5.67       2.08         3.59   6.73   \n",
              "4    -2.66  ...   2.65   1.60       2.50       0.52         1.98   2.94   \n",
              "\n",
              "   WS50M_MAX  WS50M_MIN  WS50M_RANGE  score  \n",
              "0       6.04       3.23         2.81    NaN  \n",
              "1       6.13       3.72         2.41    NaN  \n",
              "2       9.52       5.87         3.66    NaN  \n",
              "3       9.31       3.74         5.58    1.0  \n",
              "4       4.85       0.65         4.19    NaN  \n",
              "\n",
              "[5 rows x 21 columns]"
            ],
            "text/html": [
              "\n",
              "  <div id=\"df-a20bc0d9-d9c4-40e0-b5a8-068cef8c464f\">\n",
              "    <div class=\"colab-df-container\">\n",
              "      <div>\n",
              "<style scoped>\n",
              "    .dataframe tbody tr th:only-of-type {\n",
              "        vertical-align: middle;\n",
              "    }\n",
              "\n",
              "    .dataframe tbody tr th {\n",
              "        vertical-align: top;\n",
              "    }\n",
              "\n",
              "    .dataframe thead th {\n",
              "        text-align: right;\n",
              "    }\n",
              "</style>\n",
              "<table border=\"1\" class=\"dataframe\">\n",
              "  <thead>\n",
              "    <tr style=\"text-align: right;\">\n",
              "      <th></th>\n",
              "      <th>fips</th>\n",
              "      <th>date</th>\n",
              "      <th>PRECTOT</th>\n",
              "      <th>PS</th>\n",
              "      <th>QV2M</th>\n",
              "      <th>T2M</th>\n",
              "      <th>T2MDEW</th>\n",
              "      <th>T2MWET</th>\n",
              "      <th>T2M_MAX</th>\n",
              "      <th>T2M_MIN</th>\n",
              "      <th>...</th>\n",
              "      <th>TS</th>\n",
              "      <th>WS10M</th>\n",
              "      <th>WS10M_MAX</th>\n",
              "      <th>WS10M_MIN</th>\n",
              "      <th>WS10M_RANGE</th>\n",
              "      <th>WS50M</th>\n",
              "      <th>WS50M_MAX</th>\n",
              "      <th>WS50M_MIN</th>\n",
              "      <th>WS50M_RANGE</th>\n",
              "      <th>score</th>\n",
              "    </tr>\n",
              "  </thead>\n",
              "  <tbody>\n",
              "    <tr>\n",
              "      <th>0</th>\n",
              "      <td>1001</td>\n",
              "      <td>2000-01-01</td>\n",
              "      <td>0.22</td>\n",
              "      <td>100.51</td>\n",
              "      <td>9.65</td>\n",
              "      <td>14.74</td>\n",
              "      <td>13.51</td>\n",
              "      <td>13.51</td>\n",
              "      <td>20.96</td>\n",
              "      <td>11.46</td>\n",
              "      <td>...</td>\n",
              "      <td>14.65</td>\n",
              "      <td>2.20</td>\n",
              "      <td>2.94</td>\n",
              "      <td>1.49</td>\n",
              "      <td>1.46</td>\n",
              "      <td>4.85</td>\n",
              "      <td>6.04</td>\n",
              "      <td>3.23</td>\n",
              "      <td>2.81</td>\n",
              "      <td>NaN</td>\n",
              "    </tr>\n",
              "    <tr>\n",
              "      <th>1</th>\n",
              "      <td>1001</td>\n",
              "      <td>2000-01-02</td>\n",
              "      <td>0.20</td>\n",
              "      <td>100.55</td>\n",
              "      <td>10.42</td>\n",
              "      <td>16.69</td>\n",
              "      <td>14.71</td>\n",
              "      <td>14.71</td>\n",
              "      <td>22.80</td>\n",
              "      <td>12.61</td>\n",
              "      <td>...</td>\n",
              "      <td>16.60</td>\n",
              "      <td>2.52</td>\n",
              "      <td>3.43</td>\n",
              "      <td>1.83</td>\n",
              "      <td>1.60</td>\n",
              "      <td>5.33</td>\n",
              "      <td>6.13</td>\n",
              "      <td>3.72</td>\n",
              "      <td>2.41</td>\n",
              "      <td>NaN</td>\n",
              "    </tr>\n",
              "    <tr>\n",
              "      <th>2</th>\n",
              "      <td>1001</td>\n",
              "      <td>2000-01-03</td>\n",
              "      <td>3.65</td>\n",
              "      <td>100.15</td>\n",
              "      <td>11.76</td>\n",
              "      <td>18.49</td>\n",
              "      <td>16.52</td>\n",
              "      <td>16.52</td>\n",
              "      <td>22.73</td>\n",
              "      <td>15.32</td>\n",
              "      <td>...</td>\n",
              "      <td>18.41</td>\n",
              "      <td>4.03</td>\n",
              "      <td>5.33</td>\n",
              "      <td>2.66</td>\n",
              "      <td>2.67</td>\n",
              "      <td>7.53</td>\n",
              "      <td>9.52</td>\n",
              "      <td>5.87</td>\n",
              "      <td>3.66</td>\n",
              "      <td>NaN</td>\n",
              "    </tr>\n",
              "    <tr>\n",
              "      <th>3</th>\n",
              "      <td>1001</td>\n",
              "      <td>2000-01-04</td>\n",
              "      <td>15.95</td>\n",
              "      <td>100.29</td>\n",
              "      <td>6.42</td>\n",
              "      <td>11.40</td>\n",
              "      <td>6.09</td>\n",
              "      <td>6.10</td>\n",
              "      <td>18.09</td>\n",
              "      <td>2.16</td>\n",
              "      <td>...</td>\n",
              "      <td>11.31</td>\n",
              "      <td>3.84</td>\n",
              "      <td>5.67</td>\n",
              "      <td>2.08</td>\n",
              "      <td>3.59</td>\n",
              "      <td>6.73</td>\n",
              "      <td>9.31</td>\n",
              "      <td>3.74</td>\n",
              "      <td>5.58</td>\n",
              "      <td>1.0</td>\n",
              "    </tr>\n",
              "    <tr>\n",
              "      <th>4</th>\n",
              "      <td>1001</td>\n",
              "      <td>2000-01-05</td>\n",
              "      <td>0.00</td>\n",
              "      <td>101.15</td>\n",
              "      <td>2.95</td>\n",
              "      <td>3.86</td>\n",
              "      <td>-3.29</td>\n",
              "      <td>-3.20</td>\n",
              "      <td>10.82</td>\n",
              "      <td>-2.66</td>\n",
              "      <td>...</td>\n",
              "      <td>2.65</td>\n",
              "      <td>1.60</td>\n",
              "      <td>2.50</td>\n",
              "      <td>0.52</td>\n",
              "      <td>1.98</td>\n",
              "      <td>2.94</td>\n",
              "      <td>4.85</td>\n",
              "      <td>0.65</td>\n",
              "      <td>4.19</td>\n",
              "      <td>NaN</td>\n",
              "    </tr>\n",
              "  </tbody>\n",
              "</table>\n",
              "<p>5 rows × 21 columns</p>\n",
              "</div>\n",
              "      <button class=\"colab-df-convert\" onclick=\"convertToInteractive('df-a20bc0d9-d9c4-40e0-b5a8-068cef8c464f')\"\n",
              "              title=\"Convert this dataframe to an interactive table.\"\n",
              "              style=\"display:none;\">\n",
              "        \n",
              "  <svg xmlns=\"http://www.w3.org/2000/svg\" height=\"24px\"viewBox=\"0 0 24 24\"\n",
              "       width=\"24px\">\n",
              "    <path d=\"M0 0h24v24H0V0z\" fill=\"none\"/>\n",
              "    <path d=\"M18.56 5.44l.94 2.06.94-2.06 2.06-.94-2.06-.94-.94-2.06-.94 2.06-2.06.94zm-11 1L8.5 8.5l.94-2.06 2.06-.94-2.06-.94L8.5 2.5l-.94 2.06-2.06.94zm10 10l.94 2.06.94-2.06 2.06-.94-2.06-.94-.94-2.06-.94 2.06-2.06.94z\"/><path d=\"M17.41 7.96l-1.37-1.37c-.4-.4-.92-.59-1.43-.59-.52 0-1.04.2-1.43.59L10.3 9.45l-7.72 7.72c-.78.78-.78 2.05 0 2.83L4 21.41c.39.39.9.59 1.41.59.51 0 1.02-.2 1.41-.59l7.78-7.78 2.81-2.81c.8-.78.8-2.07 0-2.86zM5.41 20L4 18.59l7.72-7.72 1.47 1.35L5.41 20z\"/>\n",
              "  </svg>\n",
              "      </button>\n",
              "      \n",
              "  <style>\n",
              "    .colab-df-container {\n",
              "      display:flex;\n",
              "      flex-wrap:wrap;\n",
              "      gap: 12px;\n",
              "    }\n",
              "\n",
              "    .colab-df-convert {\n",
              "      background-color: #E8F0FE;\n",
              "      border: none;\n",
              "      border-radius: 50%;\n",
              "      cursor: pointer;\n",
              "      display: none;\n",
              "      fill: #1967D2;\n",
              "      height: 32px;\n",
              "      padding: 0 0 0 0;\n",
              "      width: 32px;\n",
              "    }\n",
              "\n",
              "    .colab-df-convert:hover {\n",
              "      background-color: #E2EBFA;\n",
              "      box-shadow: 0px 1px 2px rgba(60, 64, 67, 0.3), 0px 1px 3px 1px rgba(60, 64, 67, 0.15);\n",
              "      fill: #174EA6;\n",
              "    }\n",
              "\n",
              "    [theme=dark] .colab-df-convert {\n",
              "      background-color: #3B4455;\n",
              "      fill: #D2E3FC;\n",
              "    }\n",
              "\n",
              "    [theme=dark] .colab-df-convert:hover {\n",
              "      background-color: #434B5C;\n",
              "      box-shadow: 0px 1px 3px 1px rgba(0, 0, 0, 0.15);\n",
              "      filter: drop-shadow(0px 1px 2px rgba(0, 0, 0, 0.3));\n",
              "      fill: #FFFFFF;\n",
              "    }\n",
              "  </style>\n",
              "\n",
              "      <script>\n",
              "        const buttonEl =\n",
              "          document.querySelector('#df-a20bc0d9-d9c4-40e0-b5a8-068cef8c464f button.colab-df-convert');\n",
              "        buttonEl.style.display =\n",
              "          google.colab.kernel.accessAllowed ? 'block' : 'none';\n",
              "\n",
              "        async function convertToInteractive(key) {\n",
              "          const element = document.querySelector('#df-a20bc0d9-d9c4-40e0-b5a8-068cef8c464f');\n",
              "          const dataTable =\n",
              "            await google.colab.kernel.invokeFunction('convertToInteractive',\n",
              "                                                     [key], {});\n",
              "          if (!dataTable) return;\n",
              "\n",
              "          const docLinkHtml = 'Like what you see? Visit the ' +\n",
              "            '<a target=\"_blank\" href=https://colab.research.google.com/notebooks/data_table.ipynb>data table notebook</a>'\n",
              "            + ' to learn more about interactive tables.';\n",
              "          element.innerHTML = '';\n",
              "          dataTable['output_type'] = 'display_data';\n",
              "          await google.colab.output.renderOutput(dataTable, element);\n",
              "          const docLink = document.createElement('div');\n",
              "          docLink.innerHTML = docLinkHtml;\n",
              "          element.appendChild(docLink);\n",
              "        }\n",
              "      </script>\n",
              "    </div>\n",
              "  </div>\n",
              "  "
            ]
          },
          "metadata": {},
          "execution_count": 6
        }
      ],
      "source": [
        "df.head()"
      ]
    },
    {
      "cell_type": "markdown",
      "metadata": {
        "id": "wuQlgmtCLwAu"
      },
      "source": []
    },
    {
      "cell_type": "code",
      "execution_count": null,
      "metadata": {
        "colab": {
          "base_uri": "https://localhost:8080/"
        },
        "id": "E2nj23a7OnVz",
        "outputId": "029bb7a4-c1d1-4879-cc53-1baae6e2884d"
      },
      "outputs": [
        {
          "output_type": "execute_result",
          "data": {
            "text/plain": [
              "(19300680, 21)"
            ]
          },
          "metadata": {},
          "execution_count": 7
        }
      ],
      "source": [
        "df.shape"
      ]
    },
    {
      "cell_type": "code",
      "execution_count": null,
      "metadata": {
        "colab": {
          "base_uri": "https://localhost:8080/"
        },
        "id": "xgrKOiqZbTo8",
        "outputId": "d2f85eea-41f7-41d5-a138-5c3d170958e9"
      },
      "outputs": [
        {
          "output_type": "stream",
          "name": "stdout",
          "text": [
            "<class 'pandas.core.frame.DataFrame'>\n",
            "RangeIndex: 19300680 entries, 0 to 19300679\n",
            "Data columns (total 21 columns):\n",
            " #   Column       Dtype  \n",
            "---  ------       -----  \n",
            " 0   fips         int64  \n",
            " 1   date         object \n",
            " 2   PRECTOT      float64\n",
            " 3   PS           float64\n",
            " 4   QV2M         float64\n",
            " 5   T2M          float64\n",
            " 6   T2MDEW       float64\n",
            " 7   T2MWET       float64\n",
            " 8   T2M_MAX      float64\n",
            " 9   T2M_MIN      float64\n",
            " 10  T2M_RANGE    float64\n",
            " 11  TS           float64\n",
            " 12  WS10M        float64\n",
            " 13  WS10M_MAX    float64\n",
            " 14  WS10M_MIN    float64\n",
            " 15  WS10M_RANGE  float64\n",
            " 16  WS50M        float64\n",
            " 17  WS50M_MAX    float64\n",
            " 18  WS50M_MIN    float64\n",
            " 19  WS50M_RANGE  float64\n",
            " 20  score        float64\n",
            "dtypes: float64(19), int64(1), object(1)\n",
            "memory usage: 3.0+ GB\n"
          ]
        }
      ],
      "source": [
        "df.info() "
      ]
    },
    {
      "cell_type": "code",
      "execution_count": null,
      "metadata": {
        "colab": {
          "base_uri": "https://localhost:8080/"
        },
        "id": "5SmdMXZzbpBB",
        "outputId": "1be479a0-b8c8-4755-c20b-af3e84c4e254"
      },
      "outputs": [
        {
          "output_type": "execute_result",
          "data": {
            "text/plain": [
              "fips                  0\n",
              "date                  0\n",
              "PRECTOT               0\n",
              "PS                    0\n",
              "QV2M                  0\n",
              "T2M                   0\n",
              "T2MDEW                0\n",
              "T2MWET                0\n",
              "T2M_MAX               0\n",
              "T2M_MIN               0\n",
              "T2M_RANGE             0\n",
              "TS                    0\n",
              "WS10M                 0\n",
              "WS10M_MAX             0\n",
              "WS10M_MIN             0\n",
              "WS10M_RANGE           0\n",
              "WS50M                 0\n",
              "WS50M_MAX             0\n",
              "WS50M_MIN             0\n",
              "WS50M_RANGE           0\n",
              "score          16543884\n",
              "dtype: int64"
            ]
          },
          "metadata": {},
          "execution_count": 9
        }
      ],
      "source": [
        "df.isnull().sum()"
      ]
    },
    {
      "cell_type": "code",
      "execution_count": null,
      "metadata": {
        "colab": {
          "base_uri": "https://localhost:8080/"
        },
        "id": "aXV0-P9ASbqR",
        "outputId": "723a993d-8d34-4164-949f-13455f8e2e56"
      },
      "outputs": [
        {
          "output_type": "execute_result",
          "data": {
            "text/plain": [
              "fips           0\n",
              "date           0\n",
              "PRECTOT        0\n",
              "PS             0\n",
              "QV2M           0\n",
              "T2M            0\n",
              "T2MDEW         0\n",
              "T2MWET         0\n",
              "T2M_MAX        0\n",
              "T2M_MIN        0\n",
              "T2M_RANGE      0\n",
              "TS             0\n",
              "WS10M          0\n",
              "WS10M_MAX      0\n",
              "WS10M_MIN      0\n",
              "WS10M_RANGE    0\n",
              "WS50M          0\n",
              "WS50M_MAX      0\n",
              "WS50M_MIN      0\n",
              "WS50M_RANGE    0\n",
              "score          0\n",
              "dtype: int64"
            ]
          },
          "metadata": {},
          "execution_count": 10
        }
      ],
      "source": [
        "df=df.dropna()\n",
        "df.isnull().sum()"
      ]
    },
    {
      "cell_type": "code",
      "execution_count": null,
      "metadata": {
        "colab": {
          "base_uri": "https://localhost:8080/"
        },
        "id": "6-2NKWMISzWJ",
        "outputId": "930aa0bd-9d47-4829-a3bf-90319c4b3baa"
      },
      "outputs": [
        {
          "output_type": "execute_result",
          "data": {
            "text/plain": [
              "fips             int64\n",
              "date            object\n",
              "PRECTOT        float64\n",
              "PS             float64\n",
              "QV2M           float64\n",
              "T2M            float64\n",
              "T2MDEW         float64\n",
              "T2MWET         float64\n",
              "T2M_MAX        float64\n",
              "T2M_MIN        float64\n",
              "T2M_RANGE      float64\n",
              "TS             float64\n",
              "WS10M          float64\n",
              "WS10M_MAX      float64\n",
              "WS10M_MIN      float64\n",
              "WS10M_RANGE    float64\n",
              "WS50M          float64\n",
              "WS50M_MAX      float64\n",
              "WS50M_MIN      float64\n",
              "WS50M_RANGE    float64\n",
              "score          float64\n",
              "dtype: object"
            ]
          },
          "metadata": {},
          "execution_count": 11
        }
      ],
      "source": [
        "df.dtypes"
      ]
    },
    {
      "cell_type": "code",
      "execution_count": null,
      "metadata": {
        "colab": {
          "base_uri": "https://localhost:8080/"
        },
        "id": "hn5ilXc3S44R",
        "outputId": "482e9ff8-98f2-418f-e8d5-ca92fb86c462"
      },
      "outputs": [
        {
          "output_type": "execute_result",
          "data": {
            "text/plain": [
              "fips             int64\n",
              "date            object\n",
              "PRECTOT        float64\n",
              "PS             float64\n",
              "QV2M           float64\n",
              "T2M            float64\n",
              "T2MDEW         float64\n",
              "T2MWET         float64\n",
              "T2M_MAX        float64\n",
              "T2M_MIN        float64\n",
              "T2M_RANGE      float64\n",
              "TS             float64\n",
              "WS10M          float64\n",
              "WS10M_MAX      float64\n",
              "WS10M_MIN      float64\n",
              "WS10M_RANGE    float64\n",
              "WS50M          float64\n",
              "WS50M_MAX      float64\n",
              "WS50M_MIN      float64\n",
              "WS50M_RANGE    float64\n",
              "score            int64\n",
              "year             int64\n",
              "month            int64\n",
              "day              int64\n",
              "dtype: object"
            ]
          },
          "metadata": {},
          "execution_count": 11
        }
      ],
      "source": [
        "df['year']=pd.DatetimeIndex(df['date']).year\n",
        "df['month']=pd.DatetimeIndex(df['date']).month\n",
        "df['day']=pd.DatetimeIndex(df['date']).day\n",
        "df['score']=df['score'].round().astype(int)\n",
        "df.dtypes"
      ]
    },
    {
      "cell_type": "code",
      "execution_count": null,
      "metadata": {
        "colab": {
          "base_uri": "https://localhost:8080/"
        },
        "id": "iyqYY064WUnl",
        "outputId": "b43d5b8c-3d8b-4352-e86b-273a782ecbc3"
      },
      "outputs": [
        {
          "output_type": "execute_result",
          "data": {
            "text/plain": [
              "3108"
            ]
          },
          "metadata": {},
          "execution_count": 12
        }
      ],
      "source": [
        "df['fips'].nunique()"
      ]
    },
    {
      "cell_type": "code",
      "execution_count": null,
      "metadata": {
        "colab": {
          "base_uri": "https://localhost:8080/"
        },
        "id": "pA3MF9uZWfcQ",
        "outputId": "6f202e9b-f582-4cc7-b8d6-fce54a8cc47c"
      },
      "outputs": [
        {
          "output_type": "execute_result",
          "data": {
            "text/plain": [
              "0    1652230\n",
              "1     466944\n",
              "2     295331\n",
              "3     196802\n",
              "4     106265\n",
              "5      39224\n",
              "Name: score, dtype: int64"
            ]
          },
          "metadata": {},
          "execution_count": 13
        }
      ],
      "source": [
        "df['score'].round().value_counts()"
      ]
    },
    {
      "cell_type": "code",
      "execution_count": null,
      "metadata": {
        "colab": {
          "base_uri": "https://localhost:8080/",
          "height": 394
        },
        "id": "WLmO51TyO3yN",
        "outputId": "0c9073e0-bb26-4205-972b-85f862af5388"
      },
      "outputs": [
        {
          "output_type": "execute_result",
          "data": {
            "text/plain": [
              "               fips       PRECTOT            PS          QV2M           T2M  \\\n",
              "count  2.756796e+06  2.756796e+06  2.756796e+06  2.756796e+06  2.756796e+06   \n",
              "mean   3.067038e+04  2.714566e+00  9.664736e+01  7.875770e+00  1.289923e+01   \n",
              "std    1.497911e+04  6.247590e+00  5.444698e+00  4.721459e+00  1.097040e+01   \n",
              "min    1.001000e+03  0.000000e+00  6.649000e+01  1.400000e-01 -3.544000e+01   \n",
              "25%    1.904450e+04  0.000000e+00  9.583000e+01  3.810000e+00  4.580000e+00   \n",
              "50%    2.921200e+04  1.900000e-01  9.828000e+01  6.940000e+00  1.421000e+01   \n",
              "75%    4.600750e+04  2.260000e+00  9.994000e+01  1.145000e+01  2.200000e+01   \n",
              "max    5.604300e+04  1.686900e+02  1.037600e+02  2.212000e+01  3.933000e+01   \n",
              "\n",
              "             T2MDEW        T2MWET       T2M_MAX       T2M_MIN     T2M_RANGE  \\\n",
              "count  2.756796e+06  2.756796e+06  2.756796e+06  2.756796e+06  2.756796e+06   \n",
              "mean   7.049350e+00  7.084938e+00  1.876711e+01  7.519916e+00  1.124720e+01   \n",
              "std    1.019765e+01  1.014364e+01  1.160295e+01  1.061818e+01  4.038022e+00   \n",
              "min   -3.544000e+01 -3.546000e+01 -3.003000e+01 -4.085000e+01  1.600000e-01   \n",
              "25%   -8.800000e-01 -8.400000e-01  1.036000e+01 -5.700000e-01  8.370000e+00   \n",
              "50%    7.810000e+00  7.810000e+00  2.062000e+01  8.260000e+00  1.120000e+01   \n",
              "75%    1.567000e+01  1.567000e+01  2.797000e+01  1.628000e+01  1.408000e+01   \n",
              "max    2.687000e+01  2.687000e+01  4.775000e+01  3.228000e+01  3.017000e+01   \n",
              "\n",
              "       ...     WS10M_MIN   WS10M_RANGE         WS50M     WS50M_MAX  \\\n",
              "count  ...  2.756796e+06  2.756796e+06  2.756796e+06  2.756796e+06   \n",
              "mean   ...  1.920655e+00  3.282268e+00  5.532799e+00  7.828799e+00   \n",
              "std    ...  1.342458e+00  1.943136e+00  2.298550e+00  2.836618e+00   \n",
              "min    ...  0.000000e+00  2.600000e-01  5.100000e-01  8.500000e-01   \n",
              "25%    ...  9.600000e-01  1.820000e+00  3.820000e+00  5.700000e+00   \n",
              "50%    ...  1.660000e+00  2.820000e+00  5.150000e+00  7.350000e+00   \n",
              "75%    ...  2.570000e+00  4.280000e+00  6.880000e+00  9.490000e+00   \n",
              "max    ...  1.462000e+01  1.872000e+01  2.247000e+01  2.833000e+01   \n",
              "\n",
              "          WS50M_MIN   WS50M_RANGE         score          year         month  \\\n",
              "count  2.756796e+06  2.756796e+06  2.756796e+06  2.756796e+06  2.756796e+06   \n",
              "mean   3.121578e+00  4.707223e+00  8.231266e-01  2.007999e+03  6.520857e+00   \n",
              "std    2.109945e+00  2.181020e+00  1.239070e+00  4.897714e+00  3.447033e+00   \n",
              "min    0.000000e+00  4.200000e-01  0.000000e+00  2.000000e+03  1.000000e+00   \n",
              "25%    1.450000e+00  3.140000e+00  0.000000e+00  2.004000e+03  4.000000e+00   \n",
              "50%    2.770000e+00  4.270000e+00  0.000000e+00  2.008000e+03  7.000000e+00   \n",
              "75%    4.390000e+00  5.810000e+00  1.000000e+00  2.012000e+03  1.000000e+01   \n",
              "max    1.778000e+01  2.337000e+01  5.000000e+00  2.016000e+03  1.200000e+01   \n",
              "\n",
              "                day  \n",
              "count  2.756796e+06  \n",
              "mean   1.568997e+01  \n",
              "std    8.798878e+00  \n",
              "min    1.000000e+00  \n",
              "25%    8.000000e+00  \n",
              "50%    1.600000e+01  \n",
              "75%    2.300000e+01  \n",
              "max    3.100000e+01  \n",
              "\n",
              "[8 rows x 23 columns]"
            ],
            "text/html": [
              "\n",
              "  <div id=\"df-9fa3dd8c-e2d0-46e4-902e-1e6d80f2d364\">\n",
              "    <div class=\"colab-df-container\">\n",
              "      <div>\n",
              "<style scoped>\n",
              "    .dataframe tbody tr th:only-of-type {\n",
              "        vertical-align: middle;\n",
              "    }\n",
              "\n",
              "    .dataframe tbody tr th {\n",
              "        vertical-align: top;\n",
              "    }\n",
              "\n",
              "    .dataframe thead th {\n",
              "        text-align: right;\n",
              "    }\n",
              "</style>\n",
              "<table border=\"1\" class=\"dataframe\">\n",
              "  <thead>\n",
              "    <tr style=\"text-align: right;\">\n",
              "      <th></th>\n",
              "      <th>fips</th>\n",
              "      <th>PRECTOT</th>\n",
              "      <th>PS</th>\n",
              "      <th>QV2M</th>\n",
              "      <th>T2M</th>\n",
              "      <th>T2MDEW</th>\n",
              "      <th>T2MWET</th>\n",
              "      <th>T2M_MAX</th>\n",
              "      <th>T2M_MIN</th>\n",
              "      <th>T2M_RANGE</th>\n",
              "      <th>...</th>\n",
              "      <th>WS10M_MIN</th>\n",
              "      <th>WS10M_RANGE</th>\n",
              "      <th>WS50M</th>\n",
              "      <th>WS50M_MAX</th>\n",
              "      <th>WS50M_MIN</th>\n",
              "      <th>WS50M_RANGE</th>\n",
              "      <th>score</th>\n",
              "      <th>year</th>\n",
              "      <th>month</th>\n",
              "      <th>day</th>\n",
              "    </tr>\n",
              "  </thead>\n",
              "  <tbody>\n",
              "    <tr>\n",
              "      <th>count</th>\n",
              "      <td>2.756796e+06</td>\n",
              "      <td>2.756796e+06</td>\n",
              "      <td>2.756796e+06</td>\n",
              "      <td>2.756796e+06</td>\n",
              "      <td>2.756796e+06</td>\n",
              "      <td>2.756796e+06</td>\n",
              "      <td>2.756796e+06</td>\n",
              "      <td>2.756796e+06</td>\n",
              "      <td>2.756796e+06</td>\n",
              "      <td>2.756796e+06</td>\n",
              "      <td>...</td>\n",
              "      <td>2.756796e+06</td>\n",
              "      <td>2.756796e+06</td>\n",
              "      <td>2.756796e+06</td>\n",
              "      <td>2.756796e+06</td>\n",
              "      <td>2.756796e+06</td>\n",
              "      <td>2.756796e+06</td>\n",
              "      <td>2.756796e+06</td>\n",
              "      <td>2.756796e+06</td>\n",
              "      <td>2.756796e+06</td>\n",
              "      <td>2.756796e+06</td>\n",
              "    </tr>\n",
              "    <tr>\n",
              "      <th>mean</th>\n",
              "      <td>3.067038e+04</td>\n",
              "      <td>2.714566e+00</td>\n",
              "      <td>9.664736e+01</td>\n",
              "      <td>7.875770e+00</td>\n",
              "      <td>1.289923e+01</td>\n",
              "      <td>7.049350e+00</td>\n",
              "      <td>7.084938e+00</td>\n",
              "      <td>1.876711e+01</td>\n",
              "      <td>7.519916e+00</td>\n",
              "      <td>1.124720e+01</td>\n",
              "      <td>...</td>\n",
              "      <td>1.920655e+00</td>\n",
              "      <td>3.282268e+00</td>\n",
              "      <td>5.532799e+00</td>\n",
              "      <td>7.828799e+00</td>\n",
              "      <td>3.121578e+00</td>\n",
              "      <td>4.707223e+00</td>\n",
              "      <td>8.231266e-01</td>\n",
              "      <td>2.007999e+03</td>\n",
              "      <td>6.520857e+00</td>\n",
              "      <td>1.568997e+01</td>\n",
              "    </tr>\n",
              "    <tr>\n",
              "      <th>std</th>\n",
              "      <td>1.497911e+04</td>\n",
              "      <td>6.247590e+00</td>\n",
              "      <td>5.444698e+00</td>\n",
              "      <td>4.721459e+00</td>\n",
              "      <td>1.097040e+01</td>\n",
              "      <td>1.019765e+01</td>\n",
              "      <td>1.014364e+01</td>\n",
              "      <td>1.160295e+01</td>\n",
              "      <td>1.061818e+01</td>\n",
              "      <td>4.038022e+00</td>\n",
              "      <td>...</td>\n",
              "      <td>1.342458e+00</td>\n",
              "      <td>1.943136e+00</td>\n",
              "      <td>2.298550e+00</td>\n",
              "      <td>2.836618e+00</td>\n",
              "      <td>2.109945e+00</td>\n",
              "      <td>2.181020e+00</td>\n",
              "      <td>1.239070e+00</td>\n",
              "      <td>4.897714e+00</td>\n",
              "      <td>3.447033e+00</td>\n",
              "      <td>8.798878e+00</td>\n",
              "    </tr>\n",
              "    <tr>\n",
              "      <th>min</th>\n",
              "      <td>1.001000e+03</td>\n",
              "      <td>0.000000e+00</td>\n",
              "      <td>6.649000e+01</td>\n",
              "      <td>1.400000e-01</td>\n",
              "      <td>-3.544000e+01</td>\n",
              "      <td>-3.544000e+01</td>\n",
              "      <td>-3.546000e+01</td>\n",
              "      <td>-3.003000e+01</td>\n",
              "      <td>-4.085000e+01</td>\n",
              "      <td>1.600000e-01</td>\n",
              "      <td>...</td>\n",
              "      <td>0.000000e+00</td>\n",
              "      <td>2.600000e-01</td>\n",
              "      <td>5.100000e-01</td>\n",
              "      <td>8.500000e-01</td>\n",
              "      <td>0.000000e+00</td>\n",
              "      <td>4.200000e-01</td>\n",
              "      <td>0.000000e+00</td>\n",
              "      <td>2.000000e+03</td>\n",
              "      <td>1.000000e+00</td>\n",
              "      <td>1.000000e+00</td>\n",
              "    </tr>\n",
              "    <tr>\n",
              "      <th>25%</th>\n",
              "      <td>1.904450e+04</td>\n",
              "      <td>0.000000e+00</td>\n",
              "      <td>9.583000e+01</td>\n",
              "      <td>3.810000e+00</td>\n",
              "      <td>4.580000e+00</td>\n",
              "      <td>-8.800000e-01</td>\n",
              "      <td>-8.400000e-01</td>\n",
              "      <td>1.036000e+01</td>\n",
              "      <td>-5.700000e-01</td>\n",
              "      <td>8.370000e+00</td>\n",
              "      <td>...</td>\n",
              "      <td>9.600000e-01</td>\n",
              "      <td>1.820000e+00</td>\n",
              "      <td>3.820000e+00</td>\n",
              "      <td>5.700000e+00</td>\n",
              "      <td>1.450000e+00</td>\n",
              "      <td>3.140000e+00</td>\n",
              "      <td>0.000000e+00</td>\n",
              "      <td>2.004000e+03</td>\n",
              "      <td>4.000000e+00</td>\n",
              "      <td>8.000000e+00</td>\n",
              "    </tr>\n",
              "    <tr>\n",
              "      <th>50%</th>\n",
              "      <td>2.921200e+04</td>\n",
              "      <td>1.900000e-01</td>\n",
              "      <td>9.828000e+01</td>\n",
              "      <td>6.940000e+00</td>\n",
              "      <td>1.421000e+01</td>\n",
              "      <td>7.810000e+00</td>\n",
              "      <td>7.810000e+00</td>\n",
              "      <td>2.062000e+01</td>\n",
              "      <td>8.260000e+00</td>\n",
              "      <td>1.120000e+01</td>\n",
              "      <td>...</td>\n",
              "      <td>1.660000e+00</td>\n",
              "      <td>2.820000e+00</td>\n",
              "      <td>5.150000e+00</td>\n",
              "      <td>7.350000e+00</td>\n",
              "      <td>2.770000e+00</td>\n",
              "      <td>4.270000e+00</td>\n",
              "      <td>0.000000e+00</td>\n",
              "      <td>2.008000e+03</td>\n",
              "      <td>7.000000e+00</td>\n",
              "      <td>1.600000e+01</td>\n",
              "    </tr>\n",
              "    <tr>\n",
              "      <th>75%</th>\n",
              "      <td>4.600750e+04</td>\n",
              "      <td>2.260000e+00</td>\n",
              "      <td>9.994000e+01</td>\n",
              "      <td>1.145000e+01</td>\n",
              "      <td>2.200000e+01</td>\n",
              "      <td>1.567000e+01</td>\n",
              "      <td>1.567000e+01</td>\n",
              "      <td>2.797000e+01</td>\n",
              "      <td>1.628000e+01</td>\n",
              "      <td>1.408000e+01</td>\n",
              "      <td>...</td>\n",
              "      <td>2.570000e+00</td>\n",
              "      <td>4.280000e+00</td>\n",
              "      <td>6.880000e+00</td>\n",
              "      <td>9.490000e+00</td>\n",
              "      <td>4.390000e+00</td>\n",
              "      <td>5.810000e+00</td>\n",
              "      <td>1.000000e+00</td>\n",
              "      <td>2.012000e+03</td>\n",
              "      <td>1.000000e+01</td>\n",
              "      <td>2.300000e+01</td>\n",
              "    </tr>\n",
              "    <tr>\n",
              "      <th>max</th>\n",
              "      <td>5.604300e+04</td>\n",
              "      <td>1.686900e+02</td>\n",
              "      <td>1.037600e+02</td>\n",
              "      <td>2.212000e+01</td>\n",
              "      <td>3.933000e+01</td>\n",
              "      <td>2.687000e+01</td>\n",
              "      <td>2.687000e+01</td>\n",
              "      <td>4.775000e+01</td>\n",
              "      <td>3.228000e+01</td>\n",
              "      <td>3.017000e+01</td>\n",
              "      <td>...</td>\n",
              "      <td>1.462000e+01</td>\n",
              "      <td>1.872000e+01</td>\n",
              "      <td>2.247000e+01</td>\n",
              "      <td>2.833000e+01</td>\n",
              "      <td>1.778000e+01</td>\n",
              "      <td>2.337000e+01</td>\n",
              "      <td>5.000000e+00</td>\n",
              "      <td>2.016000e+03</td>\n",
              "      <td>1.200000e+01</td>\n",
              "      <td>3.100000e+01</td>\n",
              "    </tr>\n",
              "  </tbody>\n",
              "</table>\n",
              "<p>8 rows × 23 columns</p>\n",
              "</div>\n",
              "      <button class=\"colab-df-convert\" onclick=\"convertToInteractive('df-9fa3dd8c-e2d0-46e4-902e-1e6d80f2d364')\"\n",
              "              title=\"Convert this dataframe to an interactive table.\"\n",
              "              style=\"display:none;\">\n",
              "        \n",
              "  <svg xmlns=\"http://www.w3.org/2000/svg\" height=\"24px\"viewBox=\"0 0 24 24\"\n",
              "       width=\"24px\">\n",
              "    <path d=\"M0 0h24v24H0V0z\" fill=\"none\"/>\n",
              "    <path d=\"M18.56 5.44l.94 2.06.94-2.06 2.06-.94-2.06-.94-.94-2.06-.94 2.06-2.06.94zm-11 1L8.5 8.5l.94-2.06 2.06-.94-2.06-.94L8.5 2.5l-.94 2.06-2.06.94zm10 10l.94 2.06.94-2.06 2.06-.94-2.06-.94-.94-2.06-.94 2.06-2.06.94z\"/><path d=\"M17.41 7.96l-1.37-1.37c-.4-.4-.92-.59-1.43-.59-.52 0-1.04.2-1.43.59L10.3 9.45l-7.72 7.72c-.78.78-.78 2.05 0 2.83L4 21.41c.39.39.9.59 1.41.59.51 0 1.02-.2 1.41-.59l7.78-7.78 2.81-2.81c.8-.78.8-2.07 0-2.86zM5.41 20L4 18.59l7.72-7.72 1.47 1.35L5.41 20z\"/>\n",
              "  </svg>\n",
              "      </button>\n",
              "      \n",
              "  <style>\n",
              "    .colab-df-container {\n",
              "      display:flex;\n",
              "      flex-wrap:wrap;\n",
              "      gap: 12px;\n",
              "    }\n",
              "\n",
              "    .colab-df-convert {\n",
              "      background-color: #E8F0FE;\n",
              "      border: none;\n",
              "      border-radius: 50%;\n",
              "      cursor: pointer;\n",
              "      display: none;\n",
              "      fill: #1967D2;\n",
              "      height: 32px;\n",
              "      padding: 0 0 0 0;\n",
              "      width: 32px;\n",
              "    }\n",
              "\n",
              "    .colab-df-convert:hover {\n",
              "      background-color: #E2EBFA;\n",
              "      box-shadow: 0px 1px 2px rgba(60, 64, 67, 0.3), 0px 1px 3px 1px rgba(60, 64, 67, 0.15);\n",
              "      fill: #174EA6;\n",
              "    }\n",
              "\n",
              "    [theme=dark] .colab-df-convert {\n",
              "      background-color: #3B4455;\n",
              "      fill: #D2E3FC;\n",
              "    }\n",
              "\n",
              "    [theme=dark] .colab-df-convert:hover {\n",
              "      background-color: #434B5C;\n",
              "      box-shadow: 0px 1px 3px 1px rgba(0, 0, 0, 0.15);\n",
              "      filter: drop-shadow(0px 1px 2px rgba(0, 0, 0, 0.3));\n",
              "      fill: #FFFFFF;\n",
              "    }\n",
              "  </style>\n",
              "\n",
              "      <script>\n",
              "        const buttonEl =\n",
              "          document.querySelector('#df-9fa3dd8c-e2d0-46e4-902e-1e6d80f2d364 button.colab-df-convert');\n",
              "        buttonEl.style.display =\n",
              "          google.colab.kernel.accessAllowed ? 'block' : 'none';\n",
              "\n",
              "        async function convertToInteractive(key) {\n",
              "          const element = document.querySelector('#df-9fa3dd8c-e2d0-46e4-902e-1e6d80f2d364');\n",
              "          const dataTable =\n",
              "            await google.colab.kernel.invokeFunction('convertToInteractive',\n",
              "                                                     [key], {});\n",
              "          if (!dataTable) return;\n",
              "\n",
              "          const docLinkHtml = 'Like what you see? Visit the ' +\n",
              "            '<a target=\"_blank\" href=https://colab.research.google.com/notebooks/data_table.ipynb>data table notebook</a>'\n",
              "            + ' to learn more about interactive tables.';\n",
              "          element.innerHTML = '';\n",
              "          dataTable['output_type'] = 'display_data';\n",
              "          await google.colab.output.renderOutput(dataTable, element);\n",
              "          const docLink = document.createElement('div');\n",
              "          docLink.innerHTML = docLinkHtml;\n",
              "          element.appendChild(docLink);\n",
              "        }\n",
              "      </script>\n",
              "    </div>\n",
              "  </div>\n",
              "  "
            ]
          },
          "metadata": {},
          "execution_count": 14
        }
      ],
      "source": [
        "df.describe()"
      ]
    },
    {
      "cell_type": "code",
      "execution_count": null,
      "metadata": {
        "colab": {
          "base_uri": "https://localhost:8080/"
        },
        "id": "-42LkpEqPp9f",
        "outputId": "9bca99a4-86ca-4356-aab3-63206dc751eb"
      },
      "outputs": [
        {
          "output_type": "execute_result",
          "data": {
            "text/plain": [
              "['fips',\n",
              " 'date',\n",
              " 'PRECTOT',\n",
              " 'PS',\n",
              " 'QV2M',\n",
              " 'T2M',\n",
              " 'T2MDEW',\n",
              " 'T2MWET',\n",
              " 'T2M_MAX',\n",
              " 'T2M_MIN',\n",
              " 'T2M_RANGE',\n",
              " 'TS',\n",
              " 'WS10M',\n",
              " 'WS10M_MAX',\n",
              " 'WS10M_MIN',\n",
              " 'WS10M_RANGE',\n",
              " 'WS50M',\n",
              " 'WS50M_MAX',\n",
              " 'WS50M_MIN',\n",
              " 'WS50M_RANGE',\n",
              " 'score',\n",
              " 'year',\n",
              " 'month',\n",
              " 'day']"
            ]
          },
          "metadata": {},
          "execution_count": 16
        }
      ],
      "source": [
        "column_list=list(df.columns)\n",
        "column_list"
      ]
    },
    {
      "cell_type": "markdown",
      "metadata": {
        "id": "GIheWlZaiq-u"
      },
      "source": [
        "outlier treatment"
      ]
    },
    {
      "cell_type": "code",
      "execution_count": null,
      "metadata": {
        "colab": {
          "base_uri": "https://localhost:8080/",
          "height": 639
        },
        "id": "lRi_8s58iONz",
        "outputId": "50da971b-d870-4b69-ba55-362fdbd30b7e"
      },
      "outputs": [
        {
          "output_type": "error",
          "ename": "TypeError",
          "evalue": "ignored",
          "traceback": [
            "\u001b[0;31m---------------------------------------------------------------------------\u001b[0m",
            "\u001b[0;31mTypeError\u001b[0m                                 Traceback (most recent call last)",
            "\u001b[0;32m<ipython-input-17-6b8bed6fb774>\u001b[0m in \u001b[0;36m<module>\u001b[0;34m()\u001b[0m\n\u001b[1;32m      2\u001b[0m \u001b[0;32mfor\u001b[0m \u001b[0mx\u001b[0m \u001b[0;32min\u001b[0m \u001b[0mrange\u001b[0m\u001b[0;34m(\u001b[0m\u001b[0;36m1\u001b[0m\u001b[0;34m,\u001b[0m\u001b[0;36m19\u001b[0m\u001b[0;34m)\u001b[0m\u001b[0;34m:\u001b[0m\u001b[0;34m\u001b[0m\u001b[0;34m\u001b[0m\u001b[0m\n\u001b[1;32m      3\u001b[0m     \u001b[0mplt\u001b[0m\u001b[0;34m.\u001b[0m\u001b[0msubplot\u001b[0m\u001b[0;34m(\u001b[0m\u001b[0;36m19\u001b[0m\u001b[0;34m,\u001b[0m\u001b[0;36m1\u001b[0m\u001b[0;34m,\u001b[0m\u001b[0mx\u001b[0m\u001b[0;34m)\u001b[0m\u001b[0;34m\u001b[0m\u001b[0;34m\u001b[0m\u001b[0m\n\u001b[0;32m----> 4\u001b[0;31m     \u001b[0msns\u001b[0m\u001b[0;34m.\u001b[0m\u001b[0mboxplot\u001b[0m\u001b[0;34m(\u001b[0m\u001b[0mx\u001b[0m \u001b[0;34m=\u001b[0m\u001b[0mdf\u001b[0m\u001b[0;34m.\u001b[0m\u001b[0mcolumns\u001b[0m\u001b[0;34m[\u001b[0m\u001b[0mx\u001b[0m\u001b[0;34m-\u001b[0m\u001b[0;36m1\u001b[0m\u001b[0;34m]\u001b[0m\u001b[0;34m,\u001b[0m \u001b[0mdata\u001b[0m\u001b[0;34m=\u001b[0m\u001b[0mdf\u001b[0m\u001b[0;34m)\u001b[0m\u001b[0;34m\u001b[0m\u001b[0;34m\u001b[0m\u001b[0m\n\u001b[0m\u001b[1;32m      5\u001b[0m     \u001b[0mx_name\u001b[0m \u001b[0;34m=\u001b[0m \u001b[0mdf\u001b[0m\u001b[0;34m.\u001b[0m\u001b[0mcolumns\u001b[0m\u001b[0;34m[\u001b[0m\u001b[0mx\u001b[0m\u001b[0;34m-\u001b[0m\u001b[0;36m1\u001b[0m\u001b[0;34m]\u001b[0m\u001b[0;34m\u001b[0m\u001b[0;34m\u001b[0m\u001b[0m\n\u001b[1;32m      6\u001b[0m     \u001b[0mplt\u001b[0m\u001b[0;34m.\u001b[0m\u001b[0mtitle\u001b[0m\u001b[0;34m(\u001b[0m\u001b[0;34mf'Distribution of {x_name}'\u001b[0m\u001b[0;34m)\u001b[0m\u001b[0;34m\u001b[0m\u001b[0;34m\u001b[0m\u001b[0m\n",
            "\u001b[0;32m/usr/local/lib/python3.7/dist-packages/seaborn/_decorators.py\u001b[0m in \u001b[0;36minner_f\u001b[0;34m(*args, **kwargs)\u001b[0m\n\u001b[1;32m     44\u001b[0m             )\n\u001b[1;32m     45\u001b[0m         \u001b[0mkwargs\u001b[0m\u001b[0;34m.\u001b[0m\u001b[0mupdate\u001b[0m\u001b[0;34m(\u001b[0m\u001b[0;34m{\u001b[0m\u001b[0mk\u001b[0m\u001b[0;34m:\u001b[0m \u001b[0marg\u001b[0m \u001b[0;32mfor\u001b[0m \u001b[0mk\u001b[0m\u001b[0;34m,\u001b[0m \u001b[0marg\u001b[0m \u001b[0;32min\u001b[0m \u001b[0mzip\u001b[0m\u001b[0;34m(\u001b[0m\u001b[0msig\u001b[0m\u001b[0;34m.\u001b[0m\u001b[0mparameters\u001b[0m\u001b[0;34m,\u001b[0m \u001b[0margs\u001b[0m\u001b[0;34m)\u001b[0m\u001b[0;34m}\u001b[0m\u001b[0;34m)\u001b[0m\u001b[0;34m\u001b[0m\u001b[0;34m\u001b[0m\u001b[0m\n\u001b[0;32m---> 46\u001b[0;31m         \u001b[0;32mreturn\u001b[0m \u001b[0mf\u001b[0m\u001b[0;34m(\u001b[0m\u001b[0;34m**\u001b[0m\u001b[0mkwargs\u001b[0m\u001b[0;34m)\u001b[0m\u001b[0;34m\u001b[0m\u001b[0;34m\u001b[0m\u001b[0m\n\u001b[0m\u001b[1;32m     47\u001b[0m     \u001b[0;32mreturn\u001b[0m \u001b[0minner_f\u001b[0m\u001b[0;34m\u001b[0m\u001b[0;34m\u001b[0m\u001b[0m\n\u001b[1;32m     48\u001b[0m \u001b[0;34m\u001b[0m\u001b[0m\n",
            "\u001b[0;32m/usr/local/lib/python3.7/dist-packages/seaborn/categorical.py\u001b[0m in \u001b[0;36mboxplot\u001b[0;34m(x, y, hue, data, order, hue_order, orient, color, palette, saturation, width, dodge, fliersize, linewidth, whis, ax, **kwargs)\u001b[0m\n\u001b[1;32m   2243\u001b[0m     plotter = _BoxPlotter(x, y, hue, data, order, hue_order,\n\u001b[1;32m   2244\u001b[0m                           \u001b[0morient\u001b[0m\u001b[0;34m,\u001b[0m \u001b[0mcolor\u001b[0m\u001b[0;34m,\u001b[0m \u001b[0mpalette\u001b[0m\u001b[0;34m,\u001b[0m \u001b[0msaturation\u001b[0m\u001b[0;34m,\u001b[0m\u001b[0;34m\u001b[0m\u001b[0;34m\u001b[0m\u001b[0m\n\u001b[0;32m-> 2245\u001b[0;31m                           width, dodge, fliersize, linewidth)\n\u001b[0m\u001b[1;32m   2246\u001b[0m \u001b[0;34m\u001b[0m\u001b[0m\n\u001b[1;32m   2247\u001b[0m     \u001b[0;32mif\u001b[0m \u001b[0max\u001b[0m \u001b[0;32mis\u001b[0m \u001b[0;32mNone\u001b[0m\u001b[0;34m:\u001b[0m\u001b[0;34m\u001b[0m\u001b[0;34m\u001b[0m\u001b[0m\n",
            "\u001b[0;32m/usr/local/lib/python3.7/dist-packages/seaborn/categorical.py\u001b[0m in \u001b[0;36m__init__\u001b[0;34m(self, x, y, hue, data, order, hue_order, orient, color, palette, saturation, width, dodge, fliersize, linewidth)\u001b[0m\n\u001b[1;32m    404\u001b[0m                  width, dodge, fliersize, linewidth):\n\u001b[1;32m    405\u001b[0m \u001b[0;34m\u001b[0m\u001b[0m\n\u001b[0;32m--> 406\u001b[0;31m         \u001b[0mself\u001b[0m\u001b[0;34m.\u001b[0m\u001b[0mestablish_variables\u001b[0m\u001b[0;34m(\u001b[0m\u001b[0mx\u001b[0m\u001b[0;34m,\u001b[0m \u001b[0my\u001b[0m\u001b[0;34m,\u001b[0m \u001b[0mhue\u001b[0m\u001b[0;34m,\u001b[0m \u001b[0mdata\u001b[0m\u001b[0;34m,\u001b[0m \u001b[0morient\u001b[0m\u001b[0;34m,\u001b[0m \u001b[0morder\u001b[0m\u001b[0;34m,\u001b[0m \u001b[0mhue_order\u001b[0m\u001b[0;34m)\u001b[0m\u001b[0;34m\u001b[0m\u001b[0;34m\u001b[0m\u001b[0m\n\u001b[0m\u001b[1;32m    407\u001b[0m         \u001b[0mself\u001b[0m\u001b[0;34m.\u001b[0m\u001b[0mestablish_colors\u001b[0m\u001b[0;34m(\u001b[0m\u001b[0mcolor\u001b[0m\u001b[0;34m,\u001b[0m \u001b[0mpalette\u001b[0m\u001b[0;34m,\u001b[0m \u001b[0msaturation\u001b[0m\u001b[0;34m)\u001b[0m\u001b[0;34m\u001b[0m\u001b[0;34m\u001b[0m\u001b[0m\n\u001b[1;32m    408\u001b[0m \u001b[0;34m\u001b[0m\u001b[0m\n",
            "\u001b[0;32m/usr/local/lib/python3.7/dist-packages/seaborn/categorical.py\u001b[0m in \u001b[0;36mestablish_variables\u001b[0;34m(self, x, y, hue, data, orient, order, hue_order, units)\u001b[0m\n\u001b[1;32m    155\u001b[0m             \u001b[0;31m# Figure out the plotting orientation\u001b[0m\u001b[0;34m\u001b[0m\u001b[0;34m\u001b[0m\u001b[0;34m\u001b[0m\u001b[0m\n\u001b[1;32m    156\u001b[0m             orient = infer_orient(\n\u001b[0;32m--> 157\u001b[0;31m                 \u001b[0mx\u001b[0m\u001b[0;34m,\u001b[0m \u001b[0my\u001b[0m\u001b[0;34m,\u001b[0m \u001b[0morient\u001b[0m\u001b[0;34m,\u001b[0m \u001b[0mrequire_numeric\u001b[0m\u001b[0;34m=\u001b[0m\u001b[0mself\u001b[0m\u001b[0;34m.\u001b[0m\u001b[0mrequire_numeric\u001b[0m\u001b[0;34m\u001b[0m\u001b[0;34m\u001b[0m\u001b[0m\n\u001b[0m\u001b[1;32m    158\u001b[0m             )\n\u001b[1;32m    159\u001b[0m \u001b[0;34m\u001b[0m\u001b[0m\n",
            "\u001b[0;32m/usr/local/lib/python3.7/dist-packages/seaborn/_core.py\u001b[0m in \u001b[0;36minfer_orient\u001b[0;34m(x, y, orient, require_numeric)\u001b[0m\n\u001b[1;32m   1326\u001b[0m             \u001b[0mwarnings\u001b[0m\u001b[0;34m.\u001b[0m\u001b[0mwarn\u001b[0m\u001b[0;34m(\u001b[0m\u001b[0msingle_var_warning\u001b[0m\u001b[0;34m.\u001b[0m\u001b[0mformat\u001b[0m\u001b[0;34m(\u001b[0m\u001b[0;34m\"Vertical\"\u001b[0m\u001b[0;34m,\u001b[0m \u001b[0;34m\"x\"\u001b[0m\u001b[0;34m)\u001b[0m\u001b[0;34m)\u001b[0m\u001b[0;34m\u001b[0m\u001b[0;34m\u001b[0m\u001b[0m\n\u001b[1;32m   1327\u001b[0m         \u001b[0;32mif\u001b[0m \u001b[0mrequire_numeric\u001b[0m \u001b[0;32mand\u001b[0m \u001b[0mx_type\u001b[0m \u001b[0;34m!=\u001b[0m \u001b[0;34m\"numeric\"\u001b[0m\u001b[0;34m:\u001b[0m\u001b[0;34m\u001b[0m\u001b[0;34m\u001b[0m\u001b[0m\n\u001b[0;32m-> 1328\u001b[0;31m             \u001b[0;32mraise\u001b[0m \u001b[0mTypeError\u001b[0m\u001b[0;34m(\u001b[0m\u001b[0mnonnumeric_dv_error\u001b[0m\u001b[0;34m.\u001b[0m\u001b[0mformat\u001b[0m\u001b[0;34m(\u001b[0m\u001b[0;34m\"Horizontal\"\u001b[0m\u001b[0;34m,\u001b[0m \u001b[0;34m\"x\"\u001b[0m\u001b[0;34m)\u001b[0m\u001b[0;34m)\u001b[0m\u001b[0;34m\u001b[0m\u001b[0;34m\u001b[0m\u001b[0m\n\u001b[0m\u001b[1;32m   1329\u001b[0m         \u001b[0;32mreturn\u001b[0m \u001b[0;34m\"h\"\u001b[0m\u001b[0;34m\u001b[0m\u001b[0;34m\u001b[0m\u001b[0m\n\u001b[1;32m   1330\u001b[0m \u001b[0;34m\u001b[0m\u001b[0m\n",
            "\u001b[0;31mTypeError\u001b[0m: Horizontal orientation requires numeric `x` variable."
          ]
        },
        {
          "output_type": "display_data",
          "data": {
            "text/plain": [
              "<Figure size 720x2880 with 2 Axes>"
            ],
            "image/png": "[encoded data removed]"
          },
          "metadata": {
            "needs_background": "light"
          }
        }
      ],
      "source": [
        "plt.figure(figsize=(10,40))\n",
        "for x in range(1,19):\n",
        "    plt.subplot(19,1,x)\n",
        "    sns.boxplot(x =df.columns[x-1], data=df)\n",
        "    x_name = df.columns[x-1]\n",
        "    plt.title(f'Distribution of {x_name}')         \n",
        "plt.tight_layout()"
      ]
    },
    {
      "cell_type": "code",
      "execution_count": null,
      "metadata": {
        "colab": {
          "base_uri": "https://localhost:8080/"
        },
        "id": "kROcYX-_2NEY",
        "outputId": "ea645b25-2a91-4bcc-8230-4eb7b8de42d0"
      },
      "outputs": [
        {
          "output_type": "stream",
          "name": "stdout",
          "text": [
            "Total rows =  2756796\n",
            "Number of values beyong standard outlier limit in  fips\n",
            "0\n",
            "Number of values beyong standard outlier limit in  PRECTOT\n",
            "65933\n",
            "Number of values beyong standard outlier limit in  PS\n",
            "73197\n",
            "Number of values beyong standard outlier limit in  QV2M\n",
            "1\n",
            "Number of values beyong standard outlier limit in  T2M\n",
            "4531\n",
            "Number of values beyong standard outlier limit in  T2MDEW\n",
            "2023\n",
            "Number of values beyong standard outlier limit in  T2MWET\n",
            "1814\n",
            "Number of values beyong standard outlier limit in  T2M_MAX\n",
            "3384\n",
            "Number of values beyong standard outlier limit in  T2M_MIN\n",
            "6944\n",
            "Number of values beyong standard outlier limit in  T2M_RANGE\n",
            "3628\n",
            "Number of values beyong standard outlier limit in  TS\n",
            "4762\n",
            "Number of values beyong standard outlier limit in  WS10M\n",
            "29954\n",
            "Number of values beyong standard outlier limit in  WS10M_MAX\n",
            "23387\n",
            "Number of values beyong standard outlier limit in  WS10M_MIN\n",
            "39901\n",
            "Number of values beyong standard outlier limit in  WS10M_RANGE\n",
            "35979\n",
            "Number of values beyong standard outlier limit in  WS50M\n",
            "23090\n",
            "Number of values beyong standard outlier limit in  WS50M_MAX\n",
            "25985\n",
            "Number of values beyong standard outlier limit in  WS50M_MIN\n",
            "19569\n",
            "Number of values beyong standard outlier limit in  WS50M_RANGE\n",
            "33808\n",
            "Number of values beyong standard outlier limit in  score\n",
            "39224\n",
            "Number of values beyong standard outlier limit in  year\n",
            "0\n",
            "Number of values beyong standard outlier limit in  month\n",
            "0\n",
            "Number of values beyong standard outlier limit in  day\n",
            "0\n"
          ]
        }
      ],
      "source": [
        "print('Total rows = ',len(df.index))\n",
        "for i in df.select_dtypes(exclude = ['object']).columns:\n",
        "    print ('Number of values beyong standard outlier limit in ', i)\n",
        "    print(len(df[(df[i] >df[i].mean() + 3*df[i].std()) | (df[i] < df[i].mean() - 3*df[i].std())]))"
      ]
    },
    {
      "cell_type": "code",
      "execution_count": null,
      "metadata": {
        "colab": {
          "base_uri": "https://localhost:8080/",
          "height": 131
        },
        "id": "kJU3tb6XlMGS",
        "outputId": "2a70342d-40a7-4e0e-89c2-8d63da69c12f"
      },
      "outputs": [
        {
          "output_type": "error",
          "ename": "SyntaxError",
          "evalue": "ignored",
          "traceback": [
            "\u001b[0;36m  File \u001b[0;32m\"<ipython-input-16-7013cda2108f>\"\u001b[0;36m, line \u001b[0;32m29\u001b[0m\n\u001b[0;31m    df = df[(df['WS10M'] <= df['WS10M'].mean() + 3*df['WS10M'].std())] &\u001b[0m\n\u001b[0m     ^\u001b[0m\n\u001b[0;31mSyntaxError\u001b[0m\u001b[0;31m:\u001b[0m invalid syntax\n"
          ]
        }
      ],
      "source": [
        "df = [(df['PRECTOT'] >=df['PRECTOT'].mean() + 3*df['PRECTOT'].std()) &\n",
        "        (df['PRECTOT'] >= df['PRECTOT'].mean() - 3*df['PRECTOT'].std())]\n",
        "\n",
        "df =[(df['PS'] <= df['PS'].mean() + 3*df['PS'].std()) &\n",
        "        (df['PS'] >= df['PS'].mean() - 3*df['PS'].std())]\n",
        "\n",
        "df = df[(df['QV2M'] <= df['QV2M'].mean() + 3*df['QV2M'].std()) &\n",
        "        (df['QV2M'] >= df['QV2M'].mean() - 3*df['QV2M'].std())]\n",
        "\n",
        "df = df[(df['T2M'] <= df['T2M'].mean() + 3*df['T2M'].std()) &\n",
        "        (df['T2M'] >= df['T2M'].mean() - 3*df['T2M'].std())]\n",
        "\n",
        "df = df[(df['T2MDEW'] <= df['T2MDEW'].mean() + 3*df['T2MDEW'].std()) &\n",
        "        (df['T2MDEW'] >= df['T2MDEW'].mean() - 3*df['T2MDEW'].std())]\n",
        "df = df[(df['T2MWET'] <= df['T2MWET'].mean() + 3*df['T2MWET'].std()) &\n",
        "        (df['T2MWET'] >= df['T2MWET'].mean() - 3*df['T2MWET'].std())]\n",
        "\n",
        "df = df[(df['T2M_MAX'] <= df['T2M_MAX'].mean() + 3*df['T2M_MAX'].std()) &\n",
        "        (df['T2M_MAX'] >= df['T2M_MAX'].mean() - 3*df['T2M_MAX'].std())]\n",
        "\n",
        "df = df[(df['T2M_MIN'] <= df['T2M_MIN'].mean() + 3*df['T2M_MIN'].std()) &\n",
        "        ( df['T2M_MIN'] >= df['T2M_MIN'].mean() - 3*df['T2M_MIN'].std())]\n",
        "\n",
        "df = df[(['T2M_RANGE'] <=df['T2M_RANGE'].mean() + 3*df['T2M_RANGE'].std()) &\n",
        "        (df['T2M_RANGE'] >= df['T2M_RANGE'].mean() - 3*df['T2M_RANGE'].std())]\n",
        "\n",
        "df = df[(df['TS'] <= df['TS'].mean() + 3*df['TS'].std()) &\n",
        "        (df['TS'] >= df['TS'].mean() - 3* df['TS'].std())\n",
        "df = df[(df['WS10M'] <= df['WS10M'].mean() + 3*df['WS10M'].std())] &\n",
        "        (df['WS10M'] >= df['WS10M'].mean() - 3*df['WS10M'].std())\n",
        "\n",
        "df = df[(df['WS10M_MAX'] <= df['WS10M_MAX'].mean() + 3*df['WS10M_MAX'].std()) &\n",
        "        (df['WS10M_MAX'] >= df['WS10M_MAX'].mean() -3*df['WS10M_MAX'].std())]\n",
        "\n",
        "df = df[(df['WS10M_MIN'] <= df['WS10M_MIN'].mean() + 3*df['WS10M_MIN'].std()) &\n",
        "        (df['WS10M_MIN'] >= df['WS10M_MIN'].mean() - 3*df['WS10M_MIN'].std())]\n",
        "\n",
        "df = df[(df['WS10M_RANGE'] <= df['WS10M_RANGE'].mean() + 3*df['WS10M_RANGE'].std()) &\n",
        "        (df['WS10M_RANGE'] >= df['WS10M_RANGE'].mean() - 3*df['WS10M_RANGE'].std())]\n",
        "df = df[(df['WS50M'] <= df['WS50M'].mean() + 3*df['WS50M'].std()) &\n",
        "        (df['WS50M'] >= df['WS50M'].mean() - 3*df['WS50M'].std())]\n",
        "\n",
        "df = df[(df['WS50M_MAX'] <= df['WS50M_MAX'].mean() + 3*df['WS50M_MAX'].std()) &\n",
        "        (df['WS50M_MAX'] >= df['WS50M_MAX'].mean() - 3*df['WS50M_MAX'].std())]\n",
        "\n",
        "df = df[(df['WS50M_MIN'] <= df['WS50M_MIN'].mean() + 3*df['WS50M_MIN'].std()) &\n",
        "        (df['WS50M_MIN'] >= df['WS50M_MIN'].mean() - 3*df['WS50M_MIN'].std())]\n",
        "\n",
        "df = df[(df['WS50M_RANGE'] <= df['WS50M_RANGE'].mean() + 3*df['WS50M_RANGE'].std()) &\n",
        "        (df['WS50M_RANGE'] >= df['WS50M_RANGE'].mean() - 3*df['WS50M_RANGE'].std())]\n",
        "\n",
        "print('Total rows = ',len(df.index))\n",
        "df = df[(df['PRECTOT'] <= df['PRECTOT'].mean() + 3*df['PRECTOT'].std()) &\n",
        "        (df['PRECTOT'] >= df['PRECTOT'].mean() - 3*df['PRECTOT'].std())]\n",
        "\n",
        "df = df[(df['PS'] <= df['PS'].mean() + 3*df['PS'].std()) &\n",
        "        (df['PS'] >= df['PS'].mean() - 3*df['PS'].std())]\n",
        "\n",
        "df = df[(df['QV2M'] <= df['QV2M'].mean() + 3*df['QV2M'].std()) &\n",
        "        (df['QV2M'] >= df['QV2M'].mean() - 3*df['QV2M'].std())]\n",
        "\n",
        "df = df[(df['T2M'] <= df['T2M'].mean() + 3*df['T2M'].std()) &\n",
        "        (df['T2M'] >= df['T2M'].mean() - 3*df['T2M'].std())]\n",
        "\n",
        "df = df[(df['T2MDEW'] <= df['T2MDEW'].mean() + 3*df['T2MDEW'].std()) &\n",
        "        (df['T2MDEW'] >= df['T2MDEW'].mean() - 3*df['T2MDEW'].std())]\n",
        "\n",
        "df = df[(df['T2MWET'] <= df['T2MWET'].mean() + 3*df['T2MWET'].std()) &\n",
        "        (df['T2MWET'] >= df['T2MWET'].mean() - 3*df['T2MWET'].std())]\n",
        "\n",
        "df = df[(df['T2M_MAX'] <= df['T2M_MAX'].mean() + 3*df['T2M_MAX'].std()) &\n",
        "        (df['T2M_MAX'] >= df['T2M_MAX'].mean() - 3*df['T2M_MAX'].std())]\n",
        "\n",
        "df = df[(df['T2M_MIN'] <= df['T2M_MIN'].mean() + 3*df['T2M_MIN'].std()) &\n",
        "        (df['T2M_MIN'] >= df['T2M_MIN'].mean() - 3*df['T2M_MIN'].std())]\n",
        "\n",
        "df = df[(df['T2M_RANGE'] <= df['T2M_RANGE'].mean() + 3*df['T2M_RANGE'].std()) &\n",
        "        (df['T2M_RANGE'] >= df['T2M_RANGE'].mean() - 3*df['T2M_RANGE'].std())]\n",
        "\n",
        "df = df[(df['TS'] <= df['TS'].mean() + 3*df['TS'].std()) &\n",
        "        (df['TS'] >= df['TS'].mean() - 3*df['TS'].std())]\n",
        "\n",
        "df = df[(df['WS10M'] <= df['WS10M'].mean() + 3*df['WS10M'].std()) &\n",
        "        (df['WS10M'] >= df['WS10M'].mean() - 3*df['WS10M'].std())]\n",
        "\n",
        "df = df[(df['WS10M_MAX'] <= df['WS10M_MAX'].mean() + 3*df['WS10M_MAX'].std()) &\n",
        "        (df['WS10M_MAX'] >= df['WS10M_MAX'].mean() - 3*df['WS10M_MAX'].std())]\n",
        "\n",
        "df = df[(df['WS10M_MIN'] <= df['WS10M_MIN'].mean() + 3*df['WS10M_MIN'].std()) &\n",
        "        (df['WS10M_MIN'] >= df['WS10M_MIN'].mean() - 3*df['WS10M_MIN'].std())]\n",
        "\n",
        "df = df[(df['WS10M_RANGE'] <= df['WS10M_RANGE'].mean() + 3*df['WS10M_RANGE'].std()) &\n",
        "        (df['WS10M_RANGE'] >= df['WS10M_RANGE'].mean() - 3*df['WS10M_RANGE'].std())]\n",
        "\n",
        "df = df[(df['WS50M'] <= df['WS50M'].mean() + 3*df['WS50M'].std()) &\n",
        "        (df['WS50M'] >= df['WS50M'].mean() - 3*df['WS50M'].std())]\n",
        "\n",
        "df = df[(df['WS50M_MAX'] <= df['WS50M_MAX'].mean() + 3*df['WS50M_MAX'].std()) &\n",
        "        (df['WS50M_MAX'] >= df['WS50M_MAX'].mean() - 3*df['WS50M_MAX'].std())]\n",
        "\n",
        "df = df[(df['WS50M_MIN'] <= df['WS50M_MIN'].mean() + 3*df['WS50M_MIN'].std()) &\n",
        "        (df['WS50M_MIN'] >= df['WS50M_MIN'].mean() - 3*df['WS50M_MIN'].std())]\n",
        "\n",
        "df = df[(df['WS50M_RANGE'] <= df['WS50M_RANGE'].mean() + 3*df['WS50M_RANGE'].std()) &\n",
        "        (df['WS50M_RANGE'] >= df['WS50M_RANGE'].mean() - 3*df['WS50M_RANGE'].std())]\n",
        "\n",
        "print('Total rows = ',len(df.index))"
      ]
    },
    {
      "cell_type": "code",
      "execution_count": null,
      "metadata": {
        "id": "11N-791aCRnx"
      },
      "outputs": [],
      "source": [
        "categorical_column_list = ['score','year','month','day']\n",
        "df_categorical = df[['score','year','month','day']]\n"
      ]
    },
    {
      "cell_type": "code",
      "execution_count": null,
      "metadata": {
        "colab": {
          "base_uri": "https://localhost:8080/",
          "height": 1000
        },
        "id": "cZtIFK24CeuI",
        "outputId": "c8390396-9f3d-433a-e7d5-baf51fa0b954"
      },
      "outputs": [
        {
          "output_type": "display_data",
          "data": {
            "text/plain": [
              "<Figure size 720x2880 with 0 Axes>"
            ]
          },
          "metadata": {}
        },
        {
          "output_type": "display_data",
          "data": {
            "text/plain": [
              "<Figure size 432x288 with 1 Axes>"
            ],
            "image/png": "[encoded data removed]"
          },
          "metadata": {
            "needs_background": "light"
          }
        },
        {
          "output_type": "display_data",
          "data": {
            "text/plain": [
              "<Figure size 432x288 with 1 Axes>"
            ],
            "image/png": "[encoded data removed]"
          },
          "metadata": {
            "needs_background": "light"
          }
        },
        {
          "output_type": "display_data",
          "data": {
            "text/plain": [
              "<Figure size 432x288 with 1 Axes>"
            ],
            "image/png": "[encoded data removed]"
          },
          "metadata": {
            "needs_background": "light"
          }
        },
        {
          "output_type": "display_data",
          "data": {
            "text/plain": [
              "<Figure size 432x288 with 1 Axes>"
            ],
            "image/png": "[encoded data removed]"
          },
          "metadata": {
            "needs_background": "light"
          }
        }
      ],
      "source": [
        "plt.figure(figsize=(10,40))\n",
        "for col_name in categorical_column_list:\n",
        "    plt.figure()\n",
        "    df_categorical[col_name].value_counts().plot(kind = 'bar')\n",
        "    x_name = col_name\n",
        "    y_name = 'Density'\n",
        "    plt.xlabel(x_name)\n",
        "    plt.ylabel(y_name)\n",
        "    plt.title('Distribution of {x_name}'.format(x_name=x_name))\n",
        "    plt.tight_layout()\n"
      ]
    },
    {
      "cell_type": "code",
      "execution_count": null,
      "metadata": {
        "colab": {
          "base_uri": "https://localhost:8080/",
          "height": 265
        },
        "id": "TTBiQ3PSCeyY",
        "outputId": "33735b6f-b75e-4462-fc73-0e54d0b47bda"
      },
      "outputs": [
        {
          "output_type": "display_data",
          "data": {
            "text/plain": [
              "<Figure size 432x288 with 1 Axes>"
            ],
            "image/png": "[encoded data removed]"
          },
          "metadata": {
            "needs_background": "light"
          }
        }
      ],
      "source": [
        "plt.scatter(df['year'], df['score'], c =\"blue\")\n",
        "plt.show()\n"
      ]
    },
    {
      "cell_type": "code",
      "execution_count": null,
      "metadata": {
        "colab": {
          "base_uri": "https://localhost:8080/",
          "height": 295
        },
        "id": "IeCbMUV0C1-f",
        "outputId": "60adef59-400c-4261-89f9-83c42980e88e"
      },
      "outputs": [
        {
          "output_type": "display_data",
          "data": {
            "text/plain": [
              "<Figure size 432x288 with 1 Axes>"
            ],
            "image/png": "[encoded data removed]"
          },
          "metadata": {
            "needs_background": "light"
          }
        }
      ],
      "source": [
        "plt.scatter(df['QV2M'], df['T2M'], c =df['score'])\n",
        "plt.xlabel('QV2M')\n",
        "plt.ylabel('T2M')\n",
        "plt.title('Variation of T2M vs QV2M')\n",
        "plt.show()\n"
      ]
    },
    {
      "cell_type": "code",
      "execution_count": null,
      "metadata": {
        "colab": {
          "base_uri": "https://localhost:8080/",
          "height": 295
        },
        "id": "OK8JMgzpDAtJ",
        "outputId": "0b5823a4-bdec-427e-f760-cc3e3b0efa10"
      },
      "outputs": [
        {
          "output_type": "display_data",
          "data": {
            "text/plain": [
              "<Figure size 432x288 with 1 Axes>"
            ],
            "image/png": "[encoded data removed]"
          },
          "metadata": {
            "needs_background": "light"
          }
        }
      ],
      "source": [
        "plt.scatter(df['T2M'], df['T2MDEW'], c =df['score'])\n",
        "plt.xlabel('T2M')\n",
        "plt.ylabel('T2MDEW')\n",
        "plt.title('Variation of T2MDEW vs T2M')\n",
        "plt.show()\n"
      ]
    },
    {
      "cell_type": "code",
      "execution_count": null,
      "metadata": {
        "colab": {
          "base_uri": "https://localhost:8080/",
          "height": 295
        },
        "id": "iAHGFc40DK_g",
        "outputId": "b90300c4-3cf9-4b7f-ee5a-df49411d9137"
      },
      "outputs": [
        {
          "output_type": "display_data",
          "data": {
            "text/plain": [
              "<Figure size 432x288 with 1 Axes>"
            ],
            "image/png": "[encoded data removed]"
          },
          "metadata": {
            "needs_background": "light"
          }
        }
      ],
      "source": [
        "temp_df = df[df['score']==5]\n",
        "plt.scatter(df['WS10M'], df['WS50M'], c= df['score'])\n",
        "plt.xlabel('WS10M')\n",
        "plt.ylabel('WS50M')\n",
        "plt.title('Variation of WS50M vs WS10M')\n",
        "plt.show()\n"
      ]
    },
    {
      "cell_type": "code",
      "execution_count": null,
      "metadata": {
        "colab": {
          "base_uri": "https://localhost:8080/",
          "height": 299
        },
        "id": "eAV5Ir-0DnNo",
        "outputId": "983d5601-a3c4-4de6-a309-67c801999af5"
      },
      "outputs": [
        {
          "output_type": "execute_result",
          "data": {
            "text/plain": [
              "    PRECTOT      PS  QV2M    T2M  T2MDEW  T2MWET  T2M_MAX  T2M_MIN  T2M_RANGE  \\\n",
              "3     15.95  100.29  6.42  11.40    6.09    6.10    18.09     2.16      15.92   \n",
              "10     1.33  100.40  6.63  11.48    7.84    7.84    18.88     5.72      13.16   \n",
              "17     1.11  100.39  9.53  14.28   13.26   13.26    18.04     8.98       9.06   \n",
              "24     0.00  100.11  2.05  -0.78   -7.93   -7.72     5.65    -5.46      11.11   \n",
              "31     0.00  101.00  3.36   2.06   -1.73   -1.70    11.02    -4.21      15.23   \n",
              "\n",
              "       TS  ...  WS10M_MAX  WS10M_MIN  WS10M_RANGE  WS50M  WS50M_MAX  \\\n",
              "3   11.31  ...       5.67       2.08         3.59   6.73       9.31   \n",
              "10  10.43  ...       2.48       1.05         1.43   3.55       6.38   \n",
              "17  14.19  ...       3.60       1.67         1.92   5.19       6.40   \n",
              "24  -0.61  ...       4.59       2.28         2.32   5.75       8.03   \n",
              "31   1.88  ...       2.74       0.88         1.86   4.18       6.38   \n",
              "\n",
              "    WS50M_MIN  WS50M_RANGE  year  month  day  \n",
              "3        3.74         5.58  2000      1    4  \n",
              "10       1.71         4.67  2000      1   11  \n",
              "17       3.84         2.55  2000      1   18  \n",
              "24       3.96         4.07  2000      1   25  \n",
              "31       1.27         5.11  2000      2    1  \n",
              "\n",
              "[5 rows x 21 columns]"
            ],
            "text/html": [
              "\n",
              "  <div id=\"df-541bb1eb-f9c6-4189-831c-e6561090e95e\">\n",
              "    <div class=\"colab-df-container\">\n",
              "      <div>\n",
              "<style scoped>\n",
              "    .dataframe tbody tr th:only-of-type {\n",
              "        vertical-align: middle;\n",
              "    }\n",
              "\n",
              "    .dataframe tbody tr th {\n",
              "        vertical-align: top;\n",
              "    }\n",
              "\n",
              "    .dataframe thead th {\n",
              "        text-align: right;\n",
              "    }\n",
              "</style>\n",
              "<table border=\"1\" class=\"dataframe\">\n",
              "  <thead>\n",
              "    <tr style=\"text-align: right;\">\n",
              "      <th></th>\n",
              "      <th>PRECTOT</th>\n",
              "      <th>PS</th>\n",
              "      <th>QV2M</th>\n",
              "      <th>T2M</th>\n",
              "      <th>T2MDEW</th>\n",
              "      <th>T2MWET</th>\n",
              "      <th>T2M_MAX</th>\n",
              "      <th>T2M_MIN</th>\n",
              "      <th>T2M_RANGE</th>\n",
              "      <th>TS</th>\n",
              "      <th>...</th>\n",
              "      <th>WS10M_MAX</th>\n",
              "      <th>WS10M_MIN</th>\n",
              "      <th>WS10M_RANGE</th>\n",
              "      <th>WS50M</th>\n",
              "      <th>WS50M_MAX</th>\n",
              "      <th>WS50M_MIN</th>\n",
              "      <th>WS50M_RANGE</th>\n",
              "      <th>year</th>\n",
              "      <th>month</th>\n",
              "      <th>day</th>\n",
              "    </tr>\n",
              "  </thead>\n",
              "  <tbody>\n",
              "    <tr>\n",
              "      <th>3</th>\n",
              "      <td>15.95</td>\n",
              "      <td>100.29</td>\n",
              "      <td>6.42</td>\n",
              "      <td>11.40</td>\n",
              "      <td>6.09</td>\n",
              "      <td>6.10</td>\n",
              "      <td>18.09</td>\n",
              "      <td>2.16</td>\n",
              "      <td>15.92</td>\n",
              "      <td>11.31</td>\n",
              "      <td>...</td>\n",
              "      <td>5.67</td>\n",
              "      <td>2.08</td>\n",
              "      <td>3.59</td>\n",
              "      <td>6.73</td>\n",
              "      <td>9.31</td>\n",
              "      <td>3.74</td>\n",
              "      <td>5.58</td>\n",
              "      <td>2000</td>\n",
              "      <td>1</td>\n",
              "      <td>4</td>\n",
              "    </tr>\n",
              "    <tr>\n",
              "      <th>10</th>\n",
              "      <td>1.33</td>\n",
              "      <td>100.40</td>\n",
              "      <td>6.63</td>\n",
              "      <td>11.48</td>\n",
              "      <td>7.84</td>\n",
              "      <td>7.84</td>\n",
              "      <td>18.88</td>\n",
              "      <td>5.72</td>\n",
              "      <td>13.16</td>\n",
              "      <td>10.43</td>\n",
              "      <td>...</td>\n",
              "      <td>2.48</td>\n",
              "      <td>1.05</td>\n",
              "      <td>1.43</td>\n",
              "      <td>3.55</td>\n",
              "      <td>6.38</td>\n",
              "      <td>1.71</td>\n",
              "      <td>4.67</td>\n",
              "      <td>2000</td>\n",
              "      <td>1</td>\n",
              "      <td>11</td>\n",
              "    </tr>\n",
              "    <tr>\n",
              "      <th>17</th>\n",
              "      <td>1.11</td>\n",
              "      <td>100.39</td>\n",
              "      <td>9.53</td>\n",
              "      <td>14.28</td>\n",
              "      <td>13.26</td>\n",
              "      <td>13.26</td>\n",
              "      <td>18.04</td>\n",
              "      <td>8.98</td>\n",
              "      <td>9.06</td>\n",
              "      <td>14.19</td>\n",
              "      <td>...</td>\n",
              "      <td>3.60</td>\n",
              "      <td>1.67</td>\n",
              "      <td>1.92</td>\n",
              "      <td>5.19</td>\n",
              "      <td>6.40</td>\n",
              "      <td>3.84</td>\n",
              "      <td>2.55</td>\n",
              "      <td>2000</td>\n",
              "      <td>1</td>\n",
              "      <td>18</td>\n",
              "    </tr>\n",
              "    <tr>\n",
              "      <th>24</th>\n",
              "      <td>0.00</td>\n",
              "      <td>100.11</td>\n",
              "      <td>2.05</td>\n",
              "      <td>-0.78</td>\n",
              "      <td>-7.93</td>\n",
              "      <td>-7.72</td>\n",
              "      <td>5.65</td>\n",
              "      <td>-5.46</td>\n",
              "      <td>11.11</td>\n",
              "      <td>-0.61</td>\n",
              "      <td>...</td>\n",
              "      <td>4.59</td>\n",
              "      <td>2.28</td>\n",
              "      <td>2.32</td>\n",
              "      <td>5.75</td>\n",
              "      <td>8.03</td>\n",
              "      <td>3.96</td>\n",
              "      <td>4.07</td>\n",
              "      <td>2000</td>\n",
              "      <td>1</td>\n",
              "      <td>25</td>\n",
              "    </tr>\n",
              "    <tr>\n",
              "      <th>31</th>\n",
              "      <td>0.00</td>\n",
              "      <td>101.00</td>\n",
              "      <td>3.36</td>\n",
              "      <td>2.06</td>\n",
              "      <td>-1.73</td>\n",
              "      <td>-1.70</td>\n",
              "      <td>11.02</td>\n",
              "      <td>-4.21</td>\n",
              "      <td>15.23</td>\n",
              "      <td>1.88</td>\n",
              "      <td>...</td>\n",
              "      <td>2.74</td>\n",
              "      <td>0.88</td>\n",
              "      <td>1.86</td>\n",
              "      <td>4.18</td>\n",
              "      <td>6.38</td>\n",
              "      <td>1.27</td>\n",
              "      <td>5.11</td>\n",
              "      <td>2000</td>\n",
              "      <td>2</td>\n",
              "      <td>1</td>\n",
              "    </tr>\n",
              "  </tbody>\n",
              "</table>\n",
              "<p>5 rows × 21 columns</p>\n",
              "</div>\n",
              "      <button class=\"colab-df-convert\" onclick=\"convertToInteractive('df-541bb1eb-f9c6-4189-831c-e6561090e95e')\"\n",
              "              title=\"Convert this dataframe to an interactive table.\"\n",
              "              style=\"display:none;\">\n",
              "        \n",
              "  <svg xmlns=\"http://www.w3.org/2000/svg\" height=\"24px\"viewBox=\"0 0 24 24\"\n",
              "       width=\"24px\">\n",
              "    <path d=\"M0 0h24v24H0V0z\" fill=\"none\"/>\n",
              "    <path d=\"M18.56 5.44l.94 2.06.94-2.06 2.06-.94-2.06-.94-.94-2.06-.94 2.06-2.06.94zm-11 1L8.5 8.5l.94-2.06 2.06-.94-2.06-.94L8.5 2.5l-.94 2.06-2.06.94zm10 10l.94 2.06.94-2.06 2.06-.94-2.06-.94-.94-2.06-.94 2.06-2.06.94z\"/><path d=\"M17.41 7.96l-1.37-1.37c-.4-.4-.92-.59-1.43-.59-.52 0-1.04.2-1.43.59L10.3 9.45l-7.72 7.72c-.78.78-.78 2.05 0 2.83L4 21.41c.39.39.9.59 1.41.59.51 0 1.02-.2 1.41-.59l7.78-7.78 2.81-2.81c.8-.78.8-2.07 0-2.86zM5.41 20L4 18.59l7.72-7.72 1.47 1.35L5.41 20z\"/>\n",
              "  </svg>\n",
              "      </button>\n",
              "      \n",
              "  <style>\n",
              "    .colab-df-container {\n",
              "      display:flex;\n",
              "      flex-wrap:wrap;\n",
              "      gap: 12px;\n",
              "    }\n",
              "\n",
              "    .colab-df-convert {\n",
              "      background-color: #E8F0FE;\n",
              "      border: none;\n",
              "      border-radius: 50%;\n",
              "      cursor: pointer;\n",
              "      display: none;\n",
              "      fill: #1967D2;\n",
              "      height: 32px;\n",
              "      padding: 0 0 0 0;\n",
              "      width: 32px;\n",
              "    }\n",
              "\n",
              "    .colab-df-convert:hover {\n",
              "      background-color: #E2EBFA;\n",
              "      box-shadow: 0px 1px 2px rgba(60, 64, 67, 0.3), 0px 1px 3px 1px rgba(60, 64, 67, 0.15);\n",
              "      fill: #174EA6;\n",
              "    }\n",
              "\n",
              "    [theme=dark] .colab-df-convert {\n",
              "      background-color: #3B4455;\n",
              "      fill: #D2E3FC;\n",
              "    }\n",
              "\n",
              "    [theme=dark] .colab-df-convert:hover {\n",
              "      background-color: #434B5C;\n",
              "      box-shadow: 0px 1px 3px 1px rgba(0, 0, 0, 0.15);\n",
              "      filter: drop-shadow(0px 1px 2px rgba(0, 0, 0, 0.3));\n",
              "      fill: #FFFFFF;\n",
              "    }\n",
              "  </style>\n",
              "\n",
              "      <script>\n",
              "        const buttonEl =\n",
              "          document.querySelector('#df-541bb1eb-f9c6-4189-831c-e6561090e95e button.colab-df-convert');\n",
              "        buttonEl.style.display =\n",
              "          google.colab.kernel.accessAllowed ? 'block' : 'none';\n",
              "\n",
              "        async function convertToInteractive(key) {\n",
              "          const element = document.querySelector('#df-541bb1eb-f9c6-4189-831c-e6561090e95e');\n",
              "          const dataTable =\n",
              "            await google.colab.kernel.invokeFunction('convertToInteractive',\n",
              "                                                     [key], {});\n",
              "          if (!dataTable) return;\n",
              "\n",
              "          const docLinkHtml = 'Like what you see? Visit the ' +\n",
              "            '<a target=\"_blank\" href=https://colab.research.google.com/notebooks/data_table.ipynb>data table notebook</a>'\n",
              "            + ' to learn more about interactive tables.';\n",
              "          element.innerHTML = '';\n",
              "          dataTable['output_type'] = 'display_data';\n",
              "          await google.colab.output.renderOutput(dataTable, element);\n",
              "          const docLink = document.createElement('div');\n",
              "          docLink.innerHTML = docLinkHtml;\n",
              "          element.appendChild(docLink);\n",
              "        }\n",
              "      </script>\n",
              "    </div>\n",
              "  </div>\n",
              "  "
            ]
          },
          "metadata": {},
          "execution_count": 18
        }
      ],
      "source": [
        "independent_variables = df.drop('score', 1)\n",
        "independent_variables = independent_variables.drop('fips', 1)\n",
        "independent_variables = independent_variables.drop('date', 1)\n",
        "independent_variables.head()\n"
      ]
    },
    {
      "cell_type": "code",
      "execution_count": null,
      "metadata": {
        "colab": {
          "base_uri": "https://localhost:8080/"
        },
        "id": "nUvps-KHDwa6",
        "outputId": "e6fd71cd-4d5f-4899-9186-b0dfb9e7c154"
      },
      "outputs": [
        {
          "output_type": "execute_result",
          "data": {
            "text/plain": [
              "3     1\n",
              "10    2\n",
              "17    2\n",
              "24    2\n",
              "31    1\n",
              "Name: score, dtype: int64"
            ]
          },
          "metadata": {},
          "execution_count": 19
        }
      ],
      "source": [
        "target = df['score']\n",
        "target.head()\n"
      ]
    },
    {
      "cell_type": "code",
      "execution_count": null,
      "metadata": {
        "colab": {
          "base_uri": "https://localhost:8080/"
        },
        "id": "forQ8WF6Dwex",
        "outputId": "e8d18031-5a40-4860-a711-2d6c1b96c8dd"
      },
      "outputs": [
        {
          "output_type": "execute_result",
          "data": {
            "text/plain": [
              "3     1\n",
              "10    2\n",
              "17    2\n",
              "24    2\n",
              "31    1\n",
              "Name: score, dtype: int64"
            ]
          },
          "metadata": {},
          "execution_count": 20
        }
      ],
      "source": [
        "target = df['score']\n",
        "target.head()\n"
      ]
    },
    {
      "cell_type": "code",
      "execution_count": null,
      "metadata": {
        "id": "IPAkFpgzEFDH"
      },
      "outputs": [],
      "source": [
        "X_train, X_test, y_train, y_test = train_test_split(independent_variables, target, test_size=0.2, random_state=0)\n"
      ]
    },
    {
      "cell_type": "code",
      "execution_count": null,
      "metadata": {
        "colab": {
          "base_uri": "https://localhost:8080/"
        },
        "id": "UnjnFPtcELJH",
        "outputId": "d7936e33-ff23-426f-a8a5-2d818f497fe2"
      },
      "outputs": [
        {
          "output_type": "stream",
          "name": "stdout",
          "text": [
            "Train features shape (2205436, 21)\n",
            "Train target shape (2205436,)\n",
            "Test features shape (551360, 21)\n",
            "Test target shape (551360,)\n"
          ]
        }
      ],
      "source": [
        "print(\"Train features shape\", X_train.shape)\n",
        "print(\"Train target shape\", y_train.shape)\n",
        "print(\"Test features shape\", X_test.shape)\n",
        "print(\"Test target shape\", y_test.shape)\n"
      ]
    },
    {
      "cell_type": "code",
      "execution_count": null,
      "metadata": {
        "colab": {
          "base_uri": "https://localhost:8080/"
        },
        "id": "kOk3Hy0rELUv",
        "outputId": "f9e6caa2-06c1-4f46-ebc2-6f303194cdd7"
      },
      "outputs": [
        {
          "output_type": "execute_result",
          "data": {
            "text/plain": [
              "array([[ 2.21714261e+00,  9.57089223e-02,  1.50081031e+00, ...,\n",
              "         2.04741496e-01,  1.00934752e+00, -3.05953840e-01],\n",
              "       [-4.34665774e-01, -7.40190517e-01, -1.13222167e+00, ...,\n",
              "        -1.02000952e+00, -1.31156897e+00, -5.33260874e-01],\n",
              "       [-3.89747060e-01,  7.49731341e-01,  1.64061732e+00, ...,\n",
              "         4.08866666e-01, -1.51110728e-01, -7.86468057e-02],\n",
              "       ...,\n",
              "       [-2.72637555e-01, -1.48423288e+00, -9.16156290e-01, ...,\n",
              "        -6.11759181e-01, -1.31156897e+00, -1.66979604e+00],\n",
              "       [-4.34665774e-01, -3.65652748e-02, -3.29390515e-01, ...,\n",
              "         6.16326886e-04,  7.19232955e-01,  3.50067113e-02],\n",
              "       [-3.88142820e-01,  9.73862619e-01,  2.25600940e-01, ...,\n",
              "         6.12991835e-01, -1.02145441e+00, -8.74221425e-01]])"
            ]
          },
          "metadata": {},
          "execution_count": 23
        }
      ],
      "source": [
        "sc = StandardScaler()\n",
        "X_train = sc.fit_transform(X_train)\n",
        "X_test = sc.transform(X_test)\n",
        "X_train"
      ]
    },
    {
      "cell_type": "code",
      "execution_count": null,
      "metadata": {
        "colab": {
          "base_uri": "https://localhost:8080/",
          "height": 1000
        },
        "id": "1_nkQY39EYQl",
        "outputId": "29844a70-5b2d-48d0-948b-cf20adf30ec3"
      },
      "outputs": [
        {
          "output_type": "stream",
          "name": "stderr",
          "text": [
            "ERROR:root:Internal Python error in the inspect module.\n",
            "Below is the traceback from this internal error.\n",
            "\n"
          ]
        },
        {
          "output_type": "stream",
          "name": "stdout",
          "text": [
            "Traceback (most recent call last):\n",
            "  File \"/usr/local/lib/python3.7/dist-packages/IPython/core/interactiveshell.py\", line 3326, in run_code\n",
            "    exec(code_obj, self.user_global_ns, self.user_ns)\n",
            "  File \"<ipython-input-24-654d7aa7ebe9>\", line 3, in <module>\n",
            "    fit = rfe.fit(X_train, y_train)\n",
            "  File \"/usr/local/lib/python3.7/dist-packages/sklearn/feature_selection/_rfe.py\", line 222, in fit\n",
            "    return self._fit(X, y, **fit_params)\n",
            "  File \"/usr/local/lib/python3.7/dist-packages/sklearn/feature_selection/_rfe.py\", line 283, in _fit\n",
            "    estimator.fit(X[:, features], y, **fit_params)\n",
            "  File \"/usr/local/lib/python3.7/dist-packages/sklearn/ensemble/_forest.py\", line 467, in fit\n",
            "    for i, t in enumerate(trees)\n",
            "  File \"/usr/local/lib/python3.7/dist-packages/joblib/parallel.py\", line 1088, in __call__\n",
            "    while self.dispatch_one_batch(iterator):\n",
            "  File \"/usr/local/lib/python3.7/dist-packages/joblib/parallel.py\", line 901, in dispatch_one_batch\n",
            "    self._dispatch(tasks)\n",
            "  File \"/usr/local/lib/python3.7/dist-packages/joblib/parallel.py\", line 819, in _dispatch\n",
            "    job = self._backend.apply_async(batch, callback=cb)\n",
            "  File \"/usr/local/lib/python3.7/dist-packages/joblib/_parallel_backends.py\", line 208, in apply_async\n",
            "    result = ImmediateResult(func)\n",
            "  File \"/usr/local/lib/python3.7/dist-packages/joblib/_parallel_backends.py\", line 597, in __init__\n",
            "    self.results = batch()\n",
            "  File \"/usr/local/lib/python3.7/dist-packages/joblib/parallel.py\", line 289, in __call__\n",
            "    for func, args, kwargs in self.items]\n",
            "  File \"/usr/local/lib/python3.7/dist-packages/joblib/parallel.py\", line 289, in <listcomp>\n",
            "    for func, args, kwargs in self.items]\n",
            "  File \"/usr/local/lib/python3.7/dist-packages/sklearn/utils/fixes.py\", line 216, in __call__\n",
            "    return self.function(*args, **kwargs)\n",
            "  File \"/usr/local/lib/python3.7/dist-packages/sklearn/ensemble/_forest.py\", line 185, in _parallel_build_trees\n",
            "    tree.fit(X, y, sample_weight=curr_sample_weight, check_input=False)\n",
            "  File \"/usr/local/lib/python3.7/dist-packages/sklearn/tree/_classes.py\", line 942, in fit\n",
            "    X_idx_sorted=X_idx_sorted,\n",
            "  File \"/usr/local/lib/python3.7/dist-packages/sklearn/tree/_classes.py\", line 420, in fit\n",
            "    builder.build(self.tree_, X, y, sample_weight)\n",
            "KeyboardInterrupt\n",
            "\n",
            "During handling of the above exception, another exception occurred:\n",
            "\n",
            "Traceback (most recent call last):\n",
            "  File \"/usr/local/lib/python3.7/dist-packages/IPython/core/interactiveshell.py\", line 2040, in showtraceback\n",
            "    stb = value._render_traceback_()\n",
            "AttributeError: 'KeyboardInterrupt' object has no attribute '_render_traceback_'\n",
            "\n",
            "During handling of the above exception, another exception occurred:\n",
            "\n",
            "Traceback (most recent call last):\n",
            "  File \"/usr/local/lib/python3.7/dist-packages/IPython/core/ultratb.py\", line 1101, in get_records\n",
            "    return _fixed_getinnerframes(etb, number_of_lines_of_context, tb_offset)\n",
            "  File \"/usr/local/lib/python3.7/dist-packages/IPython/core/ultratb.py\", line 319, in wrapped\n",
            "    return f(*args, **kwargs)\n",
            "  File \"/usr/local/lib/python3.7/dist-packages/IPython/core/ultratb.py\", line 353, in _fixed_getinnerframes\n",
            "    records = fix_frame_records_filenames(inspect.getinnerframes(etb, context))\n",
            "  File \"/usr/lib/python3.7/inspect.py\", line 1502, in getinnerframes\n",
            "    frameinfo = (tb.tb_frame,) + getframeinfo(tb, context)\n",
            "  File \"/usr/lib/python3.7/inspect.py\", line 1460, in getframeinfo\n",
            "    filename = getsourcefile(frame) or getfile(frame)\n",
            "  File \"/usr/lib/python3.7/inspect.py\", line 696, in getsourcefile\n",
            "    if getattr(getmodule(object, filename), '__loader__', None) is not None:\n",
            "  File \"/usr/lib/python3.7/inspect.py\", line 739, in getmodule\n",
            "    f = getabsfile(module)\n",
            "  File \"/usr/lib/python3.7/inspect.py\", line 708, in getabsfile\n",
            "    _filename = getsourcefile(object) or getfile(object)\n",
            "  File \"/usr/lib/python3.7/inspect.py\", line 687, in getsourcefile\n",
            "    if any(filename.endswith(s) for s in all_bytecode_suffixes):\n",
            "KeyboardInterrupt\n"
          ]
        },
        {
          "output_type": "error",
          "ename": "KeyboardInterrupt",
          "evalue": "ignored",
          "traceback": [
            "\u001b[0;31m---------------------------------------------------------------------------\u001b[0m"
          ]
        }
      ],
      "source": [
        "\n",
        "\n",
        "model = RandomForestClassifier(n_estimators=10) # n_estimators is the hyperparameter\n",
        "rfe = RFE(model, n_features_to_select=15) # n_features_to_select is chosen on a trial and error basis\n",
        "fit = rfe.fit(X_train, y_train)\n",
        "print(\"Num Features: %s\" % (fit.n_features_))\n",
        "print(\"Selected Features: %s\" % (fit.support_))\n",
        "print(\"Feature Ranking: %s\" % (fit.ranking_))\n",
        "selected_features = independent_variables.columns[(fit.get_support())]\n",
        "print(selected_features)\n"
      ]
    },
    {
      "cell_type": "code",
      "execution_count": null,
      "metadata": {
        "colab": {
          "base_uri": "https://localhost:8080/"
        },
        "id": "XF6zeJ9WEhXY",
        "outputId": "0365d39a-8ec4-46ba-9830-1d08d89cdb9a"
      },
      "outputs": [
        {
          "output_type": "stream",
          "name": "stdout",
          "text": [
            "Train features shape (2205436, 15)\n",
            "Train target shape (2205436,)\n",
            "Test features shape (551360, 15)\n",
            "Test target shape (551360,)\n"
          ]
        }
      ],
      "source": [
        "independent_variables = independent_variables.drop('PRECTOT', 1)\n",
        "independent_variables = independent_variables.drop('T2MWET', 1)\n",
        "independent_variables = independent_variables.drop('WS10M_MAX', 1)\n",
        "independent_variables = independent_variables.drop('WS10M_MIN', 1)\n",
        "\n",
        "\n",
        "\n",
        "\n",
        "\n",
        "\n",
        "independent_variables = independent_variables.drop('WS50M_MIN', 1)\n",
        "independent_variables = independent_variables.drop('month', 1)\n",
        "independent_variables.head()\n",
        "\n",
        "\n",
        "\n",
        "X_train, X_test, y_train, y_test = train_test_split(independent_variables, target, test_size=0.2, random_state=0)\n",
        "\n",
        "print(\"Train features shape\", X_train.shape)\n",
        "print(\"Train target shape\", y_train.shape)\n",
        "print(\"Test features shape\", X_test.shape)\n",
        "print(\"Test target shape\", y_test.shape)\n",
        "\n",
        "sc = StandardScaler()\n",
        "X_train = sc.fit_transform(X_train)\n",
        "X_test = sc.transform(X_test)\n"
      ]
    },
    {
      "cell_type": "code",
      "execution_count": null,
      "metadata": {
        "id": "az14PayTEn5M"
      },
      "outputs": [],
      "source": [
        "sm = SMOTE(random_state = 5)\n",
        "X_train_ures_SMOTE, y_train_ures_SMOTE = sm.fit_resample(X_train, y_train.ravel())\n"
      ]
    },
    {
      "cell_type": "code",
      "execution_count": null,
      "metadata": {
        "colab": {
          "base_uri": "https://localhost:8080/"
        },
        "id": "xLDc1DwrEsrU",
        "outputId": "0cfa2014-37b2-4ecc-fd1a-14aa3299f371"
      },
      "outputs": [
        {
          "output_type": "stream",
          "name": "stdout",
          "text": [
            "Before OverSampling, the shape of train_X: (2205436, 15)\n",
            "Before OverSampling, the shape of train_y: (2205436,) \n",
            "\n",
            "After OverSampling, the shape of train_X: (7924818, 15)\n",
            "After OverSampling, the shape of train_y: (7924818,) \n",
            "\n",
            "Counts of label '0' - Before Oversampling:1320803, After OverSampling: 1320803\n",
            "Counts of label '1' - Before Oversampling:373855, After OverSampling: 1320803\n",
            "Counts of label '2' - Before Oversampling:236625, After OverSampling: 1320803\n",
            "Counts of label '3' - Before Oversampling:157571, After OverSampling: 1320803\n",
            "Counts of label '4' - Before Oversampling:85208, After OverSampling: 1320803\n",
            "Counts of label '5' - Before Oversampling:31374, After OverSampling: 1320803\n"
          ]
        }
      ],
      "source": [
        "print('Before OverSampling, the shape of train_X: {}'.format(X_train.shape))\n",
        "print('Before OverSampling, the shape of train_y: {} \\n'.format(y_train.shape))\n",
        "\n",
        "print('After OverSampling, the shape of train_X: {}'.format(X_train_ures_SMOTE.shape))\n",
        "print('After OverSampling, the shape of train_y: {} \\n'.format(y_train_ures_SMOTE.shape))\n",
        "\n",
        "print(\"Counts of label '0' - Before Oversampling:{}, After OverSampling: {}\".format(sum(y_train == 0),sum(y_train_ures_SMOTE == 0)))\n",
        "print(\"Counts of label '1' - Before Oversampling:{}, After OverSampling: {}\".format(sum(y_train == 1),sum(y_train_ures_SMOTE == 1)))\n",
        "print(\"Counts of label '2' - Before Oversampling:{}, After OverSampling: {}\".format(sum(y_train == 2),sum(y_train_ures_SMOTE == 2)))\n",
        "print(\"Counts of label '3' - Before Oversampling:{}, After OverSampling: {}\".format(sum(y_train == 3),sum(y_train_ures_SMOTE == 3)))\n",
        "print(\"Counts of label '4' - Before Oversampling:{}, After OverSampling: {}\".format(sum(y_train == 4),sum(y_train_ures_SMOTE == 4)))\n",
        "print(\"Counts of label '5' - Before Oversampling:{}, After OverSampling: {}\".format(sum(y_train == 5),sum(y_train_ures_SMOTE == 5)))\n"
      ]
    },
    {
      "cell_type": "code",
      "execution_count": null,
      "metadata": {
        "id": "9fjkB-WRE06x"
      },
      "outputs": [],
      "source": [
        "\n",
        "undersample = NeighbourhoodCleaningRule(n_neighbors=3, threshold_cleaning=0.5)\n",
        "X_train_dres, y_train_dres = undersample.fit_resample(X_train, y_train)"
      ]
    },
    {
      "cell_type": "code",
      "execution_count": null,
      "metadata": {
        "colab": {
          "base_uri": "https://localhost:8080/"
        },
        "id": "QwYMk6dxE9uq",
        "outputId": "3262eae7-80da-479c-cbfc-c563d16bcc2b"
      },
      "outputs": [
        {
          "output_type": "stream",
          "name": "stdout",
          "text": [
            "Before UnderSampling, the shape of train_X: (2205436, 15)\n",
            "Before UnderSampling, the shape of train_y: (2205436,) \n",
            "\n",
            "After UnderSampling, the shape of train_X: (1746196, 15)\n",
            "After UnderSampling, the shape of train_y: (1746196,) \n",
            "\n",
            "Counts of label '0' - Before UnderSampling:1320803, After UnderSampling: 1230970\n",
            "Counts of label '1' - Before UnderSampling:373855, After UnderSampling: 226046\n",
            "Counts of label '2' - Before UnderSampling:236625, After UnderSampling: 129001\n",
            "Counts of label '3' - Before UnderSampling:157571, After UnderSampling: 84065\n",
            "Counts of label '4' - Before UnderSampling:85208, After UnderSampling: 44740\n",
            "Counts of label '5' - Before UnderSampling:31374, After UnderSampling: 31374\n"
          ]
        }
      ],
      "source": [
        "print('Before UnderSampling, the shape of train_X: {}'.format(X_train.shape))\n",
        "print('Before UnderSampling, the shape of train_y: {} \\n'.format(y_train.shape))\n",
        "\n",
        "print('After UnderSampling, the shape of train_X: {}'.format(X_train_dres.shape))\n",
        "print('After UnderSampling, the shape of train_y: {} \\n'.format(y_train_dres.shape))\n",
        "\n",
        "print(\"Counts of label '0' - Before UnderSampling:{}, After UnderSampling: {}\".format(sum(y_train == 0),sum(y_train_dres == 0)))\n",
        "print(\"Counts of label '1' - Before UnderSampling:{}, After UnderSampling: {}\".format(sum(y_train == 1),sum(y_train_dres == 1)))\n",
        "print(\"Counts of label '2' - Before UnderSampling:{}, After UnderSampling: {}\".format(sum(y_train == 2),sum(y_train_dres == 2)))\n",
        "print(\"Counts of label '3' - Before UnderSampling:{}, After UnderSampling: {}\".format(sum(y_train == 3),sum(y_train_dres == 3)))\n",
        "print(\"Counts of label '4' - Before UnderSampling:{}, After UnderSampling: {}\".format(sum(y_train == 4),sum(y_train_dres == 4)))\n",
        "print(\"Counts of label '5' - Before UnderSampling:{}, After UnderSampling: {}\".format(sum(y_train == 5),sum(y_train_dres == 5)))\n"
      ]
    },
    {
      "cell_type": "code",
      "execution_count": null,
      "metadata": {
        "id": "8nCZk3xlFI1-",
        "colab": {
          "base_uri": "https://localhost:8080/",
          "height": 363
        },
        "outputId": "b12b606a-7d17-4fd0-e087-3d72589f43e3"
      },
      "outputs": [
        {
          "output_type": "error",
          "ename": "KeyboardInterrupt",
          "evalue": "ignored",
          "traceback": [
            "\u001b[0;31m---------------------------------------------------------------------------\u001b[0m",
            "\u001b[0;31mKeyboardInterrupt\u001b[0m                         Traceback (most recent call last)",
            "\u001b[0;32m<ipython-input-27-e74bffe7ba66>\u001b[0m in \u001b[0;36m<module>\u001b[0;34m\u001b[0m\n\u001b[1;32m      1\u001b[0m \u001b[0;32mfrom\u001b[0m \u001b[0mimblearn\u001b[0m\u001b[0;34m.\u001b[0m\u001b[0munder_sampling\u001b[0m \u001b[0;32mimport\u001b[0m \u001b[0mNearMiss\u001b[0m\u001b[0;34m\u001b[0m\u001b[0;34m\u001b[0m\u001b[0m\n\u001b[1;32m      2\u001b[0m \u001b[0mundersample\u001b[0m \u001b[0;34m=\u001b[0m \u001b[0mNearMiss\u001b[0m\u001b[0;34m(\u001b[0m\u001b[0;34m)\u001b[0m\u001b[0;34m\u001b[0m\u001b[0;34m\u001b[0m\u001b[0m\n\u001b[0;32m----> 3\u001b[0;31m \u001b[0mX_train_dres_nm\u001b[0m\u001b[0;34m,\u001b[0m \u001b[0my_train_dres_nm\u001b[0m \u001b[0;34m=\u001b[0m \u001b[0mundersample\u001b[0m\u001b[0;34m.\u001b[0m\u001b[0mfit_resample\u001b[0m\u001b[0;34m(\u001b[0m\u001b[0mX_train\u001b[0m\u001b[0;34m,\u001b[0m \u001b[0my_train\u001b[0m\u001b[0;34m)\u001b[0m\u001b[0;34m\u001b[0m\u001b[0;34m\u001b[0m\u001b[0m\n\u001b[0m",
            "\u001b[0;32m/usr/local/lib/python3.7/dist-packages/imblearn/base.py\u001b[0m in \u001b[0;36mfit_resample\u001b[0;34m(self, X, y)\u001b[0m\n\u001b[1;32m     81\u001b[0m         )\n\u001b[1;32m     82\u001b[0m \u001b[0;34m\u001b[0m\u001b[0m\n\u001b[0;32m---> 83\u001b[0;31m         \u001b[0moutput\u001b[0m \u001b[0;34m=\u001b[0m \u001b[0mself\u001b[0m\u001b[0;34m.\u001b[0m\u001b[0m_fit_resample\u001b[0m\u001b[0;34m(\u001b[0m\u001b[0mX\u001b[0m\u001b[0;34m,\u001b[0m \u001b[0my\u001b[0m\u001b[0;34m)\u001b[0m\u001b[0;34m\u001b[0m\u001b[0;34m\u001b[0m\u001b[0m\n\u001b[0m\u001b[1;32m     84\u001b[0m \u001b[0;34m\u001b[0m\u001b[0m\n\u001b[1;32m     85\u001b[0m         y_ = (\n",
            "\u001b[0;32m/usr/local/lib/python3.7/dist-packages/imblearn/under_sampling/_prototype_selection/_nearmiss.py\u001b[0m in \u001b[0;36m_fit_resample\u001b[0;34m(self, X, y)\u001b[0m\n\u001b[1;32m    220\u001b[0m                 \u001b[0;32mif\u001b[0m \u001b[0mself\u001b[0m\u001b[0;34m.\u001b[0m\u001b[0mversion\u001b[0m \u001b[0;34m==\u001b[0m \u001b[0;36m1\u001b[0m\u001b[0;34m:\u001b[0m\u001b[0;34m\u001b[0m\u001b[0;34m\u001b[0m\u001b[0m\n\u001b[1;32m    221\u001b[0m                     dist_vec, idx_vec = self.nn_.kneighbors(\n\u001b[0;32m--> 222\u001b[0;31m                         \u001b[0mX_class\u001b[0m\u001b[0;34m,\u001b[0m \u001b[0mn_neighbors\u001b[0m\u001b[0;34m=\u001b[0m\u001b[0mself\u001b[0m\u001b[0;34m.\u001b[0m\u001b[0mnn_\u001b[0m\u001b[0;34m.\u001b[0m\u001b[0mn_neighbors\u001b[0m\u001b[0;34m\u001b[0m\u001b[0;34m\u001b[0m\u001b[0m\n\u001b[0m\u001b[1;32m    223\u001b[0m                     )\n\u001b[1;32m    224\u001b[0m                     index_target_class = self._selection_dist_based(\n",
            "\u001b[0;32m/usr/local/lib/python3.7/dist-packages/sklearn/neighbors/_base.py\u001b[0m in \u001b[0;36mkneighbors\u001b[0;34m(self, X, n_neighbors, return_distance)\u001b[0m\n\u001b[1;32m    778\u001b[0m                     \u001b[0mself\u001b[0m\u001b[0;34m.\u001b[0m\u001b[0m_tree\u001b[0m\u001b[0;34m,\u001b[0m \u001b[0mX\u001b[0m\u001b[0;34m[\u001b[0m\u001b[0ms\u001b[0m\u001b[0;34m]\u001b[0m\u001b[0;34m,\u001b[0m \u001b[0mn_neighbors\u001b[0m\u001b[0;34m,\u001b[0m \u001b[0mreturn_distance\u001b[0m\u001b[0;34m\u001b[0m\u001b[0;34m\u001b[0m\u001b[0m\n\u001b[1;32m    779\u001b[0m                 )\n\u001b[0;32m--> 780\u001b[0;31m                 \u001b[0;32mfor\u001b[0m \u001b[0ms\u001b[0m \u001b[0;32min\u001b[0m \u001b[0mgen_even_slices\u001b[0m\u001b[0;34m(\u001b[0m\u001b[0mX\u001b[0m\u001b[0;34m.\u001b[0m\u001b[0mshape\u001b[0m\u001b[0;34m[\u001b[0m\u001b[0;36m0\u001b[0m\u001b[0;34m]\u001b[0m\u001b[0;34m,\u001b[0m \u001b[0mn_jobs\u001b[0m\u001b[0;34m)\u001b[0m\u001b[0;34m\u001b[0m\u001b[0;34m\u001b[0m\u001b[0m\n\u001b[0m\u001b[1;32m    781\u001b[0m             )\n\u001b[1;32m    782\u001b[0m         \u001b[0;32melse\u001b[0m\u001b[0;34m:\u001b[0m\u001b[0;34m\u001b[0m\u001b[0;34m\u001b[0m\u001b[0m\n",
            "\u001b[0;32m/usr/local/lib/python3.7/dist-packages/joblib/parallel.py\u001b[0m in \u001b[0;36m__call__\u001b[0;34m(self, iterable)\u001b[0m\n\u001b[1;32m   1083\u001b[0m             \u001b[0;31m# remaining jobs.\u001b[0m\u001b[0;34m\u001b[0m\u001b[0;34m\u001b[0m\u001b[0;34m\u001b[0m\u001b[0m\n\u001b[1;32m   1084\u001b[0m             \u001b[0mself\u001b[0m\u001b[0;34m.\u001b[0m\u001b[0m_iterating\u001b[0m \u001b[0;34m=\u001b[0m \u001b[0;32mFalse\u001b[0m\u001b[0;34m\u001b[0m\u001b[0;34m\u001b[0m\u001b[0m\n\u001b[0;32m-> 1085\u001b[0;31m             \u001b[0;32mif\u001b[0m \u001b[0mself\u001b[0m\u001b[0;34m.\u001b[0m\u001b[0mdispatch_one_batch\u001b[0m\u001b[0;34m(\u001b[0m\u001b[0miterator\u001b[0m\u001b[0;34m)\u001b[0m\u001b[0;34m:\u001b[0m\u001b[0;34m\u001b[0m\u001b[0;34m\u001b[0m\u001b[0m\n\u001b[0m\u001b[1;32m   1086\u001b[0m                 \u001b[0mself\u001b[0m\u001b[0;34m.\u001b[0m\u001b[0m_iterating\u001b[0m \u001b[0;34m=\u001b[0m \u001b[0mself\u001b[0m\u001b[0;34m.\u001b[0m\u001b[0m_original_iterator\u001b[0m \u001b[0;32mis\u001b[0m \u001b[0;32mnot\u001b[0m \u001b[0;32mNone\u001b[0m\u001b[0;34m\u001b[0m\u001b[0;34m\u001b[0m\u001b[0m\n\u001b[1;32m   1087\u001b[0m \u001b[0;34m\u001b[0m\u001b[0m\n",
            "\u001b[0;32m/usr/local/lib/python3.7/dist-packages/joblib/parallel.py\u001b[0m in \u001b[0;36mdispatch_one_batch\u001b[0;34m(self, iterator)\u001b[0m\n\u001b[1;32m    899\u001b[0m                 \u001b[0;32mreturn\u001b[0m \u001b[0;32mFalse\u001b[0m\u001b[0;34m\u001b[0m\u001b[0;34m\u001b[0m\u001b[0m\n\u001b[1;32m    900\u001b[0m             \u001b[0;32melse\u001b[0m\u001b[0;34m:\u001b[0m\u001b[0;34m\u001b[0m\u001b[0;34m\u001b[0m\u001b[0m\n\u001b[0;32m--> 901\u001b[0;31m                 \u001b[0mself\u001b[0m\u001b[0;34m.\u001b[0m\u001b[0m_dispatch\u001b[0m\u001b[0;34m(\u001b[0m\u001b[0mtasks\u001b[0m\u001b[0;34m)\u001b[0m\u001b[0;34m\u001b[0m\u001b[0;34m\u001b[0m\u001b[0m\n\u001b[0m\u001b[1;32m    902\u001b[0m                 \u001b[0;32mreturn\u001b[0m \u001b[0;32mTrue\u001b[0m\u001b[0;34m\u001b[0m\u001b[0;34m\u001b[0m\u001b[0m\n\u001b[1;32m    903\u001b[0m \u001b[0;34m\u001b[0m\u001b[0m\n",
            "\u001b[0;32m/usr/local/lib/python3.7/dist-packages/joblib/parallel.py\u001b[0m in \u001b[0;36m_dispatch\u001b[0;34m(self, batch)\u001b[0m\n\u001b[1;32m    817\u001b[0m         \u001b[0;32mwith\u001b[0m \u001b[0mself\u001b[0m\u001b[0;34m.\u001b[0m\u001b[0m_lock\u001b[0m\u001b[0;34m:\u001b[0m\u001b[0;34m\u001b[0m\u001b[0;34m\u001b[0m\u001b[0m\n\u001b[1;32m    818\u001b[0m             \u001b[0mjob_idx\u001b[0m \u001b[0;34m=\u001b[0m \u001b[0mlen\u001b[0m\u001b[0;34m(\u001b[0m\u001b[0mself\u001b[0m\u001b[0;34m.\u001b[0m\u001b[0m_jobs\u001b[0m\u001b[0;34m)\u001b[0m\u001b[0;34m\u001b[0m\u001b[0;34m\u001b[0m\u001b[0m\n\u001b[0;32m--> 819\u001b[0;31m             \u001b[0mjob\u001b[0m \u001b[0;34m=\u001b[0m \u001b[0mself\u001b[0m\u001b[0;34m.\u001b[0m\u001b[0m_backend\u001b[0m\u001b[0;34m.\u001b[0m\u001b[0mapply_async\u001b[0m\u001b[0;34m(\u001b[0m\u001b[0mbatch\u001b[0m\u001b[0;34m,\u001b[0m \u001b[0mcallback\u001b[0m\u001b[0;34m=\u001b[0m\u001b[0mcb\u001b[0m\u001b[0;34m)\u001b[0m\u001b[0;34m\u001b[0m\u001b[0;34m\u001b[0m\u001b[0m\n\u001b[0m\u001b[1;32m    820\u001b[0m             \u001b[0;31m# A job can complete so quickly than its callback is\u001b[0m\u001b[0;34m\u001b[0m\u001b[0;34m\u001b[0m\u001b[0;34m\u001b[0m\u001b[0m\n\u001b[1;32m    821\u001b[0m             \u001b[0;31m# called before we get here, causing self._jobs to\u001b[0m\u001b[0;34m\u001b[0m\u001b[0;34m\u001b[0m\u001b[0;34m\u001b[0m\u001b[0m\n",
            "\u001b[0;32m/usr/local/lib/python3.7/dist-packages/joblib/_parallel_backends.py\u001b[0m in \u001b[0;36mapply_async\u001b[0;34m(self, func, callback)\u001b[0m\n\u001b[1;32m    206\u001b[0m     \u001b[0;32mdef\u001b[0m \u001b[0mapply_async\u001b[0m\u001b[0;34m(\u001b[0m\u001b[0mself\u001b[0m\u001b[0;34m,\u001b[0m \u001b[0mfunc\u001b[0m\u001b[0;34m,\u001b[0m \u001b[0mcallback\u001b[0m\u001b[0;34m=\u001b[0m\u001b[0;32mNone\u001b[0m\u001b[0;34m)\u001b[0m\u001b[0;34m:\u001b[0m\u001b[0;34m\u001b[0m\u001b[0;34m\u001b[0m\u001b[0m\n\u001b[1;32m    207\u001b[0m         \u001b[0;34m\"\"\"Schedule a func to be run\"\"\"\u001b[0m\u001b[0;34m\u001b[0m\u001b[0;34m\u001b[0m\u001b[0m\n\u001b[0;32m--> 208\u001b[0;31m         \u001b[0mresult\u001b[0m \u001b[0;34m=\u001b[0m \u001b[0mImmediateResult\u001b[0m\u001b[0;34m(\u001b[0m\u001b[0mfunc\u001b[0m\u001b[0;34m)\u001b[0m\u001b[0;34m\u001b[0m\u001b[0;34m\u001b[0m\u001b[0m\n\u001b[0m\u001b[1;32m    209\u001b[0m         \u001b[0;32mif\u001b[0m \u001b[0mcallback\u001b[0m\u001b[0;34m:\u001b[0m\u001b[0;34m\u001b[0m\u001b[0;34m\u001b[0m\u001b[0m\n\u001b[1;32m    210\u001b[0m             \u001b[0mcallback\u001b[0m\u001b[0;34m(\u001b[0m\u001b[0mresult\u001b[0m\u001b[0;34m)\u001b[0m\u001b[0;34m\u001b[0m\u001b[0;34m\u001b[0m\u001b[0m\n",
            "\u001b[0;32m/usr/local/lib/python3.7/dist-packages/joblib/_parallel_backends.py\u001b[0m in \u001b[0;36m__init__\u001b[0;34m(self, batch)\u001b[0m\n\u001b[1;32m    595\u001b[0m         \u001b[0;31m# Don't delay the application, to avoid keeping the input\u001b[0m\u001b[0;34m\u001b[0m\u001b[0;34m\u001b[0m\u001b[0;34m\u001b[0m\u001b[0m\n\u001b[1;32m    596\u001b[0m         \u001b[0;31m# arguments in memory\u001b[0m\u001b[0;34m\u001b[0m\u001b[0;34m\u001b[0m\u001b[0;34m\u001b[0m\u001b[0m\n\u001b[0;32m--> 597\u001b[0;31m         \u001b[0mself\u001b[0m\u001b[0;34m.\u001b[0m\u001b[0mresults\u001b[0m \u001b[0;34m=\u001b[0m \u001b[0mbatch\u001b[0m\u001b[0;34m(\u001b[0m\u001b[0;34m)\u001b[0m\u001b[0;34m\u001b[0m\u001b[0;34m\u001b[0m\u001b[0m\n\u001b[0m\u001b[1;32m    598\u001b[0m \u001b[0;34m\u001b[0m\u001b[0m\n\u001b[1;32m    599\u001b[0m     \u001b[0;32mdef\u001b[0m \u001b[0mget\u001b[0m\u001b[0;34m(\u001b[0m\u001b[0mself\u001b[0m\u001b[0;34m)\u001b[0m\u001b[0;34m:\u001b[0m\u001b[0;34m\u001b[0m\u001b[0;34m\u001b[0m\u001b[0m\n",
            "\u001b[0;32m/usr/local/lib/python3.7/dist-packages/joblib/parallel.py\u001b[0m in \u001b[0;36m__call__\u001b[0;34m(self)\u001b[0m\n\u001b[1;32m    287\u001b[0m         \u001b[0;32mwith\u001b[0m \u001b[0mparallel_backend\u001b[0m\u001b[0;34m(\u001b[0m\u001b[0mself\u001b[0m\u001b[0;34m.\u001b[0m\u001b[0m_backend\u001b[0m\u001b[0;34m,\u001b[0m \u001b[0mn_jobs\u001b[0m\u001b[0;34m=\u001b[0m\u001b[0mself\u001b[0m\u001b[0;34m.\u001b[0m\u001b[0m_n_jobs\u001b[0m\u001b[0;34m)\u001b[0m\u001b[0;34m:\u001b[0m\u001b[0;34m\u001b[0m\u001b[0;34m\u001b[0m\u001b[0m\n\u001b[1;32m    288\u001b[0m             return [func(*args, **kwargs)\n\u001b[0;32m--> 289\u001b[0;31m                     for func, args, kwargs in self.items]\n\u001b[0m\u001b[1;32m    290\u001b[0m \u001b[0;34m\u001b[0m\u001b[0m\n\u001b[1;32m    291\u001b[0m     \u001b[0;32mdef\u001b[0m \u001b[0m__reduce__\u001b[0m\u001b[0;34m(\u001b[0m\u001b[0mself\u001b[0m\u001b[0;34m)\u001b[0m\u001b[0;34m:\u001b[0m\u001b[0;34m\u001b[0m\u001b[0;34m\u001b[0m\u001b[0m\n",
            "\u001b[0;32m/usr/local/lib/python3.7/dist-packages/joblib/parallel.py\u001b[0m in \u001b[0;36m<listcomp>\u001b[0;34m(.0)\u001b[0m\n\u001b[1;32m    287\u001b[0m         \u001b[0;32mwith\u001b[0m \u001b[0mparallel_backend\u001b[0m\u001b[0;34m(\u001b[0m\u001b[0mself\u001b[0m\u001b[0;34m.\u001b[0m\u001b[0m_backend\u001b[0m\u001b[0;34m,\u001b[0m \u001b[0mn_jobs\u001b[0m\u001b[0;34m=\u001b[0m\u001b[0mself\u001b[0m\u001b[0;34m.\u001b[0m\u001b[0m_n_jobs\u001b[0m\u001b[0;34m)\u001b[0m\u001b[0;34m:\u001b[0m\u001b[0;34m\u001b[0m\u001b[0;34m\u001b[0m\u001b[0m\n\u001b[1;32m    288\u001b[0m             return [func(*args, **kwargs)\n\u001b[0;32m--> 289\u001b[0;31m                     for func, args, kwargs in self.items]\n\u001b[0m\u001b[1;32m    290\u001b[0m \u001b[0;34m\u001b[0m\u001b[0m\n\u001b[1;32m    291\u001b[0m     \u001b[0;32mdef\u001b[0m \u001b[0m__reduce__\u001b[0m\u001b[0;34m(\u001b[0m\u001b[0mself\u001b[0m\u001b[0;34m)\u001b[0m\u001b[0;34m:\u001b[0m\u001b[0;34m\u001b[0m\u001b[0;34m\u001b[0m\u001b[0m\n",
            "\u001b[0;32m/usr/local/lib/python3.7/dist-packages/sklearn/utils/fixes.py\u001b[0m in \u001b[0;36m__call__\u001b[0;34m(self, *args, **kwargs)\u001b[0m\n\u001b[1;32m    214\u001b[0m     \u001b[0;32mdef\u001b[0m \u001b[0m__call__\u001b[0m\u001b[0;34m(\u001b[0m\u001b[0mself\u001b[0m\u001b[0;34m,\u001b[0m \u001b[0;34m*\u001b[0m\u001b[0margs\u001b[0m\u001b[0;34m,\u001b[0m \u001b[0;34m**\u001b[0m\u001b[0mkwargs\u001b[0m\u001b[0;34m)\u001b[0m\u001b[0;34m:\u001b[0m\u001b[0;34m\u001b[0m\u001b[0;34m\u001b[0m\u001b[0m\n\u001b[1;32m    215\u001b[0m         \u001b[0;32mwith\u001b[0m \u001b[0mconfig_context\u001b[0m\u001b[0;34m(\u001b[0m\u001b[0;34m**\u001b[0m\u001b[0mself\u001b[0m\u001b[0;34m.\u001b[0m\u001b[0mconfig\u001b[0m\u001b[0;34m)\u001b[0m\u001b[0;34m:\u001b[0m\u001b[0;34m\u001b[0m\u001b[0;34m\u001b[0m\u001b[0m\n\u001b[0;32m--> 216\u001b[0;31m             \u001b[0;32mreturn\u001b[0m \u001b[0mself\u001b[0m\u001b[0;34m.\u001b[0m\u001b[0mfunction\u001b[0m\u001b[0;34m(\u001b[0m\u001b[0;34m*\u001b[0m\u001b[0margs\u001b[0m\u001b[0;34m,\u001b[0m \u001b[0;34m**\u001b[0m\u001b[0mkwargs\u001b[0m\u001b[0;34m)\u001b[0m\u001b[0;34m\u001b[0m\u001b[0;34m\u001b[0m\u001b[0m\n\u001b[0m\u001b[1;32m    217\u001b[0m \u001b[0;34m\u001b[0m\u001b[0m\n\u001b[1;32m    218\u001b[0m \u001b[0;34m\u001b[0m\u001b[0m\n",
            "\u001b[0;32m/usr/local/lib/python3.7/dist-packages/sklearn/neighbors/_base.py\u001b[0m in \u001b[0;36m_tree_query_parallel_helper\u001b[0;34m(tree, *args, **kwargs)\u001b[0m\n\u001b[1;32m    598\u001b[0m     \u001b[0munder\u001b[0m \u001b[0mPyPy\u001b[0m\u001b[0;34m.\u001b[0m\u001b[0;34m\u001b[0m\u001b[0;34m\u001b[0m\u001b[0m\n\u001b[1;32m    599\u001b[0m     \"\"\"\n\u001b[0;32m--> 600\u001b[0;31m     \u001b[0;32mreturn\u001b[0m \u001b[0mtree\u001b[0m\u001b[0;34m.\u001b[0m\u001b[0mquery\u001b[0m\u001b[0;34m(\u001b[0m\u001b[0;34m*\u001b[0m\u001b[0margs\u001b[0m\u001b[0;34m,\u001b[0m \u001b[0;34m**\u001b[0m\u001b[0mkwargs\u001b[0m\u001b[0;34m)\u001b[0m\u001b[0;34m\u001b[0m\u001b[0;34m\u001b[0m\u001b[0m\n\u001b[0m\u001b[1;32m    601\u001b[0m \u001b[0;34m\u001b[0m\u001b[0m\n\u001b[1;32m    602\u001b[0m \u001b[0;34m\u001b[0m\u001b[0m\n",
            "\u001b[0;31mKeyboardInterrupt\u001b[0m: "
          ]
        }
      ],
      "source": [
        "from imblearn.under_sampling import NearMiss\n",
        "undersample = NearMiss()\n",
        "X_train_dres_nm, y_train_dres_nm = undersample.fit_resample(X_train, y_train)"
      ]
    },
    {
      "cell_type": "code",
      "execution_count": null,
      "metadata": {
        "colab": {
          "base_uri": "https://localhost:8080/"
        },
        "id": "jyTZAoYyFQkT",
        "outputId": "8fde8e19-2893-4303-b3e5-466f04669980"
      },
      "outputs": [
        {
          "output_type": "stream",
          "name": "stdout",
          "text": [
            "Before UnderSampling, the shape of train_X: (2205436, 15)\n",
            "Before UnderSampling, the shape of train_y: (2205436,) \n",
            "\n",
            "After UnderSampling, the shape of train_X: (188244, 15)\n",
            "After UnderSampling, the shape of train_y: (188244,) \n",
            "\n",
            "Counts of label '0' - Before UnderSampling:1320803, After UnderSampling: 31374\n",
            "Counts of label '1' - Before UnderSampling:373855, After UnderSampling: 31374\n",
            "Counts of label '2' - Before UnderSampling:236625, After UnderSampling: 31374\n",
            "Counts of label '3' - Before UnderSampling:157571, After UnderSampling: 31374\n",
            "Counts of label '4' - Before UnderSampling:85208, After UnderSampling: 31374\n",
            "Counts of label '5' - Before UnderSampling:31374, After UnderSampling: 31374\n"
          ]
        }
      ],
      "source": [
        "print('Before UnderSampling, the shape of train_X: {}'.format(X_train.shape))\n",
        "print('Before UnderSampling, the shape of train_y: {} \\n'.format(y_train.shape))\n",
        "\n",
        "print('After UnderSampling, the shape of train_X: {}'.format(X_train_dres_nm.shape))\n",
        "print('After UnderSampling, the shape of train_y: {} \\n'.format(y_train_dres_nm.shape))\n",
        "\n",
        "print(\"Counts of label '0' - Before UnderSampling:{}, After UnderSampling: {}\".format(sum(y_train == 0),sum(y_train_dres_nm == 0)))\n",
        "print(\"Counts of label '1' - Before UnderSampling:{}, After UnderSampling: {}\".format(sum(y_train == 1),sum(y_train_dres_nm == 1)))\n",
        "print(\"Counts of label '2' - Before UnderSampling:{}, After UnderSampling: {}\".format(sum(y_train == 2),sum(y_train_dres_nm == 2)))\n",
        "print(\"Counts of label '3' - Before UnderSampling:{}, After UnderSampling: {}\".format(sum(y_train == 3),sum(y_train_dres_nm == 3)))\n",
        "print(\"Counts of label '4' - Before UnderSampling:{}, After UnderSampling: {}\".format(sum(y_train == 4),sum(y_train_dres_nm == 4)))\n",
        "print(\"Counts of label '5' - Before UnderSampling:{}, After UnderSampling: {}\".format(sum(y_train == 5),sum(y_train_dres_nm == 5)))"
      ]
    },
    {
      "cell_type": "code",
      "execution_count": null,
      "metadata": {
        "id": "PX3G6TaeFXp7"
      },
      "outputs": [],
      "source": [
        "pca = PCA()\n",
        "X_train_dres_nm_PCAreduced = pca.fit_transform(X_train_dres_nm)\n",
        "X_test_NM_PCA_transformed = pca.transform(X_test)"
      ]
    },
    {
      "cell_type": "code",
      "execution_count": null,
      "metadata": {
        "colab": {
          "base_uri": "https://localhost:8080/"
        },
        "id": "xO8nBXh6Fdpf",
        "outputId": "47b8451e-5506-4ac3-f77b-5d15c7c586a8"
      },
      "outputs": [
        {
          "output_type": "stream",
          "name": "stdout",
          "text": [
            "[4.52427047e-01 1.96800376e-01 9.24685658e-02 8.81612261e-02\n",
            " 6.45364302e-02 4.48822682e-02 3.85415258e-02 1.02119415e-02\n",
            " 7.08077711e-03 2.06625391e-03 1.48838993e-03 8.89425424e-04\n",
            " 3.67252846e-04 7.85112441e-05 8.92766475e-09]\n"
          ]
        }
      ],
      "source": [
        "print(pca.explained_variance_ratio_)"
      ]
    },
    {
      "cell_type": "code",
      "execution_count": null,
      "metadata": {
        "id": "8YkG0wU0FopX"
      },
      "outputs": [],
      "source": [
        "\n",
        "pca = PCA(n_components=5)\n",
        "X_train_dres_nm_PCAreduced = pca.fit_transform(X_train_dres_nm)\n",
        "X_test_NM_PCA_transformed = pca.transform(X_test)\n"
      ]
    },
    {
      "cell_type": "code",
      "execution_count": null,
      "metadata": {
        "id": "zpiQjJ3OF4pS"
      },
      "outputs": [],
      "source": [
        "pca = PCA()\n",
        "X_train_ures_SMOTE_PCAreduced = pca.fit_transform(X_train_ures_SMOTE)\n",
        "X_test_SMOTE_PCA_transformed = pca.transform(X_test)"
      ]
    },
    {
      "cell_type": "code",
      "execution_count": null,
      "metadata": {
        "colab": {
          "base_uri": "https://localhost:8080/"
        },
        "id": "ZcwARqHiF_Y4",
        "outputId": "56394127-ba14-43fd-995a-c21af08e28c1"
      },
      "outputs": [
        {
          "output_type": "stream",
          "name": "stdout",
          "text": [
            "[4.09305326e-01 2.24202289e-01 1.07716211e-01 6.47490391e-02\n",
            " 6.42705962e-02 5.66380231e-02 4.98746620e-02 1.09249196e-02\n",
            " 7.27465485e-03 2.21952830e-03 1.48919785e-03 8.85319555e-04\n",
            " 3.76755933e-04 7.34731926e-05 4.81116498e-09]\n"
          ]
        }
      ],
      "source": [
        "print(pca.explained_variance_ratio_)\n"
      ]
    },
    {
      "cell_type": "code",
      "execution_count": null,
      "metadata": {
        "id": "HwY7oZ6jGHHI"
      },
      "outputs": [],
      "source": [
        "pca = PCA(n_components=5)\n",
        "X_train_ures_SMOTE_PCAreduced = pca.fit_transform(X_train_ures_SMOTE)\n",
        "X_test_SMOTE_PCA_transformed = pca.transform(X_test)\n"
      ]
    },
    {
      "cell_type": "code",
      "execution_count": null,
      "metadata": {
        "colab": {
          "base_uri": "https://localhost:8080/",
          "height": 165
        },
        "id": "KQEnLpSGGMXn",
        "outputId": "a02e41ae-9f69-44ed-89a3-bfa055c94358"
      },
      "outputs": [
        {
          "ename": "NameError",
          "evalue": "ignored",
          "output_type": "error",
          "traceback": [
            "\u001b[0;31m---------------------------------------------------------------------------\u001b[0m",
            "\u001b[0;31mNameError\u001b[0m                                 Traceback (most recent call last)",
            "\u001b[0;32m<ipython-input-3-63e90d88b823>\u001b[0m in \u001b[0;36m<module>\u001b[0;34m()\u001b[0m\n\u001b[0;32m----> 1\u001b[0;31m \u001b[0mprint\u001b[0m\u001b[0;34m(\u001b[0m\u001b[0mpca\u001b[0m\u001b[0;34m.\u001b[0m\u001b[0mexplained_variance_ratio_\u001b[0m\u001b[0;34m)\u001b[0m\u001b[0;34m\u001b[0m\u001b[0;34m\u001b[0m\u001b[0m\n\u001b[0m",
            "\u001b[0;31mNameError\u001b[0m: name 'pca' is not defined"
          ]
        }
      ],
      "source": [
        "print(pca.explained_variance_ratio_)"
      ]
    },
    {
      "cell_type": "code",
      "execution_count": null,
      "metadata": {
        "id": "sLOIkacJGSkw"
      },
      "outputs": [],
      "source": [
        "# poly_kpca = KernelPCA(kernel='poly')\n",
        "# X_train_dres_nm_polykPCAreduced = poly_kpca.fit_transform(X_train_dres_nm)\n",
        "# X_test_NM_polykPCA_transformed = poly_kpca.transform(X_test)\n"
      ]
    },
    {
      "cell_type": "code",
      "execution_count": null,
      "metadata": {
        "id": "7lhphF2eGWFv"
      },
      "outputs": [],
      "source": [
        "# print(poly_kpca.explained_variance_ratio_)\n"
      ]
    },
    {
      "cell_type": "code",
      "execution_count": null,
      "metadata": {
        "id": "-csGMEUcGg_U"
      },
      "outputs": [],
      "source": [
        "# poly_kpca = KernelPCA(kernel='poly')\n",
        "# X_train_ures_SMOTE_polykPCAreduced = poly_kpca.fit_transform(X_train_ures_SMOTE)\n",
        "# X_test_SMOTE_polykPCA_transformed = poly_kpca.transform(X_test)\n"
      ]
    },
    {
      "cell_type": "code",
      "execution_count": null,
      "metadata": {
        "id": "2UX8Tzg-GnSO"
      },
      "outputs": [],
      "source": [
        "# print(poly_kpca.explained_variance_ratio_)\n"
      ]
    },
    {
      "cell_type": "code",
      "execution_count": null,
      "metadata": {
        "id": "7HX6GLrCGrTb"
      },
      "outputs": [],
      "source": [
        "# poly_kpca = KernelPCA(kernel='poly')\n",
        "# X_train_polykPCAreduced = poly_kpca.fit_transform(X_train)\n",
        "# X_test_polykPCA_transformed = poly_kpca.transform(X_test)\n"
      ]
    },
    {
      "cell_type": "code",
      "execution_count": null,
      "metadata": {
        "id": "xAa9CSiTGvmf"
      },
      "outputs": [],
      "source": [
        "# print(poly_kpca.explained_variance_ratio_)\n"
      ]
    },
    {
      "cell_type": "code",
      "execution_count": null,
      "metadata": {
        "colab": {
          "base_uri": "https://localhost:8080/",
          "height": 200
        },
        "id": "BceqT_q8Gy_I",
        "outputId": "daf0cbf1-353c-47a3-8c36-05cbade42561"
      },
      "outputs": [
        {
          "ename": "NameError",
          "evalue": "ignored",
          "output_type": "error",
          "traceback": [
            "\u001b[0;31m---------------------------------------------------------------------------\u001b[0m",
            "\u001b[0;31mNameError\u001b[0m                                 Traceback (most recent call last)",
            "\u001b[0;32m<ipython-input-10-88e998fa72b7>\u001b[0m in \u001b[0;36m<module>\u001b[0;34m()\u001b[0m\n\u001b[0;32m----> 1\u001b[0;31m \u001b[0mlda\u001b[0m\u001b[0;34m=\u001b[0m\u001b[0mLDA\u001b[0m\u001b[0;34m(\u001b[0m\u001b[0mn_components\u001b[0m\u001b[0;34m=\u001b[0m\u001b[0;36m5\u001b[0m\u001b[0;34m)\u001b[0m\u001b[0;34m\u001b[0m\u001b[0;34m\u001b[0m\u001b[0m\n\u001b[0m\u001b[1;32m      2\u001b[0m \u001b[0mX_train_dres_nm_LDAreduced\u001b[0m\u001b[0;34m=\u001b[0m\u001b[0mlda\u001b[0m\u001b[0;34m.\u001b[0m\u001b[0mfit_transform\u001b[0m\u001b[0;34m(\u001b[0m\u001b[0mX_train_dres_nm\u001b[0m\u001b[0;34m,\u001b[0m\u001b[0my_train_dres_nm\u001b[0m\u001b[0;34m)\u001b[0m\u001b[0;34m\u001b[0m\u001b[0;34m\u001b[0m\u001b[0m\n\u001b[1;32m      3\u001b[0m \u001b[0mX_test_NM_LDA_transformed\u001b[0m\u001b[0;34m=\u001b[0m\u001b[0mlda\u001b[0m\u001b[0;34m.\u001b[0m\u001b[0mtransform\u001b[0m\u001b[0;34m(\u001b[0m\u001b[0mX_test\u001b[0m\u001b[0;34m)\u001b[0m\u001b[0;34m\u001b[0m\u001b[0;34m\u001b[0m\u001b[0m\n",
            "\u001b[0;31mNameError\u001b[0m: name 'LDA' is not defined"
          ]
        }
      ],
      "source": [
        "lda=LDA(n_components=5)\n",
        "X_train_dres_nm_LDAreduced=lda.fit_transform(X_train_dres_nm,y_train_dres_nm)\n",
        "X_test_NM_LDA_transformed=lda.transform(X_test)\n"
      ]
    },
    {
      "cell_type": "code",
      "execution_count": null,
      "metadata": {
        "colab": {
          "base_uri": "https://localhost:8080/",
          "height": 200
        },
        "id": "JYbQ-SPjG4Zg",
        "outputId": "68cd0978-3035-44d8-cde4-12d55f6e5f76"
      },
      "outputs": [
        {
          "ename": "NameError",
          "evalue": "ignored",
          "output_type": "error",
          "traceback": [
            "\u001b[0;31m---------------------------------------------------------------------------\u001b[0m",
            "\u001b[0;31mNameError\u001b[0m                                 Traceback (most recent call last)",
            "\u001b[0;32m<ipython-input-38-24fff205f010>\u001b[0m in \u001b[0;36m<module>\u001b[0;34m()\u001b[0m\n\u001b[0;32m----> 1\u001b[0;31m \u001b[0mprint\u001b[0m\u001b[0;34m(\u001b[0m\u001b[0;34m\"Train features shape\"\u001b[0m\u001b[0;34m,\u001b[0m \u001b[0mX_train\u001b[0m\u001b[0;34m.\u001b[0m\u001b[0mshape\u001b[0m\u001b[0;34m)\u001b[0m\u001b[0;34m\u001b[0m\u001b[0;34m\u001b[0m\u001b[0m\n\u001b[0m\u001b[1;32m      2\u001b[0m \u001b[0mprint\u001b[0m\u001b[0;34m(\u001b[0m\u001b[0;34m\"LDA Dimensionality reduced features shape on Near Miss downsampled data\"\u001b[0m\u001b[0;34m,\u001b[0m \u001b[0mX_train_dres_nm_LDAreduced\u001b[0m\u001b[0;34m.\u001b[0m\u001b[0mshape\u001b[0m\u001b[0;34m)\u001b[0m\u001b[0;34m\u001b[0m\u001b[0;34m\u001b[0m\u001b[0m\n\u001b[1;32m      3\u001b[0m \u001b[0mprint\u001b[0m\u001b[0;34m(\u001b[0m\u001b[0;34m\"LDA Dimensionality reduced features shape on test data\"\u001b[0m\u001b[0;34m,\u001b[0m \u001b[0mX_test_NM_LDA_transformed\u001b[0m\u001b[0;34m.\u001b[0m\u001b[0mshape\u001b[0m\u001b[0;34m)\u001b[0m\u001b[0;34m\u001b[0m\u001b[0;34m\u001b[0m\u001b[0m\n",
            "\u001b[0;31mNameError\u001b[0m: name 'X_train' is not defined"
          ]
        }
      ],
      "source": [
        "print(\"Train features shape\", X_train.shape)\n",
        "print(\"LDA Dimensionality reduced features shape on Near Miss downsampled data\", X_train_dres_nm_LDAreduced.shape)\n",
        "print(\"LDA Dimensionality reduced features shape on test data\", X_test_NM_LDA_transformed.shape)\n"
      ]
    },
    {
      "cell_type": "code",
      "execution_count": null,
      "metadata": {
        "colab": {
          "base_uri": "https://localhost:8080/",
          "height": 200
        },
        "id": "_Q8obBvAG8F6",
        "outputId": "de7b86ca-fbe4-4841-a2e5-32f25de63867"
      },
      "outputs": [
        {
          "ename": "NameError",
          "evalue": "ignored",
          "output_type": "error",
          "traceback": [
            "\u001b[0;31m---------------------------------------------------------------------------\u001b[0m",
            "\u001b[0;31mNameError\u001b[0m                                 Traceback (most recent call last)",
            "\u001b[0;32m<ipython-input-12-49ce52b9c886>\u001b[0m in \u001b[0;36m<module>\u001b[0;34m()\u001b[0m\n\u001b[0;32m----> 1\u001b[0;31m \u001b[0mlda\u001b[0m\u001b[0;34m=\u001b[0m\u001b[0mLDA\u001b[0m\u001b[0;34m(\u001b[0m\u001b[0mn_components\u001b[0m\u001b[0;34m=\u001b[0m\u001b[0;36m5\u001b[0m\u001b[0;34m)\u001b[0m\u001b[0;34m\u001b[0m\u001b[0;34m\u001b[0m\u001b[0m\n\u001b[0m\u001b[1;32m      2\u001b[0m \u001b[0mX_train_ures_SMOTE_LDAreduced\u001b[0m\u001b[0;34m=\u001b[0m\u001b[0mlda\u001b[0m\u001b[0;34m.\u001b[0m\u001b[0mfit_transform\u001b[0m\u001b[0;34m(\u001b[0m\u001b[0mX_train_ures_SMOTE\u001b[0m\u001b[0;34m,\u001b[0m\u001b[0my_train_ures_SMOTE\u001b[0m\u001b[0;34m)\u001b[0m\u001b[0;34m\u001b[0m\u001b[0;34m\u001b[0m\u001b[0m\n\u001b[1;32m      3\u001b[0m \u001b[0mX_test_SMOTE_LDA_transformed\u001b[0m\u001b[0;34m=\u001b[0m\u001b[0mlda\u001b[0m\u001b[0;34m.\u001b[0m\u001b[0mtransform\u001b[0m\u001b[0;34m(\u001b[0m\u001b[0mX_test\u001b[0m\u001b[0;34m)\u001b[0m\u001b[0;34m\u001b[0m\u001b[0;34m\u001b[0m\u001b[0m\n",
            "\u001b[0;31mNameError\u001b[0m: name 'LDA' is not defined"
          ]
        }
      ],
      "source": [
        "lda=LDA(n_components=5)\n",
        "X_train_ures_SMOTE_LDAreduced=lda.fit_transform(X_train_ures_SMOTE,y_train_ures_SMOTE)\n",
        "X_test_SMOTE_LDA_transformed=lda.transform(X_test)"
      ]
    },
    {
      "cell_type": "code",
      "execution_count": null,
      "metadata": {
        "colab": {
          "base_uri": "https://localhost:8080/",
          "height": 200
        },
        "id": "NgsRIPSzG_m-",
        "outputId": "257e179f-e5a7-4649-f9c8-21b1b4645d89"
      },
      "outputs": [
        {
          "ename": "NameError",
          "evalue": "ignored",
          "output_type": "error",
          "traceback": [
            "\u001b[0;31m---------------------------------------------------------------------------\u001b[0m",
            "\u001b[0;31mNameError\u001b[0m                                 Traceback (most recent call last)",
            "\u001b[0;32m<ipython-input-13-aa6a59d02caf>\u001b[0m in \u001b[0;36m<module>\u001b[0;34m()\u001b[0m\n\u001b[0;32m----> 1\u001b[0;31m \u001b[0mprint\u001b[0m\u001b[0;34m(\u001b[0m\u001b[0;34m\"Train features shape\"\u001b[0m\u001b[0;34m,\u001b[0m \u001b[0mX_train\u001b[0m\u001b[0;34m.\u001b[0m\u001b[0mshape\u001b[0m\u001b[0;34m)\u001b[0m\u001b[0;34m\u001b[0m\u001b[0;34m\u001b[0m\u001b[0m\n\u001b[0m\u001b[1;32m      2\u001b[0m \u001b[0mprint\u001b[0m\u001b[0;34m(\u001b[0m\u001b[0;34m\"LDA Dimensionality reduced features shape on SMOTE Upsampled data\"\u001b[0m\u001b[0;34m,\u001b[0m \u001b[0mX_train_ures_SMOTE_LDAreduced\u001b[0m\u001b[0;34m.\u001b[0m\u001b[0mshape\u001b[0m\u001b[0;34m)\u001b[0m\u001b[0;34m\u001b[0m\u001b[0;34m\u001b[0m\u001b[0m\n\u001b[1;32m      3\u001b[0m \u001b[0mprint\u001b[0m\u001b[0;34m(\u001b[0m\u001b[0;34m\"LDA Dimensionality reduced features shape on test data\"\u001b[0m\u001b[0;34m,\u001b[0m \u001b[0mX_test_NM_LDA_transformed\u001b[0m\u001b[0;34m.\u001b[0m\u001b[0mshape\u001b[0m\u001b[0;34m)\u001b[0m\u001b[0;34m\u001b[0m\u001b[0;34m\u001b[0m\u001b[0m\n",
            "\u001b[0;31mNameError\u001b[0m: name 'X_train' is not defined"
          ]
        }
      ],
      "source": [
        "print(\"Train features shape\", X_train.shape)\n",
        "print(\"LDA Dimensionality reduced features shape on SMOTE Upsampled data\", X_train_ures_SMOTE_LDAreduced.shape)\n",
        "print(\"LDA Dimensionality reduced features shape on test data\", X_test_NM_LDA_transformed.shape)"
      ]
    },
    {
      "cell_type": "code",
      "execution_count": null,
      "metadata": {
        "colab": {
          "base_uri": "https://localhost:8080/",
          "height": 200
        },
        "id": "kqXC602XG_uc",
        "outputId": "39925ff7-db79-40ee-f6bc-c9ac7b866d4f"
      },
      "outputs": [
        {
          "ename": "NameError",
          "evalue": "ignored",
          "output_type": "error",
          "traceback": [
            "\u001b[0;31m---------------------------------------------------------------------------\u001b[0m",
            "\u001b[0;31mNameError\u001b[0m                                 Traceback (most recent call last)",
            "\u001b[0;32m<ipython-input-14-957cf461d46b>\u001b[0m in \u001b[0;36m<module>\u001b[0;34m()\u001b[0m\n\u001b[0;32m----> 1\u001b[0;31m \u001b[0mDT_classifier_NM\u001b[0m \u001b[0;34m=\u001b[0m \u001b[0mtree\u001b[0m\u001b[0;34m.\u001b[0m\u001b[0mDecisionTreeClassifier\u001b[0m\u001b[0;34m(\u001b[0m\u001b[0mcriterion\u001b[0m\u001b[0;34m=\u001b[0m\u001b[0;34m'gini'\u001b[0m\u001b[0;34m)\u001b[0m\u001b[0;34m\u001b[0m\u001b[0;34m\u001b[0m\u001b[0m\n\u001b[0m\u001b[1;32m      2\u001b[0m \u001b[0mDT_classifier_NM\u001b[0m\u001b[0;34m.\u001b[0m\u001b[0mfit\u001b[0m\u001b[0;34m(\u001b[0m\u001b[0mX_train_dres_nm\u001b[0m\u001b[0;34m,\u001b[0m\u001b[0my_train_dres_nm\u001b[0m\u001b[0;34m)\u001b[0m\u001b[0;34m\u001b[0m\u001b[0;34m\u001b[0m\u001b[0m\n\u001b[1;32m      3\u001b[0m \u001b[0my_pred_NM\u001b[0m \u001b[0;34m=\u001b[0m \u001b[0mDT_classifier_NM\u001b[0m\u001b[0;34m.\u001b[0m\u001b[0mpredict\u001b[0m\u001b[0;34m(\u001b[0m\u001b[0mX_test\u001b[0m\u001b[0;34m)\u001b[0m\u001b[0;34m\u001b[0m\u001b[0;34m\u001b[0m\u001b[0m\n",
            "\u001b[0;31mNameError\u001b[0m: name 'tree' is not defined"
          ]
        }
      ],
      "source": [
        "DT_classifier_NM = tree.DecisionTreeClassifier(criterion='gini')\n",
        "DT_classifier_NM.fit(X_train_dres_nm,y_train_dres_nm)\n",
        "y_pred_NM = DT_classifier_NM.predict(X_test)"
      ]
    },
    {
      "cell_type": "code",
      "execution_count": null,
      "metadata": {
        "colab": {
          "base_uri": "https://localhost:8080/",
          "height": 165
        },
        "id": "yCGLKzIlHPbJ",
        "outputId": "50a9e535-2efb-41e7-9386-fc3d1e2982ad"
      },
      "outputs": [
        {
          "ename": "NameError",
          "evalue": "ignored",
          "output_type": "error",
          "traceback": [
            "\u001b[0;31m---------------------------------------------------------------------------\u001b[0m",
            "\u001b[0;31mNameError\u001b[0m                                 Traceback (most recent call last)",
            "\u001b[0;32m<ipython-input-15-1576f8614119>\u001b[0m in \u001b[0;36m<module>\u001b[0;34m()\u001b[0m\n\u001b[0;32m----> 1\u001b[0;31m \u001b[0mpickle\u001b[0m\u001b[0;34m.\u001b[0m\u001b[0mdump\u001b[0m\u001b[0;34m(\u001b[0m\u001b[0mDT_classifier_NM\u001b[0m\u001b[0;34m,\u001b[0m \u001b[0mopen\u001b[0m\u001b[0;34m(\u001b[0m\u001b[0;34m'DT_classifier_NM.pkl'\u001b[0m\u001b[0;34m,\u001b[0m \u001b[0;34m'wb'\u001b[0m\u001b[0;34m)\u001b[0m\u001b[0;34m)\u001b[0m\u001b[0;34m\u001b[0m\u001b[0;34m\u001b[0m\u001b[0m\n\u001b[0m",
            "\u001b[0;31mNameError\u001b[0m: name 'pickle' is not defined"
          ]
        }
      ],
      "source": [
        "pickle.dump(DT_classifier_NM, open('DT_classifier_NM.pkl', 'wb'))\n"
      ]
    },
    {
      "cell_type": "code",
      "execution_count": null,
      "metadata": {
        "colab": {
          "base_uri": "https://localhost:8080/",
          "height": 269
        },
        "id": "vkcsynJHHXVA",
        "outputId": "eb6d7103-e3b5-474b-f00f-7fb8e95cc2d3"
      },
      "outputs": [
        {
          "name": "stdout",
          "output_type": "stream",
          "text": [
            "Performance of Decision Tree Algorithm with Near Miss Downsampling:\n",
            "\n"
          ]
        },
        {
          "ename": "NameError",
          "evalue": "ignored",
          "output_type": "error",
          "traceback": [
            "\u001b[0;31m---------------------------------------------------------------------------\u001b[0m",
            "\u001b[0;31mNameError\u001b[0m                                 Traceback (most recent call last)",
            "\u001b[0;32m<ipython-input-16-378883f7346a>\u001b[0m in \u001b[0;36m<module>\u001b[0;34m()\u001b[0m\n\u001b[1;32m      1\u001b[0m \u001b[0mprint\u001b[0m\u001b[0;34m(\u001b[0m\u001b[0;34m'Performance of Decision Tree Algorithm with Near Miss Downsampling:\\n'\u001b[0m\u001b[0;34m)\u001b[0m\u001b[0;34m\u001b[0m\u001b[0;34m\u001b[0m\u001b[0m\n\u001b[0;32m----> 2\u001b[0;31m \u001b[0mprint\u001b[0m\u001b[0;34m(\u001b[0m\u001b[0mconfusion_matrix\u001b[0m\u001b[0;34m(\u001b[0m\u001b[0my_test\u001b[0m\u001b[0;34m,\u001b[0m \u001b[0my_pred_NM\u001b[0m\u001b[0;34m)\u001b[0m\u001b[0;34m)\u001b[0m\u001b[0;34m\u001b[0m\u001b[0;34m\u001b[0m\u001b[0m\n\u001b[0m\u001b[1;32m      3\u001b[0m \u001b[0mprint\u001b[0m\u001b[0;34m(\u001b[0m\u001b[0mclassification_report\u001b[0m\u001b[0;34m(\u001b[0m\u001b[0my_test\u001b[0m\u001b[0;34m,\u001b[0m \u001b[0my_pred_NM\u001b[0m\u001b[0;34m)\u001b[0m\u001b[0;34m)\u001b[0m\u001b[0;34m\u001b[0m\u001b[0;34m\u001b[0m\u001b[0m\n\u001b[1;32m      4\u001b[0m \u001b[0mprint\u001b[0m\u001b[0;34m(\u001b[0m\u001b[0;34m'Accuracy:'\u001b[0m\u001b[0;34m,\u001b[0m\u001b[0maccuracy_score\u001b[0m\u001b[0;34m(\u001b[0m\u001b[0my_test\u001b[0m\u001b[0;34m,\u001b[0m \u001b[0my_pred_NM\u001b[0m\u001b[0;34m)\u001b[0m\u001b[0;34m)\u001b[0m\u001b[0;34m\u001b[0m\u001b[0;34m\u001b[0m\u001b[0m\n\u001b[1;32m      5\u001b[0m \u001b[0mprint\u001b[0m\u001b[0;34m(\u001b[0m\u001b[0;34m'Precision:'\u001b[0m\u001b[0;34m,\u001b[0m\u001b[0mprecision_score\u001b[0m\u001b[0;34m(\u001b[0m\u001b[0my_test\u001b[0m\u001b[0;34m,\u001b[0m \u001b[0my_pred_NM\u001b[0m\u001b[0;34m,\u001b[0m \u001b[0maverage\u001b[0m\u001b[0;34m=\u001b[0m\u001b[0;34m'weighted'\u001b[0m\u001b[0;34m)\u001b[0m\u001b[0;34m)\u001b[0m\u001b[0;34m\u001b[0m\u001b[0;34m\u001b[0m\u001b[0m\n",
            "\u001b[0;31mNameError\u001b[0m: name 'confusion_matrix' is not defined"
          ]
        }
      ],
      "source": [
        "print('Performance of Decision Tree Algorithm with Near Miss Downsampling:\\n')\n",
        "print(confusion_matrix(y_test, y_pred_NM))\n",
        "print(classification_report(y_test, y_pred_NM))\n",
        "print('Accuracy:',accuracy_score(y_test, y_pred_NM))\n",
        "print('Precision:',precision_score(y_test, y_pred_NM, average='weighted'))\n",
        "print('Recall:',recall_score(y_test, y_pred_NM, average='weighted'))\n",
        "print('F1 Score:',f1_score(y_test, y_pred_NM, average='weighted'))\n",
        "print('Cohen Kappa Score:',cohen_kappa_score(y_test, y_pred_NM))"
      ]
    },
    {
      "cell_type": "code",
      "execution_count": null,
      "metadata": {
        "colab": {
          "base_uri": "https://localhost:8080/",
          "height": 235
        },
        "id": "-ddr7rd-HgRM",
        "outputId": "199bd2e9-a7ad-48cd-c83d-9c054657f193"
      },
      "outputs": [
        {
          "ename": "NameError",
          "evalue": "ignored",
          "output_type": "error",
          "traceback": [
            "\u001b[0;31m---------------------------------------------------------------------------\u001b[0m",
            "\u001b[0;31mNameError\u001b[0m                                 Traceback (most recent call last)",
            "\u001b[0;32m<ipython-input-17-1f3754604c32>\u001b[0m in \u001b[0;36m<module>\u001b[0;34m()\u001b[0m\n\u001b[1;32m      4\u001b[0m \u001b[0;34m\u001b[0m\u001b[0m\n\u001b[1;32m      5\u001b[0m \u001b[0;32mfor\u001b[0m \u001b[0mi\u001b[0m \u001b[0;32min\u001b[0m \u001b[0mrange\u001b[0m\u001b[0;34m(\u001b[0m\u001b[0;36m6\u001b[0m\u001b[0;34m)\u001b[0m\u001b[0;34m:\u001b[0m\u001b[0;34m\u001b[0m\u001b[0;34m\u001b[0m\u001b[0m\n\u001b[0;32m----> 6\u001b[0;31m     \u001b[0mfpr\u001b[0m\u001b[0;34m[\u001b[0m\u001b[0mi\u001b[0m\u001b[0;34m]\u001b[0m\u001b[0;34m,\u001b[0m \u001b[0mtpr\u001b[0m\u001b[0;34m[\u001b[0m\u001b[0mi\u001b[0m\u001b[0;34m]\u001b[0m\u001b[0;34m,\u001b[0m \u001b[0mthresh\u001b[0m\u001b[0;34m[\u001b[0m\u001b[0mi\u001b[0m\u001b[0;34m]\u001b[0m \u001b[0;34m=\u001b[0m \u001b[0mroc_curve\u001b[0m\u001b[0;34m(\u001b[0m\u001b[0my_test\u001b[0m\u001b[0;34m,\u001b[0m \u001b[0my_pred_NM\u001b[0m\u001b[0;34m,\u001b[0m \u001b[0mpos_label\u001b[0m\u001b[0;34m=\u001b[0m\u001b[0mi\u001b[0m\u001b[0;34m)\u001b[0m\u001b[0;34m\u001b[0m\u001b[0;34m\u001b[0m\u001b[0m\n\u001b[0m\u001b[1;32m      7\u001b[0m \u001b[0;34m\u001b[0m\u001b[0m\n\u001b[1;32m      8\u001b[0m \u001b[0mplt\u001b[0m\u001b[0;34m.\u001b[0m\u001b[0mplot\u001b[0m\u001b[0;34m(\u001b[0m\u001b[0mfpr\u001b[0m\u001b[0;34m[\u001b[0m\u001b[0;36m0\u001b[0m\u001b[0;34m]\u001b[0m\u001b[0;34m,\u001b[0m \u001b[0mtpr\u001b[0m\u001b[0;34m[\u001b[0m\u001b[0;36m0\u001b[0m\u001b[0;34m]\u001b[0m\u001b[0;34m,\u001b[0m \u001b[0mlinestyle\u001b[0m\u001b[0;34m=\u001b[0m\u001b[0;34m'--'\u001b[0m\u001b[0;34m,\u001b[0m\u001b[0mcolor\u001b[0m\u001b[0;34m=\u001b[0m\u001b[0;34m'orangered'\u001b[0m\u001b[0;34m,\u001b[0m \u001b[0mlabel\u001b[0m\u001b[0;34m=\u001b[0m\u001b[0;34m'Class 0 vs Rest'\u001b[0m\u001b[0;34m)\u001b[0m\u001b[0;34m\u001b[0m\u001b[0;34m\u001b[0m\u001b[0m\n",
            "\u001b[0;31mNameError\u001b[0m: name 'roc_curve' is not defined"
          ]
        }
      ],
      "source": [
        "fpr = dict()\n",
        "tpr = dict()\n",
        "thresh = dict()\n",
        "\n",
        "for i in range(6):    \n",
        "    fpr[i], tpr[i], thresh[i] = roc_curve(y_test, y_pred_NM, pos_label=i)\n",
        "\n",
        "plt.plot(fpr[0], tpr[0], linestyle='--',color='orangered', label='Class 0 vs Rest')\n",
        "plt.plot(fpr[1], tpr[1], linestyle='--',color='green', label='Class 1 vs Rest')\n",
        "plt.plot(fpr[2], tpr[2], linestyle='--',color='blue', label='Class 2 vs Rest')\n",
        "plt.plot(fpr[3], tpr[3], linestyle='--',color='yellow', label='Class 3 vs Rest')\n",
        "plt.plot(fpr[4], tpr[4], linestyle='--',color='purple', label='Class 4 vs Rest')\n",
        "plt.plot(fpr[5], tpr[5], linestyle='--',color='magenta', label='Class 5 vs Rest')\n",
        "\n",
        "plt.title('Multiclass ROC curve for Decision Tree with Near Miss Downsampling')\n",
        "plt.xlabel('False Positive Rate')\n",
        "plt.ylabel('True Positive rate')\n",
        "plt.legend(loc='best')\n",
        "plt.savefig('Multiclass ROC curve for Decision Tree with Near Miss Downsampling',dpi=300)"
      ]
    },
    {
      "cell_type": "code",
      "execution_count": null,
      "metadata": {
        "id": "9Dd5tA9PHp2m"
      },
      "outputs": [],
      "source": [
        "params = {\n",
        "          'max_depth': [3, 5, 10, 20],\n",
        "          'min_samples_leaf': [10, 20, 50, 100],\n",
        "          'max_features':['log2','sqrt',None]\n",
        "}"
      ]
    },
    {
      "cell_type": "code",
      "execution_count": null,
      "metadata": {
        "colab": {
          "base_uri": "https://localhost:8080/",
          "height": 200
        },
        "id": "LuewZe8NHwq2",
        "outputId": "a79f4c4c-4eb4-4f0e-fc02-b50f0bf47ba8"
      },
      "outputs": [
        {
          "ename": "NameError",
          "evalue": "ignored",
          "output_type": "error",
          "traceback": [
            "\u001b[0;31m---------------------------------------------------------------------------\u001b[0m",
            "\u001b[0;31mNameError\u001b[0m                                 Traceback (most recent call last)",
            "\u001b[0;32m<ipython-input-19-42875235fc52>\u001b[0m in \u001b[0;36m<module>\u001b[0;34m()\u001b[0m\n\u001b[0;32m----> 1\u001b[0;31m grid_search_DT_NM = GridSearchCV(estimator=DT_classifier_NM, \n\u001b[0m\u001b[1;32m      2\u001b[0m                            \u001b[0mparam_grid\u001b[0m\u001b[0;34m=\u001b[0m\u001b[0mparams\u001b[0m\u001b[0;34m,\u001b[0m\u001b[0;34m\u001b[0m\u001b[0;34m\u001b[0m\u001b[0m\n\u001b[1;32m      3\u001b[0m                            cv=4, n_jobs=-1, verbose=1, scoring = \"accuracy\")\n",
            "\u001b[0;31mNameError\u001b[0m: name 'GridSearchCV' is not defined"
          ]
        }
      ],
      "source": [
        "grid_search_DT_NM = GridSearchCV(estimator=DT_classifier_NM, \n",
        "                           param_grid=params, \n",
        "                           cv=4, n_jobs=-1, verbose=1, scoring = \"accuracy\")"
      ]
    },
    {
      "cell_type": "code",
      "execution_count": null,
      "metadata": {
        "colab": {
          "base_uri": "https://localhost:8080/",
          "height": 380
        },
        "id": "BVfLNXPCH1gL",
        "outputId": "daf7819b-58d3-4b63-b6c8-9dc036e61e28"
      },
      "outputs": [
        {
          "ename": "NameError",
          "evalue": "ignored",
          "output_type": "error",
          "traceback": [
            "\u001b[0;31m---------------------------------------------------------------------------\u001b[0m",
            "\u001b[0;31mNameError\u001b[0m                                 Traceback (most recent call last)",
            "\u001b[0;32m<ipython-input-20-680e3a2f329a>\u001b[0m in \u001b[0;36m<module>\u001b[0;34m()\u001b[0m\n\u001b[0;32m----> 1\u001b[0;31m \u001b[0mget_ipython\u001b[0m\u001b[0;34m(\u001b[0m\u001b[0;34m)\u001b[0m\u001b[0;34m.\u001b[0m\u001b[0mrun_cell_magic\u001b[0m\u001b[0;34m(\u001b[0m\u001b[0;34m'time'\u001b[0m\u001b[0;34m,\u001b[0m \u001b[0;34m''\u001b[0m\u001b[0;34m,\u001b[0m \u001b[0;34m'grid_search_DT_NM.fit(X_train_dres_nm,y_train_dres_nm)'\u001b[0m\u001b[0;34m)\u001b[0m\u001b[0;34m\u001b[0m\u001b[0;34m\u001b[0m\u001b[0m\n\u001b[0m",
            "\u001b[0;32m/usr/local/lib/python3.7/dist-packages/IPython/core/interactiveshell.py\u001b[0m in \u001b[0;36mrun_cell_magic\u001b[0;34m(self, magic_name, line, cell)\u001b[0m\n\u001b[1;32m   2115\u001b[0m             \u001b[0mmagic_arg_s\u001b[0m \u001b[0;34m=\u001b[0m \u001b[0mself\u001b[0m\u001b[0;34m.\u001b[0m\u001b[0mvar_expand\u001b[0m\u001b[0;34m(\u001b[0m\u001b[0mline\u001b[0m\u001b[0;34m,\u001b[0m \u001b[0mstack_depth\u001b[0m\u001b[0;34m)\u001b[0m\u001b[0;34m\u001b[0m\u001b[0;34m\u001b[0m\u001b[0m\n\u001b[1;32m   2116\u001b[0m             \u001b[0;32mwith\u001b[0m \u001b[0mself\u001b[0m\u001b[0;34m.\u001b[0m\u001b[0mbuiltin_trap\u001b[0m\u001b[0;34m:\u001b[0m\u001b[0;34m\u001b[0m\u001b[0;34m\u001b[0m\u001b[0m\n\u001b[0;32m-> 2117\u001b[0;31m                 \u001b[0mresult\u001b[0m \u001b[0;34m=\u001b[0m \u001b[0mfn\u001b[0m\u001b[0;34m(\u001b[0m\u001b[0mmagic_arg_s\u001b[0m\u001b[0;34m,\u001b[0m \u001b[0mcell\u001b[0m\u001b[0;34m)\u001b[0m\u001b[0;34m\u001b[0m\u001b[0;34m\u001b[0m\u001b[0m\n\u001b[0m\u001b[1;32m   2118\u001b[0m             \u001b[0;32mreturn\u001b[0m \u001b[0mresult\u001b[0m\u001b[0;34m\u001b[0m\u001b[0;34m\u001b[0m\u001b[0m\n\u001b[1;32m   2119\u001b[0m \u001b[0;34m\u001b[0m\u001b[0m\n",
            "\u001b[0;32m<decorator-gen-53>\u001b[0m in \u001b[0;36mtime\u001b[0;34m(self, line, cell, local_ns)\u001b[0m\n",
            "\u001b[0;32m/usr/local/lib/python3.7/dist-packages/IPython/core/magic.py\u001b[0m in \u001b[0;36m<lambda>\u001b[0;34m(f, *a, **k)\u001b[0m\n\u001b[1;32m    186\u001b[0m     \u001b[0;31m# but it's overkill for just that one bit of state.\u001b[0m\u001b[0;34m\u001b[0m\u001b[0;34m\u001b[0m\u001b[0;34m\u001b[0m\u001b[0m\n\u001b[1;32m    187\u001b[0m     \u001b[0;32mdef\u001b[0m \u001b[0mmagic_deco\u001b[0m\u001b[0;34m(\u001b[0m\u001b[0marg\u001b[0m\u001b[0;34m)\u001b[0m\u001b[0;34m:\u001b[0m\u001b[0;34m\u001b[0m\u001b[0;34m\u001b[0m\u001b[0m\n\u001b[0;32m--> 188\u001b[0;31m         \u001b[0mcall\u001b[0m \u001b[0;34m=\u001b[0m \u001b[0;32mlambda\u001b[0m \u001b[0mf\u001b[0m\u001b[0;34m,\u001b[0m \u001b[0;34m*\u001b[0m\u001b[0ma\u001b[0m\u001b[0;34m,\u001b[0m \u001b[0;34m**\u001b[0m\u001b[0mk\u001b[0m\u001b[0;34m:\u001b[0m \u001b[0mf\u001b[0m\u001b[0;34m(\u001b[0m\u001b[0;34m*\u001b[0m\u001b[0ma\u001b[0m\u001b[0;34m,\u001b[0m \u001b[0;34m**\u001b[0m\u001b[0mk\u001b[0m\u001b[0;34m)\u001b[0m\u001b[0;34m\u001b[0m\u001b[0;34m\u001b[0m\u001b[0m\n\u001b[0m\u001b[1;32m    189\u001b[0m \u001b[0;34m\u001b[0m\u001b[0m\n\u001b[1;32m    190\u001b[0m         \u001b[0;32mif\u001b[0m \u001b[0mcallable\u001b[0m\u001b[0;34m(\u001b[0m\u001b[0marg\u001b[0m\u001b[0;34m)\u001b[0m\u001b[0;34m:\u001b[0m\u001b[0;34m\u001b[0m\u001b[0;34m\u001b[0m\u001b[0m\n",
            "\u001b[0;32m/usr/local/lib/python3.7/dist-packages/IPython/core/magics/execution.py\u001b[0m in \u001b[0;36mtime\u001b[0;34m(self, line, cell, local_ns)\u001b[0m\n\u001b[1;32m   1187\u001b[0m         \u001b[0;32mif\u001b[0m \u001b[0mmode\u001b[0m\u001b[0;34m==\u001b[0m\u001b[0;34m'eval'\u001b[0m\u001b[0;34m:\u001b[0m\u001b[0;34m\u001b[0m\u001b[0;34m\u001b[0m\u001b[0m\n\u001b[1;32m   1188\u001b[0m             \u001b[0mst\u001b[0m \u001b[0;34m=\u001b[0m \u001b[0mclock2\u001b[0m\u001b[0;34m(\u001b[0m\u001b[0;34m)\u001b[0m\u001b[0;34m\u001b[0m\u001b[0;34m\u001b[0m\u001b[0m\n\u001b[0;32m-> 1189\u001b[0;31m             \u001b[0mout\u001b[0m \u001b[0;34m=\u001b[0m \u001b[0meval\u001b[0m\u001b[0;34m(\u001b[0m\u001b[0mcode\u001b[0m\u001b[0;34m,\u001b[0m \u001b[0mglob\u001b[0m\u001b[0;34m,\u001b[0m \u001b[0mlocal_ns\u001b[0m\u001b[0;34m)\u001b[0m\u001b[0;34m\u001b[0m\u001b[0;34m\u001b[0m\u001b[0m\n\u001b[0m\u001b[1;32m   1190\u001b[0m             \u001b[0mend\u001b[0m \u001b[0;34m=\u001b[0m \u001b[0mclock2\u001b[0m\u001b[0;34m(\u001b[0m\u001b[0;34m)\u001b[0m\u001b[0;34m\u001b[0m\u001b[0;34m\u001b[0m\u001b[0m\n\u001b[1;32m   1191\u001b[0m         \u001b[0;32melse\u001b[0m\u001b[0;34m:\u001b[0m\u001b[0;34m\u001b[0m\u001b[0;34m\u001b[0m\u001b[0m\n",
            "\u001b[0;32m<timed eval>\u001b[0m in \u001b[0;36m<module>\u001b[0;34m()\u001b[0m\n",
            "\u001b[0;31mNameError\u001b[0m: name 'grid_search_DT_NM' is not defined"
          ]
        }
      ],
      "source": [
        "%%time\n",
        "grid_search_DT_NM.fit(X_train_dres_nm,y_train_dres_nm)"
      ]
    },
    {
      "cell_type": "code",
      "execution_count": null,
      "metadata": {
        "colab": {
          "base_uri": "https://localhost:8080/",
          "height": 182
        },
        "id": "Bqt5OaPrH-Xr",
        "outputId": "3bf0f28b-cf90-4ede-e04b-723b177e6ef7"
      },
      "outputs": [
        {
          "ename": "NameError",
          "evalue": "ignored",
          "output_type": "error",
          "traceback": [
            "\u001b[0;31m---------------------------------------------------------------------------\u001b[0m",
            "\u001b[0;31mNameError\u001b[0m                                 Traceback (most recent call last)",
            "\u001b[0;32m<ipython-input-21-aae3166d250d>\u001b[0m in \u001b[0;36m<module>\u001b[0;34m()\u001b[0m\n\u001b[0;32m----> 1\u001b[0;31m \u001b[0mscore_df\u001b[0m \u001b[0;34m=\u001b[0m \u001b[0mpd\u001b[0m\u001b[0;34m.\u001b[0m\u001b[0mDataFrame\u001b[0m\u001b[0;34m(\u001b[0m\u001b[0mgrid_search_DT_NM\u001b[0m\u001b[0;34m.\u001b[0m\u001b[0mcv_results_\u001b[0m\u001b[0;34m)\u001b[0m\u001b[0;34m\u001b[0m\u001b[0;34m\u001b[0m\u001b[0m\n\u001b[0m\u001b[1;32m      2\u001b[0m \u001b[0mscore_df\u001b[0m\u001b[0;34m.\u001b[0m\u001b[0mnlargest\u001b[0m\u001b[0;34m(\u001b[0m\u001b[0;36m5\u001b[0m\u001b[0;34m,\u001b[0m\u001b[0;34m\"mean_test_score\"\u001b[0m\u001b[0;34m)\u001b[0m\u001b[0;34m\u001b[0m\u001b[0;34m\u001b[0m\u001b[0m\n",
            "\u001b[0;31mNameError\u001b[0m: name 'pd' is not defined"
          ]
        }
      ],
      "source": [
        "score_df = pd.DataFrame(grid_search_DT_NM.cv_results_)\n",
        "score_df.nlargest(5,\"mean_test_score\")"
      ]
    },
    {
      "cell_type": "code",
      "execution_count": null,
      "metadata": {
        "colab": {
          "base_uri": "https://localhost:8080/",
          "height": 200
        },
        "id": "u_ZdLHnRICs6",
        "outputId": "96e2f0ae-2c22-468f-ac7d-5622e0a18650"
      },
      "outputs": [
        {
          "ename": "NameError",
          "evalue": "ignored",
          "output_type": "error",
          "traceback": [
            "\u001b[0;31m---------------------------------------------------------------------------\u001b[0m",
            "\u001b[0;31mNameError\u001b[0m                                 Traceback (most recent call last)",
            "\u001b[0;32m<ipython-input-22-e891955a3905>\u001b[0m in \u001b[0;36m<module>\u001b[0;34m()\u001b[0m\n\u001b[0;32m----> 1\u001b[0;31m \u001b[0mDT_classifier_SMOTE\u001b[0m \u001b[0;34m=\u001b[0m \u001b[0mtree\u001b[0m\u001b[0;34m.\u001b[0m\u001b[0mDecisionTreeClassifier\u001b[0m\u001b[0;34m(\u001b[0m\u001b[0mcriterion\u001b[0m\u001b[0;34m=\u001b[0m\u001b[0;34m'gini'\u001b[0m\u001b[0;34m,\u001b[0m \u001b[0mmax_depth\u001b[0m\u001b[0;34m=\u001b[0m\u001b[0;36m70\u001b[0m\u001b[0;34m)\u001b[0m\u001b[0;34m\u001b[0m\u001b[0;34m\u001b[0m\u001b[0m\n\u001b[0m\u001b[1;32m      2\u001b[0m \u001b[0mDT_classifier_SMOTE\u001b[0m\u001b[0;34m.\u001b[0m\u001b[0mfit\u001b[0m\u001b[0;34m(\u001b[0m\u001b[0mX_train_ures_SMOTE\u001b[0m\u001b[0;34m,\u001b[0m\u001b[0my_train_ures_SMOTE\u001b[0m\u001b[0;34m)\u001b[0m\u001b[0;34m\u001b[0m\u001b[0;34m\u001b[0m\u001b[0m\n\u001b[1;32m      3\u001b[0m \u001b[0my_pred_SMOTE\u001b[0m \u001b[0;34m=\u001b[0m \u001b[0mDT_classifier_SMOTE\u001b[0m\u001b[0;34m.\u001b[0m\u001b[0mpredict\u001b[0m\u001b[0;34m(\u001b[0m\u001b[0mX_test\u001b[0m\u001b[0;34m)\u001b[0m\u001b[0;34m\u001b[0m\u001b[0;34m\u001b[0m\u001b[0m\n",
            "\u001b[0;31mNameError\u001b[0m: name 'tree' is not defined"
          ]
        }
      ],
      "source": [
        "DT_classifier_SMOTE = tree.DecisionTreeClassifier(criterion='gini', max_depth=70)\n",
        "DT_classifier_SMOTE.fit(X_train_ures_SMOTE,y_train_ures_SMOTE)\n",
        "y_pred_SMOTE = DT_classifier_SMOTE.predict(X_test)"
      ]
    },
    {
      "cell_type": "code",
      "execution_count": null,
      "metadata": {
        "colab": {
          "base_uri": "https://localhost:8080/",
          "height": 165
        },
        "id": "u07LJwzjILSa",
        "outputId": "31f25abc-95eb-495a-cd61-a7bfe603cf36"
      },
      "outputs": [
        {
          "ename": "NameError",
          "evalue": "ignored",
          "output_type": "error",
          "traceback": [
            "\u001b[0;31m---------------------------------------------------------------------------\u001b[0m",
            "\u001b[0;31mNameError\u001b[0m                                 Traceback (most recent call last)",
            "\u001b[0;32m<ipython-input-23-26a089c2c84a>\u001b[0m in \u001b[0;36m<module>\u001b[0;34m()\u001b[0m\n\u001b[0;32m----> 1\u001b[0;31m \u001b[0mpickle\u001b[0m\u001b[0;34m.\u001b[0m\u001b[0mdump\u001b[0m\u001b[0;34m(\u001b[0m\u001b[0mDT_classifier_SMOTE\u001b[0m\u001b[0;34m,\u001b[0m \u001b[0mopen\u001b[0m\u001b[0;34m(\u001b[0m\u001b[0;34m'DT_classifier_SMOTE.pkl'\u001b[0m\u001b[0;34m,\u001b[0m \u001b[0;34m'wb'\u001b[0m\u001b[0;34m)\u001b[0m\u001b[0;34m)\u001b[0m\u001b[0;34m\u001b[0m\u001b[0;34m\u001b[0m\u001b[0m\n\u001b[0m",
            "\u001b[0;31mNameError\u001b[0m: name 'pickle' is not defined"
          ]
        }
      ],
      "source": [
        "pickle.dump(DT_classifier_SMOTE, open('DT_classifier_SMOTE.pkl', 'wb'))\n"
      ]
    },
    {
      "cell_type": "code",
      "execution_count": null,
      "metadata": {
        "colab": {
          "base_uri": "https://localhost:8080/",
          "height": 269
        },
        "id": "lCfh68u8IPTA",
        "outputId": "cfdfdc60-2b39-4201-f234-91f8bda9ee6d"
      },
      "outputs": [
        {
          "name": "stdout",
          "output_type": "stream",
          "text": [
            "Performance of Decision Tree Algorithm with SMOTE Upsampling:\n",
            "\n"
          ]
        },
        {
          "ename": "NameError",
          "evalue": "ignored",
          "output_type": "error",
          "traceback": [
            "\u001b[0;31m---------------------------------------------------------------------------\u001b[0m",
            "\u001b[0;31mNameError\u001b[0m                                 Traceback (most recent call last)",
            "\u001b[0;32m<ipython-input-24-0e5c822b424e>\u001b[0m in \u001b[0;36m<module>\u001b[0;34m()\u001b[0m\n\u001b[1;32m      1\u001b[0m \u001b[0mprint\u001b[0m\u001b[0;34m(\u001b[0m\u001b[0;34m'Performance of Decision Tree Algorithm with SMOTE Upsampling:\\n'\u001b[0m\u001b[0;34m)\u001b[0m\u001b[0;34m\u001b[0m\u001b[0;34m\u001b[0m\u001b[0m\n\u001b[0;32m----> 2\u001b[0;31m \u001b[0mprint\u001b[0m\u001b[0;34m(\u001b[0m\u001b[0mconfusion_matrix\u001b[0m\u001b[0;34m(\u001b[0m\u001b[0my_test\u001b[0m\u001b[0;34m,\u001b[0m \u001b[0my_pred_SMOTE\u001b[0m\u001b[0;34m)\u001b[0m\u001b[0;34m)\u001b[0m\u001b[0;34m\u001b[0m\u001b[0;34m\u001b[0m\u001b[0m\n\u001b[0m\u001b[1;32m      3\u001b[0m \u001b[0mprint\u001b[0m\u001b[0;34m(\u001b[0m\u001b[0mclassification_report\u001b[0m\u001b[0;34m(\u001b[0m\u001b[0my_test\u001b[0m\u001b[0;34m,\u001b[0m \u001b[0my_pred_SMOTE\u001b[0m\u001b[0;34m)\u001b[0m\u001b[0;34m)\u001b[0m\u001b[0;34m\u001b[0m\u001b[0;34m\u001b[0m\u001b[0m\n\u001b[1;32m      4\u001b[0m \u001b[0mprint\u001b[0m\u001b[0;34m(\u001b[0m\u001b[0;34m'Accuracy:'\u001b[0m\u001b[0;34m,\u001b[0m\u001b[0maccuracy_score\u001b[0m\u001b[0;34m(\u001b[0m\u001b[0my_test\u001b[0m\u001b[0;34m,\u001b[0m \u001b[0my_pred_SMOTE\u001b[0m\u001b[0;34m)\u001b[0m\u001b[0;34m)\u001b[0m\u001b[0;34m\u001b[0m\u001b[0;34m\u001b[0m\u001b[0m\n\u001b[1;32m      5\u001b[0m \u001b[0mprint\u001b[0m\u001b[0;34m(\u001b[0m\u001b[0;34m'Precision:'\u001b[0m\u001b[0;34m,\u001b[0m\u001b[0mprecision_score\u001b[0m\u001b[0;34m(\u001b[0m\u001b[0my_test\u001b[0m\u001b[0;34m,\u001b[0m \u001b[0my_pred_SMOTE\u001b[0m\u001b[0;34m,\u001b[0m \u001b[0maverage\u001b[0m\u001b[0;34m=\u001b[0m\u001b[0;34m'weighted'\u001b[0m\u001b[0;34m)\u001b[0m\u001b[0;34m)\u001b[0m\u001b[0;34m\u001b[0m\u001b[0;34m\u001b[0m\u001b[0m\n",
            "\u001b[0;31mNameError\u001b[0m: name 'confusion_matrix' is not defined"
          ]
        }
      ],
      "source": [
        "print('Performance of Decision Tree Algorithm with SMOTE Upsampling:\\n')\n",
        "print(confusion_matrix(y_test, y_pred_SMOTE))\n",
        "print(classification_report(y_test, y_pred_SMOTE))\n",
        "print('Accuracy:',accuracy_score(y_test, y_pred_SMOTE))\n",
        "print('Precision:',precision_score(y_test, y_pred_SMOTE, average='weighted'))\n",
        "print('Recall:',recall_score(y_test, y_pred_SMOTE, average='weighted'))\n",
        "print('F1 Score:',f1_score(y_test, y_pred_SMOTE, average='weighted'))\n",
        "print('Cohen Kappa Score:',cohen_kappa_score(y_test, y_pred_SMOTE))\n"
      ]
    },
    {
      "cell_type": "code",
      "execution_count": null,
      "metadata": {
        "colab": {
          "base_uri": "https://localhost:8080/",
          "height": 235
        },
        "id": "2yWZXP6jIUDQ",
        "outputId": "7cb25b22-b79a-4c1f-8514-1b1a8290fa36"
      },
      "outputs": [
        {
          "ename": "NameError",
          "evalue": "ignored",
          "output_type": "error",
          "traceback": [
            "\u001b[0;31m---------------------------------------------------------------------------\u001b[0m",
            "\u001b[0;31mNameError\u001b[0m                                 Traceback (most recent call last)",
            "\u001b[0;32m<ipython-input-25-c89822b2f5ab>\u001b[0m in \u001b[0;36m<module>\u001b[0;34m()\u001b[0m\n\u001b[1;32m      4\u001b[0m \u001b[0;34m\u001b[0m\u001b[0m\n\u001b[1;32m      5\u001b[0m \u001b[0;32mfor\u001b[0m \u001b[0mi\u001b[0m \u001b[0;32min\u001b[0m \u001b[0mrange\u001b[0m\u001b[0;34m(\u001b[0m\u001b[0;36m6\u001b[0m\u001b[0;34m)\u001b[0m\u001b[0;34m:\u001b[0m\u001b[0;34m\u001b[0m\u001b[0;34m\u001b[0m\u001b[0m\n\u001b[0;32m----> 6\u001b[0;31m     \u001b[0mfpr\u001b[0m\u001b[0;34m[\u001b[0m\u001b[0mi\u001b[0m\u001b[0;34m]\u001b[0m\u001b[0;34m,\u001b[0m \u001b[0mtpr\u001b[0m\u001b[0;34m[\u001b[0m\u001b[0mi\u001b[0m\u001b[0;34m]\u001b[0m\u001b[0;34m,\u001b[0m \u001b[0mthresh\u001b[0m\u001b[0;34m[\u001b[0m\u001b[0mi\u001b[0m\u001b[0;34m]\u001b[0m \u001b[0;34m=\u001b[0m \u001b[0mroc_curve\u001b[0m\u001b[0;34m(\u001b[0m\u001b[0my_test\u001b[0m\u001b[0;34m,\u001b[0m \u001b[0my_pred_SMOTE\u001b[0m\u001b[0;34m,\u001b[0m \u001b[0mpos_label\u001b[0m\u001b[0;34m=\u001b[0m\u001b[0mi\u001b[0m\u001b[0;34m)\u001b[0m\u001b[0;34m\u001b[0m\u001b[0;34m\u001b[0m\u001b[0m\n\u001b[0m\u001b[1;32m      7\u001b[0m \u001b[0;34m\u001b[0m\u001b[0m\n\u001b[1;32m      8\u001b[0m \u001b[0mplt\u001b[0m\u001b[0;34m.\u001b[0m\u001b[0mplot\u001b[0m\u001b[0;34m(\u001b[0m\u001b[0mfpr\u001b[0m\u001b[0;34m[\u001b[0m\u001b[0;36m0\u001b[0m\u001b[0;34m]\u001b[0m\u001b[0;34m,\u001b[0m \u001b[0mtpr\u001b[0m\u001b[0;34m[\u001b[0m\u001b[0;36m0\u001b[0m\u001b[0;34m]\u001b[0m\u001b[0;34m,\u001b[0m \u001b[0mlinestyle\u001b[0m\u001b[0;34m=\u001b[0m\u001b[0;34m'--'\u001b[0m\u001b[0;34m,\u001b[0m\u001b[0mcolor\u001b[0m\u001b[0;34m=\u001b[0m\u001b[0;34m'orangered'\u001b[0m\u001b[0;34m,\u001b[0m \u001b[0mlabel\u001b[0m\u001b[0;34m=\u001b[0m\u001b[0;34m'Class 0 vs Rest'\u001b[0m\u001b[0;34m)\u001b[0m\u001b[0;34m\u001b[0m\u001b[0;34m\u001b[0m\u001b[0m\n",
            "\u001b[0;31mNameError\u001b[0m: name 'roc_curve' is not defined"
          ]
        }
      ],
      "source": [
        "fpr = dict()\n",
        "tpr = dict()\n",
        "thresh = dict()\n",
        "\n",
        "for i in range(6):    \n",
        "    fpr[i], tpr[i], thresh[i] = roc_curve(y_test, y_pred_SMOTE, pos_label=i)\n",
        "\n",
        "plt.plot(fpr[0], tpr[0], linestyle='--',color='orangered', label='Class 0 vs Rest')\n",
        "plt.plot(fpr[1], tpr[1], linestyle='--',color='green', label='Class 1 vs Rest')\n",
        "plt.plot(fpr[2], tpr[2], linestyle='--',color='blue', label='Class 2 vs Rest')\n",
        "plt.plot(fpr[3], tpr[3], linestyle='--',color='yellow', label='Class 3 vs Rest')\n",
        "plt.plot(fpr[4], tpr[4], linestyle='--',color='purple', label='Class 4 vs Rest')\n",
        "plt.plot(fpr[5], tpr[5], linestyle='--',color='magenta', label='Class 5 vs Rest')\n",
        "\n",
        "plt.title('Multiclass ROC curve for Decision Tree with SMOTE Upsampling')\n",
        "plt.xlabel('False Positive Rate')\n",
        "plt.ylabel('True Positive rate')\n",
        "plt.legend(loc='best')\n",
        "plt.savefig('Multiclass ROC curve for Decision Tree with SMOTE Upsampling',dpi=300)\n"
      ]
    },
    {
      "cell_type": "code",
      "execution_count": null,
      "metadata": {
        "colab": {
          "base_uri": "https://localhost:8080/",
          "height": 200
        },
        "id": "kk1QArGLIbPk",
        "outputId": "a0af380d-a23a-4c67-e0ec-db96684bebc3"
      },
      "outputs": [
        {
          "ename": "NameError",
          "evalue": "ignored",
          "output_type": "error",
          "traceback": [
            "\u001b[0;31m---------------------------------------------------------------------------\u001b[0m",
            "\u001b[0;31mNameError\u001b[0m                                 Traceback (most recent call last)",
            "\u001b[0;32m<ipython-input-26-fd912ff99772>\u001b[0m in \u001b[0;36m<module>\u001b[0;34m()\u001b[0m\n\u001b[0;32m----> 1\u001b[0;31m \u001b[0mDT_classifier_NM_PCA\u001b[0m \u001b[0;34m=\u001b[0m \u001b[0mtree\u001b[0m\u001b[0;34m.\u001b[0m\u001b[0mDecisionTreeClassifier\u001b[0m\u001b[0;34m(\u001b[0m\u001b[0mcriterion\u001b[0m\u001b[0;34m=\u001b[0m\u001b[0;34m'gini'\u001b[0m\u001b[0;34m)\u001b[0m\u001b[0;34m\u001b[0m\u001b[0;34m\u001b[0m\u001b[0m\n\u001b[0m\u001b[1;32m      2\u001b[0m \u001b[0mDT_classifier_NM_PCA\u001b[0m\u001b[0;34m.\u001b[0m\u001b[0mfit\u001b[0m\u001b[0;34m(\u001b[0m\u001b[0mX_train_dres_nm_PCAreduced\u001b[0m\u001b[0;34m,\u001b[0m\u001b[0my_train_dres_nm\u001b[0m\u001b[0;34m)\u001b[0m\u001b[0;34m\u001b[0m\u001b[0;34m\u001b[0m\u001b[0m\n\u001b[1;32m      3\u001b[0m \u001b[0my_pred_NM_PCA\u001b[0m \u001b[0;34m=\u001b[0m \u001b[0mDT_classifier_NM_PCA\u001b[0m\u001b[0;34m.\u001b[0m\u001b[0mpredict\u001b[0m\u001b[0;34m(\u001b[0m\u001b[0mX_test_NM_PCA_transformed\u001b[0m\u001b[0;34m)\u001b[0m\u001b[0;34m\u001b[0m\u001b[0;34m\u001b[0m\u001b[0m\n",
            "\u001b[0;31mNameError\u001b[0m: name 'tree' is not defined"
          ]
        }
      ],
      "source": [
        "DT_classifier_NM_PCA = tree.DecisionTreeClassifier(criterion='gini')\n",
        "DT_classifier_NM_PCA.fit(X_train_dres_nm_PCAreduced,y_train_dres_nm)\n",
        "y_pred_NM_PCA = DT_classifier_NM_PCA.predict(X_test_NM_PCA_transformed)"
      ]
    },
    {
      "cell_type": "code",
      "execution_count": null,
      "metadata": {
        "colab": {
          "base_uri": "https://localhost:8080/",
          "height": 165
        },
        "id": "TlI5WNdjIkDQ",
        "outputId": "c77c4b57-8f3a-498d-c965-63503a3d8a81"
      },
      "outputs": [
        {
          "ename": "NameError",
          "evalue": "ignored",
          "output_type": "error",
          "traceback": [
            "\u001b[0;31m---------------------------------------------------------------------------\u001b[0m",
            "\u001b[0;31mNameError\u001b[0m                                 Traceback (most recent call last)",
            "\u001b[0;32m<ipython-input-27-0ad260cf5602>\u001b[0m in \u001b[0;36m<module>\u001b[0;34m()\u001b[0m\n\u001b[0;32m----> 1\u001b[0;31m \u001b[0mpickle\u001b[0m\u001b[0;34m.\u001b[0m\u001b[0mdump\u001b[0m\u001b[0;34m(\u001b[0m\u001b[0mDT_classifier_NM_PCA\u001b[0m\u001b[0;34m,\u001b[0m \u001b[0mopen\u001b[0m\u001b[0;34m(\u001b[0m\u001b[0;34m'DT_classifier_NM_PCA.pkl'\u001b[0m\u001b[0;34m,\u001b[0m \u001b[0;34m'wb'\u001b[0m\u001b[0;34m)\u001b[0m\u001b[0;34m)\u001b[0m\u001b[0;34m\u001b[0m\u001b[0;34m\u001b[0m\u001b[0m\n\u001b[0m",
            "\u001b[0;31mNameError\u001b[0m: name 'pickle' is not defined"
          ]
        }
      ],
      "source": [
        "pickle.dump(DT_classifier_NM_PCA, open('DT_classifier_NM_PCA.pkl', 'wb'))"
      ]
    },
    {
      "cell_type": "code",
      "execution_count": null,
      "metadata": {
        "colab": {
          "base_uri": "https://localhost:8080/",
          "height": 269
        },
        "id": "BhJ7z7IQIpzS",
        "outputId": "94235f38-00a2-480f-9c60-1c6281e29c38"
      },
      "outputs": [
        {
          "name": "stdout",
          "output_type": "stream",
          "text": [
            "Performance of Decision Tree Algorithm with Near Miss Downsampling and PCA:\n",
            "\n"
          ]
        },
        {
          "ename": "NameError",
          "evalue": "ignored",
          "output_type": "error",
          "traceback": [
            "\u001b[0;31m---------------------------------------------------------------------------\u001b[0m",
            "\u001b[0;31mNameError\u001b[0m                                 Traceback (most recent call last)",
            "\u001b[0;32m<ipython-input-28-fb2db2206118>\u001b[0m in \u001b[0;36m<module>\u001b[0;34m()\u001b[0m\n\u001b[1;32m      1\u001b[0m \u001b[0mprint\u001b[0m\u001b[0;34m(\u001b[0m\u001b[0;34m'Performance of Decision Tree Algorithm with Near Miss Downsampling and PCA:\\n'\u001b[0m\u001b[0;34m)\u001b[0m\u001b[0;34m\u001b[0m\u001b[0;34m\u001b[0m\u001b[0m\n\u001b[0;32m----> 2\u001b[0;31m \u001b[0mprint\u001b[0m\u001b[0;34m(\u001b[0m\u001b[0mconfusion_matrix\u001b[0m\u001b[0;34m(\u001b[0m\u001b[0my_test\u001b[0m\u001b[0;34m,\u001b[0m \u001b[0my_pred_NM_PCA\u001b[0m\u001b[0;34m)\u001b[0m\u001b[0;34m)\u001b[0m\u001b[0;34m\u001b[0m\u001b[0;34m\u001b[0m\u001b[0m\n\u001b[0m\u001b[1;32m      3\u001b[0m \u001b[0mprint\u001b[0m\u001b[0;34m(\u001b[0m\u001b[0mconfusion_matrix\u001b[0m\u001b[0;34m(\u001b[0m\u001b[0my_test\u001b[0m\u001b[0;34m,\u001b[0m \u001b[0my_pred_NM_PCA\u001b[0m\u001b[0;34m)\u001b[0m\u001b[0;34m)\u001b[0m\u001b[0;34m\u001b[0m\u001b[0;34m\u001b[0m\u001b[0m\n\u001b[1;32m      4\u001b[0m \u001b[0mprint\u001b[0m\u001b[0;34m(\u001b[0m\u001b[0mclassification_report\u001b[0m\u001b[0;34m(\u001b[0m\u001b[0my_test\u001b[0m\u001b[0;34m,\u001b[0m \u001b[0my_pred_NM_PCA\u001b[0m\u001b[0;34m)\u001b[0m\u001b[0;34m)\u001b[0m\u001b[0;34m\u001b[0m\u001b[0;34m\u001b[0m\u001b[0m\n\u001b[1;32m      5\u001b[0m \u001b[0mprint\u001b[0m\u001b[0;34m(\u001b[0m\u001b[0;34m'Accuracy:'\u001b[0m\u001b[0;34m,\u001b[0m\u001b[0maccuracy_score\u001b[0m\u001b[0;34m(\u001b[0m\u001b[0my_test\u001b[0m\u001b[0;34m,\u001b[0m \u001b[0my_pred_NM_PCA\u001b[0m\u001b[0;34m)\u001b[0m\u001b[0;34m)\u001b[0m\u001b[0;34m\u001b[0m\u001b[0;34m\u001b[0m\u001b[0m\n",
            "\u001b[0;31mNameError\u001b[0m: name 'confusion_matrix' is not defined"
          ]
        }
      ],
      "source": [
        "print('Performance of Decision Tree Algorithm with Near Miss Downsampling and PCA:\\n')\n",
        "print(confusion_matrix(y_test, y_pred_NM_PCA))\n",
        "print(confusion_matrix(y_test, y_pred_NM_PCA))\n",
        "print(classification_report(y_test, y_pred_NM_PCA))\n",
        "print('Accuracy:',accuracy_score(y_test, y_pred_NM_PCA))\n",
        "print('Precision:',precision_score(y_test, y_pred_NM_PCA, average='weighted'))\n",
        "print('Recall:',recall_score(y_test, y_pred_NM_PCA, average='weighted'))\n",
        "print('F1 Score:',f1_score(y_test, y_pred_NM_PCA, average='weighted'))\n",
        "print('Cohen Kappa Score:',cohen_kappa_score(y_test, y_pred_NM_PCA))\n"
      ]
    },
    {
      "cell_type": "code",
      "execution_count": null,
      "metadata": {
        "colab": {
          "base_uri": "https://localhost:8080/",
          "height": 235
        },
        "id": "ILVPTeQeIt5E",
        "outputId": "9bf932b2-e1e1-456d-c614-494c9b7eeaa0"
      },
      "outputs": [
        {
          "ename": "NameError",
          "evalue": "ignored",
          "output_type": "error",
          "traceback": [
            "\u001b[0;31m---------------------------------------------------------------------------\u001b[0m",
            "\u001b[0;31mNameError\u001b[0m                                 Traceback (most recent call last)",
            "\u001b[0;32m<ipython-input-29-fc9b82b7b4c9>\u001b[0m in \u001b[0;36m<module>\u001b[0;34m()\u001b[0m\n\u001b[1;32m      4\u001b[0m \u001b[0;34m\u001b[0m\u001b[0m\n\u001b[1;32m      5\u001b[0m \u001b[0;32mfor\u001b[0m \u001b[0mi\u001b[0m \u001b[0;32min\u001b[0m \u001b[0mrange\u001b[0m\u001b[0;34m(\u001b[0m\u001b[0;36m6\u001b[0m\u001b[0;34m)\u001b[0m\u001b[0;34m:\u001b[0m\u001b[0;34m\u001b[0m\u001b[0;34m\u001b[0m\u001b[0m\n\u001b[0;32m----> 6\u001b[0;31m     \u001b[0mfpr\u001b[0m\u001b[0;34m[\u001b[0m\u001b[0mi\u001b[0m\u001b[0;34m]\u001b[0m\u001b[0;34m,\u001b[0m \u001b[0mtpr\u001b[0m\u001b[0;34m[\u001b[0m\u001b[0mi\u001b[0m\u001b[0;34m]\u001b[0m\u001b[0;34m,\u001b[0m \u001b[0mthresh\u001b[0m\u001b[0;34m[\u001b[0m\u001b[0mi\u001b[0m\u001b[0;34m]\u001b[0m \u001b[0;34m=\u001b[0m \u001b[0mroc_curve\u001b[0m\u001b[0;34m(\u001b[0m\u001b[0my_test\u001b[0m\u001b[0;34m,\u001b[0m \u001b[0my_pred_NM_PCA\u001b[0m\u001b[0;34m,\u001b[0m \u001b[0mpos_label\u001b[0m\u001b[0;34m=\u001b[0m\u001b[0mi\u001b[0m\u001b[0;34m)\u001b[0m\u001b[0;34m\u001b[0m\u001b[0;34m\u001b[0m\u001b[0m\n\u001b[0m\u001b[1;32m      7\u001b[0m \u001b[0;34m\u001b[0m\u001b[0m\n\u001b[1;32m      8\u001b[0m \u001b[0mplt\u001b[0m\u001b[0;34m.\u001b[0m\u001b[0mplot\u001b[0m\u001b[0;34m(\u001b[0m\u001b[0mfpr\u001b[0m\u001b[0;34m[\u001b[0m\u001b[0;36m0\u001b[0m\u001b[0;34m]\u001b[0m\u001b[0;34m,\u001b[0m \u001b[0mtpr\u001b[0m\u001b[0;34m[\u001b[0m\u001b[0;36m0\u001b[0m\u001b[0;34m]\u001b[0m\u001b[0;34m,\u001b[0m \u001b[0mlinestyle\u001b[0m\u001b[0;34m=\u001b[0m\u001b[0;34m'--'\u001b[0m\u001b[0;34m,\u001b[0m\u001b[0mcolor\u001b[0m\u001b[0;34m=\u001b[0m\u001b[0;34m'orangered'\u001b[0m\u001b[0;34m,\u001b[0m \u001b[0mlabel\u001b[0m\u001b[0;34m=\u001b[0m\u001b[0;34m'Class 0 vs Rest'\u001b[0m\u001b[0;34m)\u001b[0m\u001b[0;34m\u001b[0m\u001b[0;34m\u001b[0m\u001b[0m\n",
            "\u001b[0;31mNameError\u001b[0m: name 'roc_curve' is not defined"
          ]
        }
      ],
      "source": [
        "fpr = dict()\n",
        "tpr = dict()\n",
        "thresh = dict()\n",
        "\n",
        "for i in range(6):    \n",
        "    fpr[i], tpr[i], thresh[i] = roc_curve(y_test, y_pred_NM_PCA, pos_label=i)\n",
        "\n",
        "plt.plot(fpr[0], tpr[0], linestyle='--',color='orangered', label='Class 0 vs Rest')\n",
        "plt.plot(fpr[1], tpr[1], linestyle='--',color='green', label='Class 1 vs Rest')\n",
        "plt.plot(fpr[2], tpr[2], linestyle='--',color='blue', label='Class 2 vs Rest')\n",
        "plt.plot(fpr[3], tpr[3], linestyle='--',color='yellow', label='Class 3 vs Rest')\n",
        "plt.plot(fpr[4], tpr[4], linestyle='--',color='purple', label='Class 4 vs Rest')\n",
        "plt.plot(fpr[5], tpr[5], linestyle='--',color='magenta', label='Class 5 vs Rest')\n",
        "\n",
        "plt.title('Multiclass ROC curve for Decision Tree with Near Miss Downsampling and PCA')\n",
        "plt.xlabel('False Positive Rate')\n",
        "plt.ylabel('True Positive rate')\n",
        "plt.legend(loc='best')\n",
        "plt.savefig('Multiclass ROC curve for Decision Tree with Near Miss Downsampling and PCA',dpi=300)\n"
      ]
    },
    {
      "cell_type": "code",
      "execution_count": null,
      "metadata": {
        "colab": {
          "base_uri": "https://localhost:8080/",
          "height": 200
        },
        "id": "MN1kTL9-I2G2",
        "outputId": "1b46ceed-f522-4658-8be1-b43106f566a9"
      },
      "outputs": [
        {
          "ename": "NameError",
          "evalue": "ignored",
          "output_type": "error",
          "traceback": [
            "\u001b[0;31m---------------------------------------------------------------------------\u001b[0m",
            "\u001b[0;31mNameError\u001b[0m                                 Traceback (most recent call last)",
            "\u001b[0;32m<ipython-input-30-4cf712807b04>\u001b[0m in \u001b[0;36m<module>\u001b[0;34m()\u001b[0m\n\u001b[0;32m----> 1\u001b[0;31m \u001b[0mDT_classifier_SMOTE_PCA\u001b[0m \u001b[0;34m=\u001b[0m \u001b[0mtree\u001b[0m\u001b[0;34m.\u001b[0m\u001b[0mDecisionTreeClassifier\u001b[0m\u001b[0;34m(\u001b[0m\u001b[0mcriterion\u001b[0m\u001b[0;34m=\u001b[0m\u001b[0;34m'gini'\u001b[0m\u001b[0;34m)\u001b[0m\u001b[0;34m\u001b[0m\u001b[0;34m\u001b[0m\u001b[0m\n\u001b[0m\u001b[1;32m      2\u001b[0m \u001b[0mDT_classifier_SMOTE_PCA\u001b[0m\u001b[0;34m.\u001b[0m\u001b[0mfit\u001b[0m\u001b[0;34m(\u001b[0m\u001b[0mX_train_ures_SMOTE_PCAreduced\u001b[0m\u001b[0;34m,\u001b[0m\u001b[0my_train_ures_SMOTE\u001b[0m\u001b[0;34m)\u001b[0m\u001b[0;34m\u001b[0m\u001b[0;34m\u001b[0m\u001b[0m\n\u001b[1;32m      3\u001b[0m \u001b[0my_pred_SMOTE_PCA\u001b[0m \u001b[0;34m=\u001b[0m \u001b[0mDT_classifier_SMOTE_PCA\u001b[0m\u001b[0;34m.\u001b[0m\u001b[0mpredict\u001b[0m\u001b[0;34m(\u001b[0m\u001b[0mX_test_SMOTE_PCA_transformed\u001b[0m\u001b[0;34m)\u001b[0m\u001b[0;34m\u001b[0m\u001b[0;34m\u001b[0m\u001b[0m\n",
            "\u001b[0;31mNameError\u001b[0m: name 'tree' is not defined"
          ]
        }
      ],
      "source": [
        "DT_classifier_SMOTE_PCA = tree.DecisionTreeClassifier(criterion='gini')\n",
        "DT_classifier_SMOTE_PCA.fit(X_train_ures_SMOTE_PCAreduced,y_train_ures_SMOTE)\n",
        "y_pred_SMOTE_PCA = DT_classifier_SMOTE_PCA.predict(X_test_SMOTE_PCA_transformed)"
      ]
    },
    {
      "cell_type": "code",
      "execution_count": null,
      "metadata": {
        "colab": {
          "base_uri": "https://localhost:8080/",
          "height": 165
        },
        "id": "GYq33eJzI9M-",
        "outputId": "7ea0f750-398b-4875-d4c1-a580c50b805d"
      },
      "outputs": [
        {
          "ename": "NameError",
          "evalue": "ignored",
          "output_type": "error",
          "traceback": [
            "\u001b[0;31m---------------------------------------------------------------------------\u001b[0m",
            "\u001b[0;31mNameError\u001b[0m                                 Traceback (most recent call last)",
            "\u001b[0;32m<ipython-input-31-154f1350d902>\u001b[0m in \u001b[0;36m<module>\u001b[0;34m()\u001b[0m\n\u001b[0;32m----> 1\u001b[0;31m \u001b[0mpickle\u001b[0m\u001b[0;34m.\u001b[0m\u001b[0mdump\u001b[0m\u001b[0;34m(\u001b[0m\u001b[0mDT_classifier_SMOTE_PCA\u001b[0m\u001b[0;34m,\u001b[0m \u001b[0mopen\u001b[0m\u001b[0;34m(\u001b[0m\u001b[0;34m'DT_classifier_SMOTE_PCA.pkl'\u001b[0m\u001b[0;34m,\u001b[0m \u001b[0;34m'wb'\u001b[0m\u001b[0;34m)\u001b[0m\u001b[0;34m)\u001b[0m\u001b[0;34m\u001b[0m\u001b[0;34m\u001b[0m\u001b[0m\n\u001b[0m",
            "\u001b[0;31mNameError\u001b[0m: name 'pickle' is not defined"
          ]
        }
      ],
      "source": [
        "pickle.dump(DT_classifier_SMOTE_PCA, open('DT_classifier_SMOTE_PCA.pkl', 'wb'))\n"
      ]
    },
    {
      "cell_type": "code",
      "execution_count": null,
      "metadata": {
        "colab": {
          "base_uri": "https://localhost:8080/",
          "height": 269
        },
        "id": "ts2i3nHII-B4",
        "outputId": "561d0a42-13c9-4e9c-8921-0da5b3ee4978"
      },
      "outputs": [
        {
          "name": "stdout",
          "output_type": "stream",
          "text": [
            "Performance of Decision Tree Algorithm with SMOTE Upsampling and PCA:\n",
            "\n"
          ]
        },
        {
          "ename": "NameError",
          "evalue": "ignored",
          "output_type": "error",
          "traceback": [
            "\u001b[0;31m---------------------------------------------------------------------------\u001b[0m",
            "\u001b[0;31mNameError\u001b[0m                                 Traceback (most recent call last)",
            "\u001b[0;32m<ipython-input-32-bc39dfd4e03a>\u001b[0m in \u001b[0;36m<module>\u001b[0;34m()\u001b[0m\n\u001b[1;32m      1\u001b[0m \u001b[0mprint\u001b[0m\u001b[0;34m(\u001b[0m\u001b[0;34m'Performance of Decision Tree Algorithm with SMOTE Upsampling and PCA:\\n'\u001b[0m\u001b[0;34m)\u001b[0m\u001b[0;34m\u001b[0m\u001b[0;34m\u001b[0m\u001b[0m\n\u001b[0;32m----> 2\u001b[0;31m \u001b[0mprint\u001b[0m\u001b[0;34m(\u001b[0m\u001b[0mconfusion_matrix\u001b[0m\u001b[0;34m(\u001b[0m\u001b[0my_test\u001b[0m\u001b[0;34m,\u001b[0m \u001b[0my_pred_SMOTE_PCA\u001b[0m\u001b[0;34m)\u001b[0m\u001b[0;34m)\u001b[0m\u001b[0;34m\u001b[0m\u001b[0;34m\u001b[0m\u001b[0m\n\u001b[0m\u001b[1;32m      3\u001b[0m \u001b[0mprint\u001b[0m\u001b[0;34m(\u001b[0m\u001b[0mconfusion_matrix\u001b[0m\u001b[0;34m(\u001b[0m\u001b[0my_test\u001b[0m\u001b[0;34m,\u001b[0m \u001b[0my_pred_SMOTE_PCA\u001b[0m\u001b[0;34m)\u001b[0m\u001b[0;34m)\u001b[0m\u001b[0;34m\u001b[0m\u001b[0;34m\u001b[0m\u001b[0m\n\u001b[1;32m      4\u001b[0m \u001b[0mprint\u001b[0m\u001b[0;34m(\u001b[0m\u001b[0mclassification_report\u001b[0m\u001b[0;34m(\u001b[0m\u001b[0my_test\u001b[0m\u001b[0;34m,\u001b[0m \u001b[0my_pred_SMOTE_PCA\u001b[0m\u001b[0;34m)\u001b[0m\u001b[0;34m)\u001b[0m\u001b[0;34m\u001b[0m\u001b[0;34m\u001b[0m\u001b[0m\n\u001b[1;32m      5\u001b[0m \u001b[0mprint\u001b[0m\u001b[0;34m(\u001b[0m\u001b[0;34m'Accuracy:'\u001b[0m\u001b[0;34m,\u001b[0m\u001b[0maccuracy_score\u001b[0m\u001b[0;34m(\u001b[0m\u001b[0my_test\u001b[0m\u001b[0;34m,\u001b[0m \u001b[0my_pred_SMOTE_PCA\u001b[0m\u001b[0;34m)\u001b[0m\u001b[0;34m)\u001b[0m\u001b[0;34m\u001b[0m\u001b[0;34m\u001b[0m\u001b[0m\n",
            "\u001b[0;31mNameError\u001b[0m: name 'confusion_matrix' is not defined"
          ]
        }
      ],
      "source": [
        "print('Performance of Decision Tree Algorithm with SMOTE Upsampling and PCA:\\n')\n",
        "print(confusion_matrix(y_test, y_pred_SMOTE_PCA))\n",
        "print(confusion_matrix(y_test, y_pred_SMOTE_PCA))\n",
        "print(classification_report(y_test, y_pred_SMOTE_PCA))\n",
        "print('Accuracy:',accuracy_score(y_test, y_pred_SMOTE_PCA))\n",
        "print('Precision:',precision_score(y_test, y_pred_SMOTE_PCA, average='weighted'))\n",
        "print('Recall:',recall_score(y_test, y_pred_SMOTE_PCA, average='weighted'))\n",
        "print('F1 Score:',f1_score(y_test, y_pred_SMOTE_PCA, average='weighted'))\n",
        "print('Cohen Kappa Score:',cohen_kappa_score(y_test, y_pred_SMOTE_PCA))"
      ]
    },
    {
      "cell_type": "code",
      "execution_count": null,
      "metadata": {
        "colab": {
          "base_uri": "https://localhost:8080/",
          "height": 235
        },
        "id": "83mVTvPFJIRo",
        "outputId": "a695b4cb-2dd1-45c9-a6ca-a9a5144a1fc8"
      },
      "outputs": [
        {
          "ename": "NameError",
          "evalue": "ignored",
          "output_type": "error",
          "traceback": [
            "\u001b[0;31m---------------------------------------------------------------------------\u001b[0m",
            "\u001b[0;31mNameError\u001b[0m                                 Traceback (most recent call last)",
            "\u001b[0;32m<ipython-input-33-dfcdc9ba1311>\u001b[0m in \u001b[0;36m<module>\u001b[0;34m()\u001b[0m\n\u001b[1;32m      4\u001b[0m \u001b[0;34m\u001b[0m\u001b[0m\n\u001b[1;32m      5\u001b[0m \u001b[0;32mfor\u001b[0m \u001b[0mi\u001b[0m \u001b[0;32min\u001b[0m \u001b[0mrange\u001b[0m\u001b[0;34m(\u001b[0m\u001b[0;36m6\u001b[0m\u001b[0;34m)\u001b[0m\u001b[0;34m:\u001b[0m\u001b[0;34m\u001b[0m\u001b[0;34m\u001b[0m\u001b[0m\n\u001b[0;32m----> 6\u001b[0;31m     \u001b[0mfpr\u001b[0m\u001b[0;34m[\u001b[0m\u001b[0mi\u001b[0m\u001b[0;34m]\u001b[0m\u001b[0;34m,\u001b[0m \u001b[0mtpr\u001b[0m\u001b[0;34m[\u001b[0m\u001b[0mi\u001b[0m\u001b[0;34m]\u001b[0m\u001b[0;34m,\u001b[0m \u001b[0mthresh\u001b[0m\u001b[0;34m[\u001b[0m\u001b[0mi\u001b[0m\u001b[0;34m]\u001b[0m \u001b[0;34m=\u001b[0m \u001b[0mroc_curve\u001b[0m\u001b[0;34m(\u001b[0m\u001b[0my_test\u001b[0m\u001b[0;34m,\u001b[0m \u001b[0my_pred_SMOTE_PCA\u001b[0m\u001b[0;34m,\u001b[0m \u001b[0mpos_label\u001b[0m\u001b[0;34m=\u001b[0m\u001b[0mi\u001b[0m\u001b[0;34m)\u001b[0m\u001b[0;34m\u001b[0m\u001b[0;34m\u001b[0m\u001b[0m\n\u001b[0m\u001b[1;32m      7\u001b[0m \u001b[0;34m\u001b[0m\u001b[0m\n\u001b[1;32m      8\u001b[0m \u001b[0mplt\u001b[0m\u001b[0;34m.\u001b[0m\u001b[0mplot\u001b[0m\u001b[0;34m(\u001b[0m\u001b[0mfpr\u001b[0m\u001b[0;34m[\u001b[0m\u001b[0;36m0\u001b[0m\u001b[0;34m]\u001b[0m\u001b[0;34m,\u001b[0m \u001b[0mtpr\u001b[0m\u001b[0;34m[\u001b[0m\u001b[0;36m0\u001b[0m\u001b[0;34m]\u001b[0m\u001b[0;34m,\u001b[0m \u001b[0mlinestyle\u001b[0m\u001b[0;34m=\u001b[0m\u001b[0;34m'--'\u001b[0m\u001b[0;34m,\u001b[0m\u001b[0mcolor\u001b[0m\u001b[0;34m=\u001b[0m\u001b[0;34m'orangered'\u001b[0m\u001b[0;34m,\u001b[0m \u001b[0mlabel\u001b[0m\u001b[0;34m=\u001b[0m\u001b[0;34m'Class 0 vs Rest'\u001b[0m\u001b[0;34m)\u001b[0m\u001b[0;34m\u001b[0m\u001b[0;34m\u001b[0m\u001b[0m\n",
            "\u001b[0;31mNameError\u001b[0m: name 'roc_curve' is not defined"
          ]
        }
      ],
      "source": [
        "fpr = dict()\n",
        "tpr = dict()\n",
        "thresh = dict()\n",
        "\n",
        "for i in range(6):    \n",
        "    fpr[i], tpr[i], thresh[i] = roc_curve(y_test, y_pred_SMOTE_PCA, pos_label=i)\n",
        "\n",
        "plt.plot(fpr[0], tpr[0], linestyle='--',color='orangered', label='Class 0 vs Rest')\n",
        "plt.plot(fpr[1], tpr[1], linestyle='--',color='green', label='Class 1 vs Rest')\n",
        "plt.plot(fpr[2], tpr[2], linestyle='--',color='blue', label='Class 2 vs Rest')\n",
        "plt.plot(fpr[3], tpr[3], linestyle='--',color='yellow', label='Class 3 vs Rest')\n",
        "plt.plot(fpr[4], tpr[4], linestyle='--',color='purple', label='Class 4 vs Rest')\n",
        "plt.plot(fpr[5], tpr[5], linestyle='--',color='magenta', label='Class 5 vs Rest')\n",
        "\n",
        "plt.title('Multiclass ROC curve for Decision Tree with SMOTE Upsampling and PCA')\n",
        "plt.xlabel('False Positive Rate')\n",
        "plt.ylabel('True Positive rate')\n",
        "plt.legend(loc='best')\n",
        "plt.savefig('Multiclass ROC curve for Decision Tree with SMOTE Upsampling and PCA',dpi=300)\n"
      ]
    },
    {
      "cell_type": "code",
      "execution_count": null,
      "metadata": {
        "colab": {
          "base_uri": "https://localhost:8080/",
          "height": 200
        },
        "id": "VpLczmE8JMui",
        "outputId": "81283f7e-1dd9-4390-accd-a3f64d657ab4"
      },
      "outputs": [
        {
          "ename": "NameError",
          "evalue": "ignored",
          "output_type": "error",
          "traceback": [
            "\u001b[0;31m---------------------------------------------------------------------------\u001b[0m",
            "\u001b[0;31mNameError\u001b[0m                                 Traceback (most recent call last)",
            "\u001b[0;32m<ipython-input-34-7951bcd548d0>\u001b[0m in \u001b[0;36m<module>\u001b[0;34m()\u001b[0m\n\u001b[0;32m----> 1\u001b[0;31m \u001b[0mDT_classifier_NM_LDA\u001b[0m \u001b[0;34m=\u001b[0m \u001b[0mtree\u001b[0m\u001b[0;34m.\u001b[0m\u001b[0mDecisionTreeClassifier\u001b[0m\u001b[0;34m(\u001b[0m\u001b[0mcriterion\u001b[0m\u001b[0;34m=\u001b[0m\u001b[0;34m'gini'\u001b[0m\u001b[0;34m)\u001b[0m\u001b[0;34m\u001b[0m\u001b[0;34m\u001b[0m\u001b[0m\n\u001b[0m\u001b[1;32m      2\u001b[0m \u001b[0mDT_classifier_NM_LDA\u001b[0m\u001b[0;34m.\u001b[0m\u001b[0mfit\u001b[0m\u001b[0;34m(\u001b[0m\u001b[0mX_train_dres_nm_LDAreduced\u001b[0m\u001b[0;34m,\u001b[0m\u001b[0my_train_dres_nm\u001b[0m\u001b[0;34m)\u001b[0m\u001b[0;34m\u001b[0m\u001b[0;34m\u001b[0m\u001b[0m\n\u001b[1;32m      3\u001b[0m \u001b[0my_pred_NM_LDA\u001b[0m \u001b[0;34m=\u001b[0m \u001b[0mDT_classifier_NM_LDA\u001b[0m\u001b[0;34m.\u001b[0m\u001b[0mpredict\u001b[0m\u001b[0;34m(\u001b[0m\u001b[0mX_test_NM_LDA_transformed\u001b[0m\u001b[0;34m)\u001b[0m\u001b[0;34m\u001b[0m\u001b[0;34m\u001b[0m\u001b[0m\n",
            "\u001b[0;31mNameError\u001b[0m: name 'tree' is not defined"
          ]
        }
      ],
      "source": [
        "DT_classifier_NM_LDA = tree.DecisionTreeClassifier(criterion='gini')\n",
        "DT_classifier_NM_LDA.fit(X_train_dres_nm_LDAreduced,y_train_dres_nm)\n",
        "y_pred_NM_LDA = DT_classifier_NM_LDA.predict(X_test_NM_LDA_transformed)"
      ]
    },
    {
      "cell_type": "code",
      "execution_count": null,
      "metadata": {
        "colab": {
          "base_uri": "https://localhost:8080/",
          "height": 165
        },
        "id": "JA1BDUaOJN8R",
        "outputId": "4e657efc-57cb-4fd9-af50-6ff756a5051c"
      },
      "outputs": [
        {
          "ename": "NameError",
          "evalue": "ignored",
          "output_type": "error",
          "traceback": [
            "\u001b[0;31m---------------------------------------------------------------------------\u001b[0m",
            "\u001b[0;31mNameError\u001b[0m                                 Traceback (most recent call last)",
            "\u001b[0;32m<ipython-input-34-28516c66e42a>\u001b[0m in \u001b[0;36m<module>\u001b[0;34m()\u001b[0m\n\u001b[0;32m----> 1\u001b[0;31m \u001b[0mpickle\u001b[0m\u001b[0;34m.\u001b[0m\u001b[0mdump\u001b[0m\u001b[0;34m(\u001b[0m\u001b[0mDT_classifier_NM_LDA\u001b[0m\u001b[0;34m,\u001b[0m \u001b[0mopen\u001b[0m\u001b[0;34m(\u001b[0m\u001b[0;34m'DT_classifier_NM_LDA.pkl'\u001b[0m\u001b[0;34m,\u001b[0m \u001b[0;34m'wb'\u001b[0m\u001b[0;34m)\u001b[0m\u001b[0;34m)\u001b[0m\u001b[0;34m\u001b[0m\u001b[0;34m\u001b[0m\u001b[0m\n\u001b[0m",
            "\u001b[0;31mNameError\u001b[0m: name 'pickle' is not defined"
          ]
        }
      ],
      "source": [
        "DT_classifier_NM_LDA = tree.DecisionTreeClassifier(criterion='gini')\n",
        "DT_classifier_NM_LDA.fit(X_train_dres_nm_LDAreduced,y_train_dres_nm)\n"
      ]
    },
    {
      "cell_type": "code",
      "execution_count": null,
      "metadata": {
        "colab": {
          "base_uri": "https://localhost:8080/",
          "height": 269
        },
        "id": "VksUjpnFJWKh",
        "outputId": "42a1e53e-2c3b-430e-e401-84132f4c7c65"
      },
      "outputs": [
        {
          "name": "stdout",
          "output_type": "stream",
          "text": [
            "Performance of Decision Tree Algorithm with Near Miss Downsampling and LDA:\n",
            "\n"
          ]
        },
        {
          "ename": "NameError",
          "evalue": "ignored",
          "output_type": "error",
          "traceback": [
            "\u001b[0;31m---------------------------------------------------------------------------\u001b[0m",
            "\u001b[0;31mNameError\u001b[0m                                 Traceback (most recent call last)",
            "\u001b[0;32m<ipython-input-35-38ee8464bc1d>\u001b[0m in \u001b[0;36m<module>\u001b[0;34m()\u001b[0m\n\u001b[1;32m      1\u001b[0m \u001b[0mprint\u001b[0m\u001b[0;34m(\u001b[0m\u001b[0;34m'Performance of Decision Tree Algorithm with Near Miss Downsampling and LDA:\\n'\u001b[0m\u001b[0;34m)\u001b[0m\u001b[0;34m\u001b[0m\u001b[0;34m\u001b[0m\u001b[0m\n\u001b[0;32m----> 2\u001b[0;31m \u001b[0mprint\u001b[0m\u001b[0;34m(\u001b[0m\u001b[0mconfusion_matrix\u001b[0m\u001b[0;34m(\u001b[0m\u001b[0my_test\u001b[0m\u001b[0;34m,\u001b[0m \u001b[0my_pred_NM_LDA\u001b[0m\u001b[0;34m)\u001b[0m\u001b[0;34m)\u001b[0m\u001b[0;34m\u001b[0m\u001b[0;34m\u001b[0m\u001b[0m\n\u001b[0m\u001b[1;32m      3\u001b[0m \u001b[0mprint\u001b[0m\u001b[0;34m(\u001b[0m\u001b[0mconfusion_matrix\u001b[0m\u001b[0;34m(\u001b[0m\u001b[0my_test\u001b[0m\u001b[0;34m,\u001b[0m \u001b[0my_pred_NM_LDA\u001b[0m\u001b[0;34m)\u001b[0m\u001b[0;34m)\u001b[0m\u001b[0;34m\u001b[0m\u001b[0;34m\u001b[0m\u001b[0m\n\u001b[1;32m      4\u001b[0m \u001b[0mprint\u001b[0m\u001b[0;34m(\u001b[0m\u001b[0mclassification_report\u001b[0m\u001b[0;34m(\u001b[0m\u001b[0my_test\u001b[0m\u001b[0;34m,\u001b[0m \u001b[0my_pred_NM_LDA\u001b[0m\u001b[0;34m)\u001b[0m\u001b[0;34m)\u001b[0m\u001b[0;34m\u001b[0m\u001b[0;34m\u001b[0m\u001b[0m\n\u001b[1;32m      5\u001b[0m \u001b[0mprint\u001b[0m\u001b[0;34m(\u001b[0m\u001b[0;34m'Accuracy:'\u001b[0m\u001b[0;34m,\u001b[0m\u001b[0maccuracy_score\u001b[0m\u001b[0;34m(\u001b[0m\u001b[0my_test\u001b[0m\u001b[0;34m,\u001b[0m \u001b[0my_pred_NM_LDA\u001b[0m\u001b[0;34m)\u001b[0m\u001b[0;34m)\u001b[0m\u001b[0;34m\u001b[0m\u001b[0;34m\u001b[0m\u001b[0m\n",
            "\u001b[0;31mNameError\u001b[0m: name 'confusion_matrix' is not defined"
          ]
        }
      ],
      "source": [
        "print('Performance of Decision Tree Algorithm with Near Miss Downsampling and LDA:\\n')\n",
        "print(confusion_matrix(y_test, y_pred_NM_LDA))\n",
        "print(confusion_matrix(y_test, y_pred_NM_LDA))\n",
        "print(classification_report(y_test, y_pred_NM_LDA))\n",
        "print('Accuracy:',accuracy_score(y_test, y_pred_NM_LDA))\n",
        "print('Precision:',precision_score(y_test, y_pred_NM_LDA, average='weighted'))\n",
        "print('Recall:',recall_score(y_test, y_pred_NM_LDA, average='weighted'))\n",
        "print('F1 Score:',f1_score(y_test, y_pred_NM_LDA, average='weighted'))\n",
        "print('Cohen Kappa Score:',cohen_kappa_score(y_test, y_pred_NM_LDA))\n"
      ]
    },
    {
      "cell_type": "code",
      "execution_count": null,
      "metadata": {
        "colab": {
          "base_uri": "https://localhost:8080/",
          "height": 235
        },
        "id": "d5GPTt1yJbly",
        "outputId": "51aa9317-d59b-4e38-c421-206ad81ccc31"
      },
      "outputs": [
        {
          "ename": "NameError",
          "evalue": "ignored",
          "output_type": "error",
          "traceback": [
            "\u001b[0;31m---------------------------------------------------------------------------\u001b[0m",
            "\u001b[0;31mNameError\u001b[0m                                 Traceback (most recent call last)",
            "\u001b[0;32m<ipython-input-36-578dc801ce42>\u001b[0m in \u001b[0;36m<module>\u001b[0;34m()\u001b[0m\n\u001b[1;32m      4\u001b[0m \u001b[0;34m\u001b[0m\u001b[0m\n\u001b[1;32m      5\u001b[0m \u001b[0;32mfor\u001b[0m \u001b[0mi\u001b[0m \u001b[0;32min\u001b[0m \u001b[0mrange\u001b[0m\u001b[0;34m(\u001b[0m\u001b[0;36m6\u001b[0m\u001b[0;34m)\u001b[0m\u001b[0;34m:\u001b[0m\u001b[0;34m\u001b[0m\u001b[0;34m\u001b[0m\u001b[0m\n\u001b[0;32m----> 6\u001b[0;31m     \u001b[0mfpr\u001b[0m\u001b[0;34m[\u001b[0m\u001b[0mi\u001b[0m\u001b[0;34m]\u001b[0m\u001b[0;34m,\u001b[0m \u001b[0mtpr\u001b[0m\u001b[0;34m[\u001b[0m\u001b[0mi\u001b[0m\u001b[0;34m]\u001b[0m\u001b[0;34m,\u001b[0m \u001b[0mthresh\u001b[0m\u001b[0;34m[\u001b[0m\u001b[0mi\u001b[0m\u001b[0;34m]\u001b[0m \u001b[0;34m=\u001b[0m \u001b[0mroc_curve\u001b[0m\u001b[0;34m(\u001b[0m\u001b[0my_test\u001b[0m\u001b[0;34m,\u001b[0m \u001b[0my_pred_NM_LDA\u001b[0m\u001b[0;34m,\u001b[0m \u001b[0mpos_label\u001b[0m\u001b[0;34m=\u001b[0m\u001b[0mi\u001b[0m\u001b[0;34m)\u001b[0m\u001b[0;34m\u001b[0m\u001b[0;34m\u001b[0m\u001b[0m\n\u001b[0m\u001b[1;32m      7\u001b[0m \u001b[0;34m\u001b[0m\u001b[0m\n\u001b[1;32m      8\u001b[0m \u001b[0mplt\u001b[0m\u001b[0;34m.\u001b[0m\u001b[0mplot\u001b[0m\u001b[0;34m(\u001b[0m\u001b[0mfpr\u001b[0m\u001b[0;34m[\u001b[0m\u001b[0;36m0\u001b[0m\u001b[0;34m]\u001b[0m\u001b[0;34m,\u001b[0m \u001b[0mtpr\u001b[0m\u001b[0;34m[\u001b[0m\u001b[0;36m0\u001b[0m\u001b[0;34m]\u001b[0m\u001b[0;34m,\u001b[0m \u001b[0mlinestyle\u001b[0m\u001b[0;34m=\u001b[0m\u001b[0;34m'--'\u001b[0m\u001b[0;34m,\u001b[0m\u001b[0mcolor\u001b[0m\u001b[0;34m=\u001b[0m\u001b[0;34m'orangered'\u001b[0m\u001b[0;34m,\u001b[0m \u001b[0mlabel\u001b[0m\u001b[0;34m=\u001b[0m\u001b[0;34m'Class 0 vs Rest'\u001b[0m\u001b[0;34m)\u001b[0m\u001b[0;34m\u001b[0m\u001b[0;34m\u001b[0m\u001b[0m\n",
            "\u001b[0;31mNameError\u001b[0m: name 'roc_curve' is not defined"
          ]
        }
      ],
      "source": [
        "fpr = dict()\n",
        "tpr = dict()\n",
        "thresh = dict()\n",
        "\n",
        "for i in range(6):    \n",
        "    fpr[i], tpr[i], thresh[i] = roc_curve(y_test, y_pred_NM_LDA, pos_label=i)\n",
        "\n",
        "plt.plot(fpr[0], tpr[0], linestyle='--',color='orangered', label='Class 0 vs Rest')\n",
        "plt.plot(fpr[1], tpr[1], linestyle='--',color='green', label='Class 1 vs Rest')\n",
        "plt.plot(fpr[2], tpr[2], linestyle='--',color='blue', label='Class 2 vs Rest')\n",
        "plt.plot(fpr[3], tpr[3], linestyle='--',color='yellow', label='Class 3 vs Rest')\n",
        "plt.plot(fpr[4], tpr[4], linestyle='--',color='purple', label='Class 4 vs Rest')\n",
        "plt.plot(fpr[5], tpr[5], linestyle='--',color='magenta', label='Class 5 vs Rest')\n",
        "\n",
        "plt.title('Multiclass ROC curve for Decision Tree with Near Miss Downsampling and LDA')\n",
        "plt.xlabel('False Positive Rate')\n",
        "plt.ylabel('True Positive rate')\n",
        "plt.legend(loc='best')\n",
        "plt.savefig('Multiclass ROC curve for Decision Tree with Near Miss Downsampling and LDA',dpi=300)\n"
      ]
    },
    {
      "cell_type": "code",
      "execution_count": null,
      "metadata": {
        "colab": {
          "base_uri": "https://localhost:8080/",
          "height": 200
        },
        "id": "fweeMaQfJk2W",
        "outputId": "5c321c70-4109-4fb6-95b0-52575dd3b328"
      },
      "outputs": [
        {
          "ename": "NameError",
          "evalue": "ignored",
          "output_type": "error",
          "traceback": [
            "\u001b[0;31m---------------------------------------------------------------------------\u001b[0m",
            "\u001b[0;31mNameError\u001b[0m                                 Traceback (most recent call last)",
            "\u001b[0;32m<ipython-input-37-b61afedfa0e6>\u001b[0m in \u001b[0;36m<module>\u001b[0;34m()\u001b[0m\n\u001b[0;32m----> 1\u001b[0;31m \u001b[0mDT_classifier_SMOTE_LDA\u001b[0m \u001b[0;34m=\u001b[0m \u001b[0mtree\u001b[0m\u001b[0;34m.\u001b[0m\u001b[0mDecisionTreeClassifier\u001b[0m\u001b[0;34m(\u001b[0m\u001b[0mcriterion\u001b[0m\u001b[0;34m=\u001b[0m\u001b[0;34m'gini'\u001b[0m\u001b[0;34m)\u001b[0m\u001b[0;34m\u001b[0m\u001b[0;34m\u001b[0m\u001b[0m\n\u001b[0m\u001b[1;32m      2\u001b[0m \u001b[0mDT_classifier_SMOTE_LDA\u001b[0m\u001b[0;34m.\u001b[0m\u001b[0mfit\u001b[0m\u001b[0;34m(\u001b[0m\u001b[0mX_train_ures_SMOTE_LDAreduced\u001b[0m\u001b[0;34m,\u001b[0m\u001b[0my_train_ures_SMOTE\u001b[0m\u001b[0;34m)\u001b[0m\u001b[0;34m\u001b[0m\u001b[0;34m\u001b[0m\u001b[0m\n\u001b[1;32m      3\u001b[0m \u001b[0my_pred_SMOTE_LDA\u001b[0m \u001b[0;34m=\u001b[0m \u001b[0mDT_classifier_SMOTE_LDA\u001b[0m\u001b[0;34m.\u001b[0m\u001b[0mpredict\u001b[0m\u001b[0;34m(\u001b[0m\u001b[0mX_test_SMOTE_LDA_transformed\u001b[0m\u001b[0;34m)\u001b[0m\u001b[0;34m\u001b[0m\u001b[0;34m\u001b[0m\u001b[0m\n",
            "\u001b[0;31mNameError\u001b[0m: name 'tree' is not defined"
          ]
        }
      ],
      "source": [
        "DT_classifier_SMOTE_LDA = tree.DecisionTreeClassifier(criterion='gini')\n",
        "DT_classifier_SMOTE_LDA.fit(X_train_ures_SMOTE_LDAreduced,y_train_ures_SMOTE)\n",
        "y_pred_SMOTE_LDA = DT_classifier_SMOTE_LDA.predict(X_test_SMOTE_LDA_transformed)"
      ]
    },
    {
      "cell_type": "code",
      "execution_count": null,
      "metadata": {
        "colab": {
          "base_uri": "https://localhost:8080/",
          "height": 165
        },
        "id": "_OaeZX3PJpkK",
        "outputId": "ab26ffdd-37cf-42cb-ed77-e1a5d7e9c07d"
      },
      "outputs": [
        {
          "ename": "NameError",
          "evalue": "ignored",
          "output_type": "error",
          "traceback": [
            "\u001b[0;31m---------------------------------------------------------------------------\u001b[0m",
            "\u001b[0;31mNameError\u001b[0m                                 Traceback (most recent call last)",
            "\u001b[0;32m<ipython-input-38-1a99bd265f72>\u001b[0m in \u001b[0;36m<module>\u001b[0;34m()\u001b[0m\n\u001b[0;32m----> 1\u001b[0;31m \u001b[0mpickle\u001b[0m\u001b[0;34m.\u001b[0m\u001b[0mdump\u001b[0m\u001b[0;34m(\u001b[0m\u001b[0mDT_classifier_SMOTE_LDA\u001b[0m\u001b[0;34m,\u001b[0m \u001b[0mopen\u001b[0m\u001b[0;34m(\u001b[0m\u001b[0;34m'DT_classifier_SMOTE_LDA.pkl'\u001b[0m\u001b[0;34m,\u001b[0m \u001b[0;34m'wb'\u001b[0m\u001b[0;34m)\u001b[0m\u001b[0;34m)\u001b[0m\u001b[0;34m\u001b[0m\u001b[0;34m\u001b[0m\u001b[0m\n\u001b[0m",
            "\u001b[0;31mNameError\u001b[0m: name 'pickle' is not defined"
          ]
        }
      ],
      "source": [
        "pickle.dump(DT_classifier_SMOTE_LDA, open('DT_classifier_SMOTE_LDA.pkl', 'wb'))"
      ]
    },
    {
      "cell_type": "code",
      "execution_count": null,
      "metadata": {
        "id": "0UGPnPMHJu3U"
      },
      "outputs": [],
      "source": [
        "print('Performance of Decision Tree Algorithm with SMOTE Upsampling and LDA:\\n')\n",
        "print(confusion_matrix(y_test, y_pred_SMOTE_LDA))\n",
        "print(confusion_matrix(y_test, y_pred_SMOTE_LDA))\n",
        "print(classification_report(y_test, y_pred_SMOTE_LDA))\n",
        "print('Accuracy:',accuracy_score(y_test, y_pred_SMOTE_LDA))\n",
        "print('Precision:',precision_score(y_test, y_pred_SMOTE_LDA, average='weighted'))\n",
        "print('Recall:',recall_score(y_test, y_pred_SMOTE_LDA, average='weighted'))\n",
        "print('F1 Score:',f1_score(y_test, y_pred_SMOTE_LDA, average='weighted'))\n",
        "print('Cohen Kappa Score:',cohen_kappa_score(y_test, y_pred_SMOTE_LDA))"
      ]
    },
    {
      "cell_type": "code",
      "execution_count": null,
      "metadata": {
        "id": "24K52CW5J1Ss"
      },
      "outputs": [],
      "source": [
        "fpr = dict()\n",
        "tpr = dict()\n",
        "thresh = dict()\n",
        "\n",
        "for i in range(6):    \n",
        "    fpr[i], tpr[i], thresh[i] = roc_curve(y_test, y_pred_SMOTE_LDA, pos_label=i)\n",
        "\n",
        "plt.plot(fpr[0], tpr[0], linestyle='--',color='orangered', label='Class 0 vs Rest')\n",
        "plt.plot(fpr[1], tpr[1], linestyle='--',color='green', label='Class 1 vs Rest')\n",
        "plt.plot(fpr[2], tpr[2], linestyle='--',color='blue', label='Class 2 vs Rest')\n",
        "plt.plot(fpr[3], tpr[3], linestyle='--',color='yellow', label='Class 3 vs Rest')\n",
        "plt.plot(fpr[4], tpr[4], linestyle='--',color='purple', label='Class 4 vs Rest')\n",
        "plt.plot(fpr[5], tpr[5], linestyle='--',color='magenta', label='Class 5 vs Rest')\n",
        "\n",
        "plt.title('Multiclass ROC curve for Decision Tree with SMOTE Upsampling and LDA')\n",
        "plt.xlabel('False Positive Rate')\n",
        "plt.ylabel('True Positive rate')\n",
        "plt.legend(loc='best')\n",
        "plt.savefig('Multiclass ROC curve for Decision Tree with SMOTE Upsampling and LDA',dpi=300)\n"
      ]
    },
    {
      "cell_type": "code",
      "execution_count": null,
      "metadata": {
        "id": "5Lt2sFhrJ7Rh"
      },
      "outputs": [],
      "source": [
        "DT_classifier = tree.DecisionTreeClassifier(criterion='gini')\n",
        "DT_classifier.fit(X_train,y_train)\n",
        "y_pred_DT = DT_classifier.predict(X_test)\n"
      ]
    },
    {
      "cell_type": "code",
      "execution_count": null,
      "metadata": {
        "id": "uHdL3-_iKAD9"
      },
      "outputs": [],
      "source": [
        "print('Performance of Decision Tree Algorithm without resampling:\\n')\n",
        "print(confusion_matrix(y_test, y_pred_DT))\n",
        "print(classification_report(y_test, y_pred_DT))\n",
        "print('Accuracy:',accuracy_score(y_test, y_pred_DT))\n",
        "print('Precision:',precision_score(y_test, y_pred_DT, average='weighted'))\n",
        "print('Recall:',recall_score(y_test, y_pred_DT, average='weighted'))\n",
        "print('F1 Score:',f1_score(y_test, y_pred_DT, average='weighted'))\n",
        "print('Cohen Kappa Score:',cohen_kappa_score(y_test, y_pred_DT))\n"
      ]
    },
    {
      "cell_type": "code",
      "execution_count": null,
      "metadata": {
        "id": "vAWudxJMKEDP"
      },
      "outputs": [],
      "source": [
        "fpr = dict()\n",
        "tpr = dict()\n",
        "thresh = dict()\n",
        "\n",
        "for i in range(6):    \n",
        "    fpr[i], tpr[i], thresh[i] = roc_curve(y_test, y_pred_DT, pos_label=i)\n",
        "\n",
        "plt.plot(fpr[0], tpr[0], linestyle='--',color='orangered', label='Class 0 vs Rest')\n",
        "plt.plot(fpr[1], tpr[1], linestyle='--',color='green', label='Class 1 vs Rest')\n",
        "plt.plot(fpr[2], tpr[2], linestyle='--',color='blue', label='Class 2 vs Rest')\n",
        "plt.plot(fpr[3], tpr[3], linestyle='--',color='yellow', label='Class 3 vs Rest')\n",
        "plt.plot(fpr[4], tpr[4], linestyle='--',color='purple', label='Class 4 vs Rest')\n",
        "plt.plot(fpr[5], tpr[5], linestyle='--',color='magenta', label='Class 5 vs Rest')\n",
        "\n",
        "plt.title('Multiclass ROC curve for Decision Tree without resampling')\n",
        "plt.xlabel('False Positive Rate')\n",
        "plt.ylabel('True Positive rate')\n",
        "plt.legend(loc='best')\n",
        "plt.savefig('Multiclass ROC curve for Decision Tree without resampling',dpi=300)"
      ]
    },
    {
      "cell_type": "code",
      "execution_count": null,
      "metadata": {
        "id": "Z8tE8oqVJWPV"
      },
      "outputs": [],
      "source": [
        "DT_classifier.get_depth()\n"
      ]
    },
    {
      "cell_type": "code",
      "execution_count": null,
      "metadata": {
        "id": "ZYRJ4gfaKUAH"
      },
      "outputs": [],
      "source": [
        "params = {\n",
        "          'max_depth': [40, 50, 60, 70, 80],\n",
        "#           'max_samples_leaf': [, 20, 50, 100],\n",
        "          'max_features':['log2','sqrt',None]\n",
        "}\n"
      ]
    },
    {
      "cell_type": "code",
      "execution_count": null,
      "metadata": {
        "id": "42mp7PWGKXpA"
      },
      "outputs": [],
      "source": [
        "grid_search = GridSearchCV(estimator=DT_classifier, \n",
        "                           param_grid=params, \n",
        "                           cv=4, n_jobs=-1, verbose=1, scoring = \"accuracy\")"
      ]
    },
    {
      "cell_type": "code",
      "execution_count": null,
      "metadata": {
        "id": "-Sj4f543KceX"
      },
      "outputs": [],
      "source": [
        "%%time\n",
        "grid_search.fit(X_train,y_train)"
      ]
    },
    {
      "cell_type": "code",
      "execution_count": null,
      "metadata": {
        "id": "ETnmK5BrKium"
      },
      "outputs": [],
      "source": [
        "score_df = pd.DataFrame(grid_search.cv_results_)\n",
        "score_df.nlargest(5,\"mean_test_score\")"
      ]
    },
    {
      "cell_type": "code",
      "execution_count": null,
      "metadata": {
        "id": "YTzaG0tNKoly"
      },
      "outputs": [],
      "source": [
        "DT_classifier = tree.DecisionTreeClassifier(criterion='gini', max_depth=70)\n",
        "DT_classifier.fit(X_train,y_train)\n",
        "y_pred_DT = DT_classifier.predict(X_test)\n"
      ]
    },
    {
      "cell_type": "code",
      "execution_count": null,
      "metadata": {
        "id": "ox59vk3DKtJQ"
      },
      "outputs": [],
      "source": [
        "print('Performance of Decision Tree Algorithm without resampling - After Hyperparameter Tuning:\\n')\n",
        "print(confusion_matrix(y_test, y_pred_DT))\n",
        "print(classification_report(y_test, y_pred_DT))\n",
        "print('Accuracy:',accuracy_score(y_test, y_pred_DT))\n",
        "print('Precision:',precision_score(y_test, y_pred_DT, average='weighted'))\n",
        "print('Recall:',recall_score(y_test, y_pred_DT, average='weighted'))\n",
        "print('F1 Score:',f1_score(y_test, y_pred_DT, average='weighted'))\n",
        "print('Cohen Kappa Score:',cohen_kappa_score(y_test, y_pred_DT))"
      ]
    },
    {
      "cell_type": "code",
      "execution_count": null,
      "metadata": {
        "id": "JhUJ1U4qLB8W"
      },
      "outputs": [],
      "source": []
    },
    {
      "cell_type": "code",
      "execution_count": null,
      "metadata": {
        "id": "stXGLYaWLGam"
      },
      "outputs": [],
      "source": [
        "fpr = dict()\n",
        "tpr = dict()\n",
        "thresh = dict()\n",
        "\n",
        "for i in range(6):    \n",
        "    fpr[i], tpr[i], thresh[i] = roc_curve(y_test, y_pred_DT, pos_label=i)\n",
        "\n",
        "plt.plot(fpr[0], tpr[0], linestyle='--',color='orangered', label='Class 0 vs Rest')\n",
        "plt.plot(fpr[1], tpr[1], linestyle='--',color='green', label='Class 1 vs Rest')\n",
        "plt.plot(fpr[2], tpr[2], linestyle='--',color='blue', label='Class 2 vs Rest')\n",
        "plt.plot(fpr[3], tpr[3], linestyle='--',color='yellow', label='Class 3 vs Rest')\n",
        "plt.plot(fpr[4], tpr[4], linestyle='--',color='purple', label='Class 4 vs Rest')\n",
        "plt.plot(fpr[5], tpr[5], linestyle='--',color='magenta', label='Class 5 vs Rest')\n",
        "\n",
        "plt.title('Multiclass ROC curve for Decision Tree without resampling - After Hyperparameter Tuning')\n",
        "plt.xlabel('False Positive Rate')\n",
        "plt.ylabel('True Positive rate')\n",
        "plt.legend(loc='best')\n",
        "plt.savefig('Multiclass ROC curve for Decision Tree without resampling - After Hyperparameter Tuning',dpi=300)"
      ]
    },
    {
      "cell_type": "markdown",
      "source": [],
      "metadata": {
        "id": "tQVX5ApL84Z_"
      }
    },
    {
      "cell_type": "code",
      "execution_count": null,
      "metadata": {
        "id": "X400eqq2LMBZ"
      },
      "outputs": [],
      "source": [
        "knn_classifier = KNeighborsClassifier(n_neighbors=5, p=2, metric='minkowski')\n",
        "knn_classifier.fit(X_train, y_train)\n",
        "y_pred_knn = knn_classifier.predict(X_test)"
      ]
    },
    {
      "cell_type": "code",
      "execution_count": null,
      "metadata": {
        "id": "6fKn8_AsLUCF"
      },
      "outputs": [],
      "source": [
        "print('Performance of KNN Algorithm without resampling:\\n')\n",
        "print(confusion_matrix(y_test, y_pred_knn))\n",
        "print(classification_report(y_test, y_pred_knn))\n",
        "print('Accuracy:',accuracy_score(y_test, y_pred_knn))\n",
        "print('Precision:',precision_score(y_test, y_pred_knn, average='weighted'))\n",
        "print('Recall:',recall_score(y_test, y_pred_knn, average='weighted'))\n",
        "print('F1 Score:',f1_score(y_test, y_pred_knn, average='weighted'))\n",
        "print('Cohen Kappa Score:',cohen_kappa_score(y_test, y_pred_knn))"
      ]
    },
    {
      "cell_type": "code",
      "execution_count": null,
      "metadata": {
        "id": "3Lh95LZ-LXvJ"
      },
      "outputs": [],
      "source": [
        "fpr = dict()\n",
        "tpr = dict()\n",
        "thresh = dict()\n",
        "\n",
        "for i in range(6):    \n",
        "    fpr[i], tpr[i], thresh[i] = roc_curve(y_test, y_pred_knn, pos_label=i)\n",
        "\n",
        "plt.plot(fpr[0], tpr[0], linestyle='--',color='orangered', label='Class 0 vs Rest')\n",
        "plt.plot(fpr[1], tpr[1], linestyle='--',color='green', label='Class 1 vs Rest')\n",
        "plt.plot(fpr[2], tpr[2], linestyle='--',color='blue', label='Class 2 vs Rest')\n",
        "plt.plot(fpr[3], tpr[3], linestyle='--',color='yellow', label='Class 3 vs Rest')\n",
        "plt.plot(fpr[4], tpr[4], linestyle='--',color='purple', label='Class 4 vs Rest')\n",
        "plt.plot(fpr[5], tpr[5], linestyle='--',color='magenta', label='Class 5 vs Rest')\n",
        "\n",
        "plt.title('Multiclass ROC curve for KNN without resampling')\n",
        "plt.xlabel('False Positive Rate')\n",
        "plt.ylabel('True Positive rate')\n",
        "plt.legend(loc='best')\n",
        "plt.savefig('Multiclass ROC curve for KNN without resampling',dpi=300)"
      ]
    },
    {
      "cell_type": "code",
      "execution_count": null,
      "metadata": {
        "id": "1gxoVVn9LewQ"
      },
      "outputs": [],
      "source": [
        "k_range = list(range(1, 10))\n",
        "param_grid = dict(n_neighbors=k_range)\n",
        "\n",
        "grid = GridSearchCV(knn_classifier, param_grid, cv=3, scoring='accuracy', return_train_score=False,verbose=1)\n",
        "grid_search=grid.fit(X_train, y_train)"
      ]
    },
    {
      "cell_type": "code",
      "execution_count": null,
      "metadata": {
        "id": "RNM7nZItLkfZ"
      },
      "outputs": [],
      "source": [
        "score_df = pd.DataFrame(grid_search.cv_results_)\n",
        "score_df.nlargest(5,\"mean_test_score\")"
      ]
    },
    {
      "cell_type": "code",
      "execution_count": null,
      "metadata": {
        "id": "PCVdk_LdLs9W"
      },
      "outputs": [],
      "source": [
        "knn_classifier = KNeighborsClassifier(n_neighbors=1, p=2, metric='minkowski')\n",
        "knn_classifier.fit(X_train, y_train)\n",
        "y_pred_knn = knn_classifier.predict(X_test)"
      ]
    },
    {
      "cell_type": "markdown",
      "source": [],
      "metadata": {
        "id": "c7-urx1v9cz6"
      }
    },
    {
      "cell_type": "code",
      "execution_count": null,
      "metadata": {
        "id": "e8mEv1zhLx8W"
      },
      "outputs": [],
      "source": [
        " open('knn_classifier.pkl', 'wb'))"
      ]
    },
    {
      "cell_type": "code",
      "execution_count": null,
      "metadata": {
        "id": "0c0FEi7kL2QI"
      },
      "outputs": [],
      "source": [
        "print('Performance of KNN Algorithm without resampling - After Hyperparameter Tuning:\\n')\n",
        "print(confusion_matrix(y_test, y_pred_knn))\n",
        "print(classification_report(y_test, y_pred_knn))\n",
        "print('Accuracy:',accuracy_score(y_test, y_pred_knn))\n",
        "print('Precision:',precision_score(y_test, y_pred_knn, average='weighted'))\n",
        "print('Recall:',recall_score(y_test, y_pred_knn, average='weighted'))\n",
        "print('F1 Score:',f1_score(y_test, y_pred_knn, average='weighted'))\n",
        "print('Cohen Kappa Score:',cohen_kappa_score(y_test, y_pred_knn))"
      ]
    },
    {
      "cell_type": "code",
      "execution_count": null,
      "metadata": {
        "id": "Iq4pIDh-L5nz"
      },
      "outputs": [],
      "source": [
        "fpr = dict()\n",
        "tpr = dict()\n",
        "thresh = dict()\n",
        "\n",
        "for i in range(6):    \n",
        "    fpr[i], tpr[i], thresh[i] = roc_curve(y_test, y_pred_knn, pos_label=i)\n",
        "\n",
        "plt.plot(fpr[0], tpr[0], linestyle='--',color='orangered', label='Class 0 vs Rest')\n",
        "plt.plot(fpr[1], tpr[1], linestyle='--',color='green', label='Class 1 vs Rest')\n",
        "plt.plot(fpr[2], tpr[2], linestyle='--',color='blue', label='Class 2 vs Rest')\n",
        "plt.plot(fpr[3], tpr[3], linestyle='--',color='yellow', label='Class 3 vs Rest')\n",
        "plt.plot(fpr[4], tpr[4], linestyle='--',color='purple', label='Class 4 vs Rest')\n",
        "plt.plot(fpr[5], tpr[5], linestyle='--',color='magenta', label='Class 5 vs Rest')\n",
        "\n",
        "plt.title('Multiclass ROC curve for KNN without resampling - After Hyperparameter Tuning')\n",
        "plt.xlabel('False Positive Rate')\n",
        "plt.ylabel('True Positive rate')\n",
        "plt.legend(loc='best')\n",
        "plt.savefig('Multiclass ROC curve for KNN without resampling - After Hyperparameter Tuning',dpi=300)"
      ]
    },
    {
      "cell_type": "code",
      "execution_count": null,
      "metadata": {
        "id": "5aYDJmr_L5st"
      },
      "outputs": [],
      "source": [
        "knn_classifier_SMOTE = KNeighborsClassifier(n_neighbors=1, p=2, metric='minkowski')\n",
        "knn_classifier_SMOTE.fit(X_train_ures_SMOTE, y_train_ures_SMOTE)\n",
        "y_pred_knn_SMOTE = knn_classifier_SMOTE.predict(X_test)"
      ]
    },
    {
      "cell_type": "code",
      "execution_count": null,
      "metadata": {
        "id": "GeD9N46_LGen"
      },
      "outputs": [],
      "source": [
        "pickle.dump(knn_classifier_SMOTE, open('knn_classifier_SMOTE.pkl', 'wb'))"
      ]
    },
    {
      "cell_type": "code",
      "execution_count": null,
      "metadata": {
        "id": "uvUGnnC-MQUr"
      },
      "outputs": [],
      "source": [
        "print('Performance of KNN Algorithm with SMOTE Upsampling:\\n')\n",
        "print(confusion_matrix(y_test, y_pred_knn_SMOTE))\n",
        "print(classification_report(y_test, y_pred_knn_SMOTE))\n",
        "print('Accuracy:',accuracy_score(y_test, y_pred_knn_SMOTE))\n",
        "print('Precision:',precision_score(y_test, y_pred_knn_SMOTE, average='weighted'))\n",
        "print('Recall:',recall_score(y_test, y_pred_knn_SMOTE, average='weighted'))\n",
        "print('F1 Score:',f1_score(y_test, y_pred_knn_SMOTE, average='weighted'))\n",
        "print('Cohen Kappa Score:',cohen_kappa_score(y_test, y_pred_knn_SMOTE))"
      ]
    },
    {
      "cell_type": "code",
      "execution_count": null,
      "metadata": {
        "id": "BBjS-jm_MU8J"
      },
      "outputs": [],
      "source": [
        "fpr = dict()\n",
        "tpr = dict()\n",
        "thresh = dict()\n",
        "\n",
        "for i in range(6):    \n",
        "    fpr[i], tpr[i], thresh[i] = roc_curve(y_test, y_pred_knn_SMOTE, pos_label=i)\n",
        "\n",
        "plt.plot(fpr[0], tpr[0], linestyle='--',color='orangered', label='Class 0 vs Rest')\n",
        "plt.plot(fpr[1], tpr[1], linestyle='--',color='green', label='Class 1 vs Rest')\n",
        "plt.plot(fpr[2], tpr[2], linestyle='--',color='blue', label='Class 2 vs Rest')\n",
        "plt.plot(fpr[3], tpr[3], linestyle='--',color='yellow', label='Class 3 vs Rest')\n",
        "plt.plot(fpr[4], tpr[4], linestyle='--',color='purple', label='Class 4 vs Rest')\n",
        "plt.plot(fpr[5], tpr[5], linestyle='--',color='magenta', label='Class 5 vs Rest')\n",
        "\n",
        "plt.title('Multiclass ROC curve for KNN with SMOTE Upsampling')\n",
        "plt.xlabel('False Positive Rate')\n",
        "plt.ylabel('True Positive rate')\n",
        "plt.legend(loc='best')\n",
        "plt.savefig('Multiclass ROC curve for KNN with SMOTE Upsampling',dpi=300)"
      ]
    },
    {
      "cell_type": "code",
      "execution_count": null,
      "metadata": {
        "id": "E_vIEc9uMb1f"
      },
      "outputs": [],
      "source": [
        "knn_classifier_NM = KNeighborsClassifier(n_neighbors=1, p=2, metric='minkowski')\n",
        "knn_classifier_NM.fit(X_train_dres_nm, y_train_dres_nm)\n",
        "y_pred_knn_NM = knn_classifier_NM.predict(X_test)"
      ]
    },
    {
      "cell_type": "code",
      "execution_count": null,
      "metadata": {
        "id": "niJvU6jLMb6S"
      },
      "outputs": [],
      "source": [
        "pickle.dump(knn_classifier_NM, open('knn_classifier_NM.pkl', 'wb'))"
      ]
    },
    {
      "cell_type": "code",
      "execution_count": null,
      "metadata": {
        "id": "bWJ7oFopMVA6"
      },
      "outputs": [],
      "source": [
        "print('Performance of KNN Algorithm with NM Downsampling:\\n')\n",
        "print(confusion_matrix(y_test, y_pred_knn_NM))\n",
        "print(classification_report(y_test, y_pred_knn_NM))\n",
        "print('Accuracy:',accuracy_score(y_test, y_pred_knn_NM))\n",
        "print('Precision:',precision_score(y_test, y_pred_knn_NM, average='weighted'))\n",
        "print('Recall:',recall_score(y_test, y_pred_knn_NM, average='weighted'))\n",
        "print('F1 Score:',f1_score(y_test, y_pred_knn_NM, average='weighted'))\n",
        "print('Cohen Kappa Score:',cohen_kappa_score(y_test, y_pred_knn_NM))"
      ]
    },
    {
      "cell_type": "code",
      "execution_count": null,
      "metadata": {
        "id": "IPkNW3qlMp5_"
      },
      "outputs": [],
      "source": [
        "fpr = dict()\n",
        "tpr = dict()\n",
        "thresh = dict()\n",
        "\n",
        "for i in range(6):    \n",
        "    fpr[i], tpr[i], thresh[i] = roc_curve(y_test, y_pred_knn_NM, pos_label=i)\n",
        "\n",
        "plt.plot(fpr[0], tpr[0], linestyle='--',color='orangered', label='Class 0 vs Rest')\n",
        "plt.plot(fpr[1], tpr[1], linestyle='--',color='green', label='Class 1 vs Rest')\n",
        "plt.plot(fpr[2], tpr[2], linestyle='--',color='blue', label='Class 2 vs Rest')\n",
        "plt.plot(fpr[3], tpr[3], linestyle='--',color='yellow', label='Class 3 vs Rest')\n",
        "plt.plot(fpr[4], tpr[4], linestyle='--',color='purple', label='Class 4 vs Rest')\n",
        "plt.plot(fpr[5], tpr[5], linestyle='--',color='magenta', label='Class 5 vs Rest')\n",
        "\n",
        "plt.title('Multiclass ROC curve for KNN with Near Miss Downsampling')\n",
        "plt.xlabel('False Positive Rate')\n",
        "plt.ylabel('True Positive rate')\n",
        "plt.legend(loc='best')\n",
        "plt.savefig('Multiclass ROC curve for KNN with Near Miss Downsampling',dpi=300)"
      ]
    },
    {
      "cell_type": "code",
      "execution_count": null,
      "metadata": {
        "id": "OzR4ueuNMp-G"
      },
      "outputs": [],
      "source": [
        "NB_classifier = GaussianNB()\n",
        "NB_classifier.fit(X_train, y_train)\n",
        "y_pred_NB = NB_classifier.predict(X_test)"
      ]
    },
    {
      "cell_type": "code",
      "execution_count": null,
      "metadata": {
        "id": "NEk1RpYFM0ys"
      },
      "outputs": [],
      "source": [
        "pickle.dump(NB_classifier, open('NB_classifier.pkl', 'wb'))\n"
      ]
    },
    {
      "cell_type": "code",
      "execution_count": null,
      "metadata": {
        "id": "99PMS-rgM4pD"
      },
      "outputs": [],
      "source": [
        "print('Performance of Naive Bayes Algorithm without resampling:\\n')\n",
        "print(confusion_matrix(y_test, y_pred_NB))\n",
        "print(classification_report(y_test, y_pred_NB))\n",
        "print('Accuracy:',accuracy_score(y_test, y_pred_NB))\n",
        "print('Precision:',precision_score(y_test, y_pred_NB, average='weighted'))\n",
        "print('Recall:',recall_score(y_test, y_pred_NB, average='weighted'))\n",
        "print('F1 Score:',f1_score(y_test, y_pred_NB, average='weighted'))\n",
        "print('Cohen Kappa Score:',cohen_kappa_score(y_test, y_pred_NB))"
      ]
    },
    {
      "cell_type": "code",
      "execution_count": null,
      "metadata": {
        "id": "Qj_Vv0M4Pvyd"
      },
      "outputs": [],
      "source": []
    },
    {
      "cell_type": "code",
      "execution_count": null,
      "metadata": {
        "id": "YURh8hwfM_Dp"
      },
      "outputs": [],
      "source": [
        "fpr = dict()\n",
        "tpr = dict()\n",
        "thresh = dict()\n",
        "\n",
        "for i in range(6):    \n",
        "    fpr[i], tpr[i], thresh[i] = roc_curve(y_test, y_pred_NB, pos_label=i)\n",
        "\n",
        "plt.plot(fpr[0], tpr[0], linestyle='--',color='orangered', label='Class 0 vs Rest')\n",
        "plt.plot(fpr[1], tpr[1], linestyle='--',color='green', label='Class 1 vs Rest')\n",
        "plt.plot(fpr[2], tpr[2], linestyle='--',color='blue', label='Class 2 vs Rest')\n",
        "plt.plot(fpr[3], tpr[3], linestyle='--',color='yellow', label='Class 3 vs Rest')\n",
        "plt.plot(fpr[4], tpr[4], linestyle='--',color='purple', label='Class 4 vs Rest')\n",
        "plt.plot(fpr[5], tpr[5], linestyle='--',color='magenta', label='Class 5 vs Rest')\n",
        "\n",
        "plt.title('Multiclass ROC curve for Naive Bayes without resampling')\n",
        "plt.xlabel('False Positive Rate')\n",
        "plt.ylabel('True Positive rate')\n",
        "plt.legend(loc='best')\n",
        "plt.savefig('Multiclass ROC curve for Naive Bayes without resampling',dpi=300)"
      ]
    },
    {
      "cell_type": "code",
      "execution_count": null,
      "metadata": {
        "id": "py-NMTV0NFlh"
      },
      "outputs": [],
      "source": [
        "RF_classifier = RandomForestClassifier(n_estimators = 20, max_depth=70, random_state=0)\n",
        "RF_classifier.fit(X_train, y_train)\n",
        "y_pred_RF = RF_classifier.predict(X_test)"
      ]
    },
    {
      "cell_type": "code",
      "execution_count": null,
      "metadata": {
        "id": "aUfuodLfNJyJ"
      },
      "outputs": [],
      "source": [
        "print('Performance of RF Algorithm without resampling:\\n')\n",
        "print(confusion_matrix(y_test, y_pred_RF))\n",
        "print(classification_report(y_test, y_pred_RF))\n",
        "print('Accuracy:',accuracy_score(y_test, y_pred_RF))\n",
        "print('Precision:',precision_score(y_test, y_pred_RF, average='weighted'))\n",
        "print('Recall:',recall_score(y_test, y_pred_RF, average='weighted'))\n",
        "print('F1 Score:',f1_score(y_test, y_pred_RF, average='weighted'))\n",
        "print('Cohen Kappa Score:',cohen_kappa_score(y_test, y_pred_RF))"
      ]
    },
    {
      "cell_type": "code",
      "execution_count": null,
      "metadata": {
        "id": "Z1y_8AmuNP9R"
      },
      "outputs": [],
      "source": [
        "fpr = dict()\n",
        "tpr = dict()\n",
        "thresh = dict()\n",
        "\n",
        "for i in range(6):    \n",
        "    fpr[i], tpr[i], thresh[i] = roc_curve(y_test, y_pred_RF, pos_label=i)\n",
        "\n",
        "plt.plot(fpr[0], tpr[0], linestyle='--',color='orangered', label='Class 0 vs Rest')\n",
        "plt.plot(fpr[1], tpr[1], linestyle='--',color='green', label='Class 1 vs Rest')\n",
        "plt.plot(fpr[2], tpr[2], linestyle='--',color='blue', label='Class 2 vs Rest')\n",
        "plt.plot(fpr[3], tpr[3], linestyle='--',color='yellow', label='Class 3 vs Rest')\n",
        "plt.plot(fpr[4], tpr[4], linestyle='--',color='purple', label='Class 4 vs Rest')\n",
        "plt.plot(fpr[5], tpr[5], linestyle='--',color='magenta', label='Class 5 vs Rest')\n",
        "\n",
        "plt.title('Multiclass ROC curve for Random Forest without resampling')\n",
        "plt.xlabel('False Positive Rate')\n",
        "plt.ylabel('True Positive rate')\n",
        "plt.legend(loc='best')\n",
        "plt.savefig('Multiclass ROC curve for Random Forest without resampling',dpi=300)"
      ]
    },
    {
      "cell_type": "code",
      "execution_count": null,
      "metadata": {
        "id": "Dr8elpJnNV0_"
      },
      "outputs": [],
      "source": [
        "n_estimators = [int(x) for x in np.linspace(start = 10, stop = 50, num = 10)]\n",
        "max_features = ['auto', 'sqrt']\n",
        "max_depth = [int(x) for x in np.linspace(10, 110, num = 11)]\n",
        "max_depth.append(None)\n",
        "bootstrap = [True, False]\n",
        "random_grid = {'n_estimators': n_estimators,\n",
        "               'max_features': max_features,\n",
        "               'max_depth': max_depth,\n",
        "               'bootstrap': bootstrap}"
      ]
    },
    {
      "cell_type": "code",
      "execution_count": null,
      "metadata": {
        "id": "FPUYR6DBNaLS"
      },
      "outputs": [],
      "source": [
        "RF_random = RandomizedSearchCV(estimator = RF_classifier, param_distributions = random_grid, n_iter = 20, cv = 3, verbose=2, random_state=0, n_jobs = -1)\n",
        "RF_random.fit(X_train, y_train)"
      ]
    },
    {
      "cell_type": "code",
      "execution_count": null,
      "metadata": {
        "id": "15u-v_O4Ndm-"
      },
      "outputs": [],
      "source": [
        "RF_random.best_params_"
      ]
    },
    {
      "cell_type": "code",
      "execution_count": null,
      "metadata": {
        "id": "KJKu6JtYNhIQ"
      },
      "outputs": [],
      "source": [
        "RF_classifier = RandomForestClassifier(n_estimators = 50, max_depth=80, bootstrap=False, max_features='sqrt', random_state=0)\n",
        "RF_classifier.fit(X_train, y_train)\n",
        "y_pred_RF = RF_classifier.predict(X_test)"
      ]
    },
    {
      "cell_type": "code",
      "execution_count": null,
      "metadata": {
        "id": "1_PhD0Z5NkTg"
      },
      "outputs": [],
      "source": [
        "pickle.dump(RF_classifier, open('RF_classifier.pkl', 'wb'))"
      ]
    },
    {
      "cell_type": "code",
      "execution_count": null,
      "metadata": {
        "id": "gGTch8R8NkfM"
      },
      "outputs": [],
      "source": [
        "print('Performance of RF Algorithm without resampling - After Hyperparamter Tuning:\\n')\n",
        "print(confusion_matrix(y_test, y_pred_RF))\n",
        "print(classification_report(y_test, y_pred_RF))\n",
        "print('Accuracy:',accuracy_score(y_test, y_pred_RF))\n",
        "print('Precision:',precision_score(y_test, y_pred_RF, average='weighted'))\n",
        "print('Recall:',recall_score(y_test, y_pred_RF, average='weighted'))\n",
        "print('F1 Score:',f1_score(y_test, y_pred_RF, average='weighted'))\n",
        "print('Cohen Kappa Score:',cohen_kappa_score(y_test, y_pred_RF))"
      ]
    },
    {
      "cell_type": "code",
      "execution_count": null,
      "metadata": {
        "id": "Fj2eP-l7NJ6_"
      },
      "outputs": [],
      "source": [
        "fpr = dict()\n",
        "tpr = dict()\n",
        "thresh = dict()\n",
        "\n",
        "for i in range(6):    \n",
        "    fpr[i], tpr[i], thresh[i] = roc_curve(y_test, y_pred_RF, pos_label=i)\n",
        "\n",
        "plt.plot(fpr[0], tpr[0], linestyle='--',color='orangered', label='Class 0 vs Rest')\n",
        "plt.plot(fpr[1], tpr[1], linestyle='--',color='green', label='Class 1 vs Rest')\n",
        "plt.plot(fpr[2], tpr[2], linestyle='--',color='blue', label='Class 2 vs Rest')\n",
        "plt.plot(fpr[3], tpr[3], linestyle='--',color='yellow', label='Class 3 vs Rest')\n",
        "plt.plot(fpr[4], tpr[4], linestyle='--',color='purple', label='Class 4 vs Rest')\n",
        "plt.plot(fpr[5], tpr[5], linestyle='--',color='magenta', label='Class 5 vs Rest')\n",
        "\n",
        "plt.title('Multiclass ROC curve for Random Forest without resampling - After Hyperparameter Tuning')\n",
        "plt.xlabel('False Positive Rate')\n",
        "plt.ylabel('True Positive rate')\n",
        "plt.legend(loc='best')\n",
        "plt.savefig('Multiclass ROC curve for Random Forest without resampling - After Hyperparameter Tuning',dpi=300)\n"
      ]
    },
    {
      "cell_type": "code",
      "execution_count": null,
      "metadata": {
        "id": "Q8kxUji4M_IM"
      },
      "outputs": [],
      "source": [
        "# svm_classifier = SVC(kernel='poly', degree=3, C = 1.0)\n",
        "# svm_classifier.fit(X_train, y_train)\n",
        "# y_pred_svm = svm_classifier.predict(X_test)\n"
      ]
    },
    {
      "cell_type": "code",
      "execution_count": null,
      "metadata": {
        "id": "RxH58zvDN3pr"
      },
      "outputs": [],
      "source": [
        "# print('Performance of SVM Algorithm without resampling:\\n')\n",
        "# print(confusion_matrix(y_test, y_pred_svm))\n",
        "# print(classification_report(y_test, y_pred_svm))\n",
        "# print('Accuracy:',accuracy_score(y_test, y_pred_svm))\n",
        "# print('Precision:',precision_score(y_test, y_pred_svm, average='weighted'))\n",
        "# print('Recall:',recall_score(y_test, y_pred_svm, average='weighted'))\n",
        "# print('F1 Score:',f1_score(y_test, y_pred_svm, average='weighted'))\n",
        "# print('Cohen Kappa Score:',cohen_kappa_score(y_test, y_pred_svm))"
      ]
    },
    {
      "cell_type": "code",
      "execution_count": null,
      "metadata": {
        "id": "oR17d89lOAVD"
      },
      "outputs": [],
      "source": [
        "# svm_classifier = SVC(kernel='rbf', C = 1.0)\n",
        "# svm_classifier.fit(X_train, y_train)\n",
        "# y_pred_svm_rbf = svm_classifier.predict(X_test)"
      ]
    },
    {
      "cell_type": "code",
      "execution_count": null,
      "metadata": {
        "id": "kpfIpw2uOD1x"
      },
      "outputs": [],
      "source": [
        "# print('Performance of SVM Algorithm with RBF Kernel without resampling:\\n')\n",
        "# print(confusion_matrix(y_test, y_pred_svm_rbf))\n",
        "# print(classification_report(y_test, y_pred_svm_rbf))\n",
        "# print('Accuracy:',accuracy_score(y_test, y_pred_svm_rbf))\n",
        "# print('Precision:',precision_score(y_test, y_pred_svm_rbf, average='weighted'))\n",
        "# print('Recall:',recall_score(y_test, y_pred_svm_rbf, average='weighted'))\n",
        "# print('F1 Score:',f1_score(y_test, y_pred_svm_rbf, average='weighted'))\n",
        "# print('Cohen Kappa Score:',cohen_kappa_score(y_test, y_pred_svm_rbf))"
      ]
    },
    {
      "cell_type": "code",
      "execution_count": null,
      "metadata": {
        "id": "Dr3rin9aOHSZ"
      },
      "outputs": [],
      "source": [
        "svm_classifier_nm = SVC(kernel='poly', degree=3, C = 1.0)\n",
        "svm_classifier_nm.fit(X_train_dres_nm, y_train_dres_nm)\n",
        "y_pred_svm_nm = svm_classifier_nm.predict(X_test)\n"
      ]
    },
    {
      "cell_type": "code",
      "execution_count": null,
      "metadata": {
        "id": "QIgS8SHyOSKM"
      },
      "outputs": [],
      "source": [
        "pickle.dump(svm_classifier_nm, open('svm_classifier_nm.pkl', 'wb'))"
      ]
    },
    {
      "cell_type": "code",
      "execution_count": null,
      "metadata": {
        "id": "0UpoIf_1OS_t"
      },
      "outputs": [],
      "source": [
        "print('Performance of SVM Algorithm with Near Miss downsampling:\\n')\n",
        "print(confusion_matrix(y_test, y_pred_svm_nm))\n",
        "print(classification_report(y_test, y_pred_svm_nm))\n",
        "print('Accuracy:',accuracy_score(y_test, y_pred_svm_nm))\n",
        "print('Precision:',precision_score(y_test, y_pred_svm_nm, average='weighted'))\n",
        "print('Recall:',recall_score(y_test, y_pred_svm_nm, average='weighted'))\n",
        "print('F1 Score:',f1_score(y_test, y_pred_svm_nm, average='weighted'))\n",
        "print('Cohen Kappa Score:',cohen_kappa_score(y_test, y_pred_svm_nm))\n"
      ]
    },
    {
      "cell_type": "code",
      "execution_count": null,
      "metadata": {
        "id": "g1AE8d1mOWtB"
      },
      "outputs": [],
      "source": [
        "fpr = dict()\n",
        "tpr = dict()\n",
        "thresh = dict()\n",
        "\n",
        "for i in range(6):    \n",
        "    fpr[i], tpr[i], thresh[i] = roc_curve(y_test, y_pred_svm_nm, pos_label=i)\n",
        "\n",
        "plt.plot(fpr[0], tpr[0], linestyle='--',color='orangered', label='Class 0 vs Rest')\n",
        "plt.plot(fpr[1], tpr[1], linestyle='--',color='green', label='Class 1 vs Rest')\n",
        "plt.plot(fpr[2], tpr[2], linestyle='--',color='blue', label='Class 2 vs Rest')\n",
        "plt.plot(fpr[3], tpr[3], linestyle='--',color='yellow', label='Class 3 vs Rest')\n",
        "plt.plot(fpr[4], tpr[4], linestyle='--',color='purple', label='Class 4 vs Rest')\n",
        "plt.plot(fpr[5], tpr[5], linestyle='--',color='magenta', label='Class 5 vs Rest')\n",
        "\n",
        "plt.title('Multiclass ROC curve for SVM with Near Miss Downsampling')\n",
        "plt.xlabel('False Positive Rate')\n",
        "plt.ylabel('True Positive rate')\n",
        "plt.legend(loc='best')\n",
        "plt.savefig('Multiclass ROC curve for SVM with Near Miss Downsampling',dpi=300)\n"
      ]
    },
    {
      "cell_type": "code",
      "execution_count": null,
      "metadata": {
        "id": "kP80-KNuOipC"
      },
      "outputs": [],
      "source": [
        "all_labels = pd.DataFrame()\n",
        "all_labels['Actual_label'] = y_test\n",
        "all_labels['y_pred_DT'] = y_pred_DT\n",
        "all_labels['y_pred_NM'] = y_pred_NM\n",
        "all_labels['y_pred_SMOTE'] = y_pred_SMOTE\n",
        "all_labels['y_pred_NM_PCA'] = y_pred_NM_PCA\n",
        "all_labels['y_pred_SMOTE_PCA'] = y_pred_SMOTE_PCA\n",
        "all_labels['y_pred_NM_LDA'] = y_pred_NM_LDA\n",
        "all_labels['y_pred_SMOTE_LDA'] = y_pred_SMOTE_LDA\n",
        "all_labels['y_pred_KNN'] = y_pred_knn\n",
        "all_labels['y_pred_KNN_SMOTE'] = y_pred_knn_SMOTE\n",
        "all_labels['y_pred_KNN_NM'] = y_pred_knn_NM\n",
        "all_labels['y_pred_NB'] = y_pred_NB\n",
        "all_labels['y_pred_RF'] = y_pred_RF\n",
        "# all_labels['y_pred_svm_nm'] = y_pred_svm_nm\n",
        "# all_labels[['y_pred_DT','Agglomerative_min_labels','Agglomerative_max_labels']]=independent_variables[['Agglomerative_labels','Agglomerative_min_labels','Agglomerative_max_labels']]"
      ]
    },
    {
      "cell_type": "code",
      "execution_count": null,
      "metadata": {
        "id": "kTrAk5MaOpB-"
      },
      "outputs": [],
      "source": [
        "data = [\n",
        "{'Algorithm':'Decision Tree without resampling' ,'Accuracy':0.76333688983729,'Precision':0.7623049559359242,'Recall':0.76333688983729,'F1 Score':0.7628094905920674,'Cohen Kappa Score':0.596681340983346},\n",
        "{'Algorithm':'Decision Tree with Near Miss Downsampling','Accuracy':0.22480540265282864,'Precision':0.5431846016633978,'Recall':0.22480540265282864,'F1 Score':0.2626001987113276,'Cohen Kappa Score':0.07875957091418129},\n",
        "{'Algorithm':'Decision Tree with SMOTE Upsampling','Accuracy':0.7642280365673271,'Precision':0.7725880165635359,'Recall':0.7642280365673271,'F1 Score':0.7679865604188995,'Cohen Kappa Score':0.6072223355459014},\n",
        "{'Algorithm':'Decision Tree with Near Miss Downsampling and PCA','Accuracy':0.18901606084854952,'Precision':0.5208938985991317,'Recall':0.18901606084854952,'F1 Score':0.22407231601991243,'Cohen Kappa Score':0.05972201042990921},\n",
        "{'Algorithm':'Decision Tree with SMOTE Upsampling and PCA','Accuracy':0.6911580461860537,'Precision':0.721815047933934,'Recall':0.6911580461860537,'F1 Score':0.7032986584993112,'Cohen Kappa Score':0.5045037482498997},\n",
        "{'Algorithm':'Decision Tree with Near Miss Downsampling and LDA','Accuracy':0.20474752863389833,'Precision':0.5142486750813464,'Recall':0.20474752863389833,'F1 Score':0.24971268616453107,'Cohen Kappa Score':0.05777192884677773},\n",
        "{'Algorithm':'Decsion Tree with SMOTE Upsampling and LDA','Accuracy':0.6028092339775455,'Precision':0.6746275672595141,'Recall':0.6028092339775455,'F1 Score':0.6283270075892382,'Cohen Kappa Score':0.3947227897216127},\n",
        "{'Algorithm':'KNN without resampling','Accuracy':0.7986513575337262,'Precision':0.7982935187700809,'Recall':0.7986513575337262,'F1 Score':0.7984710410835046,'Cohen Kappa Score':0.6574980649397748},\n",
        "{'Algorithm':'KNN with SMOTE Upsampling','Accuracy':0.7952666165522927,'Precision':0.801758151083889,'Recall':0.7952666165522927,'F1 Score':0.7981975830544615,'Cohen Kappa Score':0.6578269982214404},\n",
        "{'Algorithm':'KNN with Near Miss Upsampling','Accuracy':0.2325084669043058,'Precision':0.5664887557511156,'Recall':0.2325084669043058,'F1 Score':0.2688785664243745,'Cohen Kappa Score':0.09355157402001324},\n",
        "{'Algorithm':'Naive Bayes without resampling','Accuracy':0.5851439171657896,'Precision':0.4499104487639562,'Recall':0.5851439171657896,'F1 Score':0.4804411924156227,'Cohen Kappa Score':0.08074571293428756},\n",
        "{'Algorithm':'Random Forest without resampling','Accuracy':0.8089591567852438,'Precision':0.7969254562173812,'Recall':0.8089591567852438,'F1 Score':0.7986904178915076,'Cohen Kappa Score':0.6549810654516983},\n",
        "{'Algorithm':'SVM with Near Miss Downsampling','Accuracy':0.2995344213002255,'Precision':0.5123237426347645,'Recall':0.2995344213002255,'F1 Score':0.36286713356946726,'Cohen Kappa Score':0.07811063221491454}]\n",
        "performance_metrics = pd.DataFrame(data)\n",
        "performance_metrics.sort_values(by=['Accuracy', 'Cohen Kappa Score'], ascending=False)"
      ]
    },
    {
      "cell_type": "code",
      "execution_count": null,
      "metadata": {
        "id": "ToGyHYaCOpHD"
      },
      "outputs": [],
      "source": []
    },
    {
      "cell_type": "code",
      "execution_count": null,
      "metadata": {
        "id": "-Qvwt5OLRINU"
      },
      "outputs": [],
      "source": []
    },
    {
      "cell_type": "code",
      "execution_count": null,
      "metadata": {
        "id": "ko7WNTnOSEG3"
      },
      "outputs": [],
      "source": [
        "X=df.drop(columns='score', axis=1)\n",
        "Y=df['score']"
      ]
    },
    {
      "cell_type": "code",
      "execution_count": null,
      "metadata": {
        "id": "_JHhsU7BbTuU"
      },
      "outputs": [],
      "source": [
        "print(X)\n",
        "print(Y)"
      ]
    },
    {
      "cell_type": "code",
      "execution_count": null,
      "metadata": {
        "id": "iglwwTbAboyN"
      },
      "outputs": [],
      "source": []
    },
    {
      "cell_type": "code",
      "execution_count": null,
      "metadata": {
        "id": "IAnsRV5bZQe9"
      },
      "outputs": [],
      "source": []
    },
    {
      "cell_type": "code",
      "execution_count": null,
      "metadata": {
        "id": "qUi48b5Rbo86"
      },
      "outputs": [],
      "source": []
    }
  ],
  "metadata": {
    "colab": {
      "collapsed_sections": [],
      "provenance": []
    },
    "gpuClass": "standard",
    "kernelspec": {
      "display_name": "Python 3",
      "name": "python3"
    },
    "language_info": {
      "name": "python"
    }
  },
  "nbformat": 4,
  "nbformat_minor": 0
}